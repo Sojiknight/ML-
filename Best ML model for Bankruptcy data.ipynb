{
 "cells": [
  {
   "cell_type": "code",
   "execution_count": 1,
   "metadata": {},
   "outputs": [],
   "source": [
    "import pandas as pd"
   ]
  },
  {
   "cell_type": "code",
   "execution_count": 2,
   "metadata": {},
   "outputs": [],
   "source": [
    "#Read in bankruptcy data"
   ]
  },
  {
   "cell_type": "code",
   "execution_count": 3,
   "metadata": {},
   "outputs": [],
   "source": [
    "bank_data = pd.read_csv('data.csv')"
   ]
  },
  {
   "cell_type": "code",
   "execution_count": 4,
   "metadata": {},
   "outputs": [
    {
     "data": {
      "text/html": [
       "<div>\n",
       "<style scoped>\n",
       "    .dataframe tbody tr th:only-of-type {\n",
       "        vertical-align: middle;\n",
       "    }\n",
       "\n",
       "    .dataframe tbody tr th {\n",
       "        vertical-align: top;\n",
       "    }\n",
       "\n",
       "    .dataframe thead th {\n",
       "        text-align: right;\n",
       "    }\n",
       "</style>\n",
       "<table border=\"1\" class=\"dataframe\">\n",
       "  <thead>\n",
       "    <tr style=\"text-align: right;\">\n",
       "      <th></th>\n",
       "      <th>Bankrupt?</th>\n",
       "      <th>ROA(C) before interest and depreciation before interest</th>\n",
       "      <th>ROA(A) before interest and % after tax</th>\n",
       "      <th>ROA(B) before interest and depreciation after tax</th>\n",
       "      <th>Operating Gross Margin</th>\n",
       "      <th>Realized Sales Gross Margin</th>\n",
       "      <th>Operating Profit Rate</th>\n",
       "      <th>Pre-tax net Interest Rate</th>\n",
       "      <th>After-tax net Interest Rate</th>\n",
       "      <th>Non-industry income and expenditure/revenue</th>\n",
       "      <th>...</th>\n",
       "      <th>Net Income to Total Assets</th>\n",
       "      <th>Total assets to GNP price</th>\n",
       "      <th>No-credit Interval</th>\n",
       "      <th>Gross Profit to Sales</th>\n",
       "      <th>Net Income to Stockholder's Equity</th>\n",
       "      <th>Liability to Equity</th>\n",
       "      <th>Degree of Financial Leverage (DFL)</th>\n",
       "      <th>Interest Coverage Ratio (Interest expense to EBIT)</th>\n",
       "      <th>Net Income Flag</th>\n",
       "      <th>Equity to Liability</th>\n",
       "    </tr>\n",
       "  </thead>\n",
       "  <tbody>\n",
       "    <tr>\n",
       "      <th>0</th>\n",
       "      <td>1</td>\n",
       "      <td>0.370594</td>\n",
       "      <td>0.424389</td>\n",
       "      <td>0.405750</td>\n",
       "      <td>0.601457</td>\n",
       "      <td>0.601457</td>\n",
       "      <td>0.998969</td>\n",
       "      <td>0.796887</td>\n",
       "      <td>0.808809</td>\n",
       "      <td>0.302646</td>\n",
       "      <td>...</td>\n",
       "      <td>0.716845</td>\n",
       "      <td>0.009219</td>\n",
       "      <td>0.622879</td>\n",
       "      <td>0.601453</td>\n",
       "      <td>0.827890</td>\n",
       "      <td>0.290202</td>\n",
       "      <td>0.026601</td>\n",
       "      <td>0.564050</td>\n",
       "      <td>1</td>\n",
       "      <td>0.016469</td>\n",
       "    </tr>\n",
       "    <tr>\n",
       "      <th>1</th>\n",
       "      <td>1</td>\n",
       "      <td>0.464291</td>\n",
       "      <td>0.538214</td>\n",
       "      <td>0.516730</td>\n",
       "      <td>0.610235</td>\n",
       "      <td>0.610235</td>\n",
       "      <td>0.998946</td>\n",
       "      <td>0.797380</td>\n",
       "      <td>0.809301</td>\n",
       "      <td>0.303556</td>\n",
       "      <td>...</td>\n",
       "      <td>0.795297</td>\n",
       "      <td>0.008323</td>\n",
       "      <td>0.623652</td>\n",
       "      <td>0.610237</td>\n",
       "      <td>0.839969</td>\n",
       "      <td>0.283846</td>\n",
       "      <td>0.264577</td>\n",
       "      <td>0.570175</td>\n",
       "      <td>1</td>\n",
       "      <td>0.020794</td>\n",
       "    </tr>\n",
       "    <tr>\n",
       "      <th>2</th>\n",
       "      <td>1</td>\n",
       "      <td>0.426071</td>\n",
       "      <td>0.499019</td>\n",
       "      <td>0.472295</td>\n",
       "      <td>0.601450</td>\n",
       "      <td>0.601364</td>\n",
       "      <td>0.998857</td>\n",
       "      <td>0.796403</td>\n",
       "      <td>0.808388</td>\n",
       "      <td>0.302035</td>\n",
       "      <td>...</td>\n",
       "      <td>0.774670</td>\n",
       "      <td>0.040003</td>\n",
       "      <td>0.623841</td>\n",
       "      <td>0.601449</td>\n",
       "      <td>0.836774</td>\n",
       "      <td>0.290189</td>\n",
       "      <td>0.026555</td>\n",
       "      <td>0.563706</td>\n",
       "      <td>1</td>\n",
       "      <td>0.016474</td>\n",
       "    </tr>\n",
       "    <tr>\n",
       "      <th>3</th>\n",
       "      <td>1</td>\n",
       "      <td>0.399844</td>\n",
       "      <td>0.451265</td>\n",
       "      <td>0.457733</td>\n",
       "      <td>0.583541</td>\n",
       "      <td>0.583541</td>\n",
       "      <td>0.998700</td>\n",
       "      <td>0.796967</td>\n",
       "      <td>0.808966</td>\n",
       "      <td>0.303350</td>\n",
       "      <td>...</td>\n",
       "      <td>0.739555</td>\n",
       "      <td>0.003252</td>\n",
       "      <td>0.622929</td>\n",
       "      <td>0.583538</td>\n",
       "      <td>0.834697</td>\n",
       "      <td>0.281721</td>\n",
       "      <td>0.026697</td>\n",
       "      <td>0.564663</td>\n",
       "      <td>1</td>\n",
       "      <td>0.023982</td>\n",
       "    </tr>\n",
       "    <tr>\n",
       "      <th>4</th>\n",
       "      <td>1</td>\n",
       "      <td>0.465022</td>\n",
       "      <td>0.538432</td>\n",
       "      <td>0.522298</td>\n",
       "      <td>0.598783</td>\n",
       "      <td>0.598783</td>\n",
       "      <td>0.998973</td>\n",
       "      <td>0.797366</td>\n",
       "      <td>0.809304</td>\n",
       "      <td>0.303475</td>\n",
       "      <td>...</td>\n",
       "      <td>0.795016</td>\n",
       "      <td>0.003878</td>\n",
       "      <td>0.623521</td>\n",
       "      <td>0.598782</td>\n",
       "      <td>0.839973</td>\n",
       "      <td>0.278514</td>\n",
       "      <td>0.024752</td>\n",
       "      <td>0.575617</td>\n",
       "      <td>1</td>\n",
       "      <td>0.035490</td>\n",
       "    </tr>\n",
       "  </tbody>\n",
       "</table>\n",
       "<p>5 rows × 96 columns</p>\n",
       "</div>"
      ],
      "text/plain": [
       "   Bankrupt?   ROA(C) before interest and depreciation before interest  \\\n",
       "0          1                                           0.370594          \n",
       "1          1                                           0.464291          \n",
       "2          1                                           0.426071          \n",
       "3          1                                           0.399844          \n",
       "4          1                                           0.465022          \n",
       "\n",
       "    ROA(A) before interest and % after tax  \\\n",
       "0                                 0.424389   \n",
       "1                                 0.538214   \n",
       "2                                 0.499019   \n",
       "3                                 0.451265   \n",
       "4                                 0.538432   \n",
       "\n",
       "    ROA(B) before interest and depreciation after tax  \\\n",
       "0                                           0.405750    \n",
       "1                                           0.516730    \n",
       "2                                           0.472295    \n",
       "3                                           0.457733    \n",
       "4                                           0.522298    \n",
       "\n",
       "    Operating Gross Margin   Realized Sales Gross Margin  \\\n",
       "0                 0.601457                      0.601457   \n",
       "1                 0.610235                      0.610235   \n",
       "2                 0.601450                      0.601364   \n",
       "3                 0.583541                      0.583541   \n",
       "4                 0.598783                      0.598783   \n",
       "\n",
       "    Operating Profit Rate   Pre-tax net Interest Rate  \\\n",
       "0                0.998969                    0.796887   \n",
       "1                0.998946                    0.797380   \n",
       "2                0.998857                    0.796403   \n",
       "3                0.998700                    0.796967   \n",
       "4                0.998973                    0.797366   \n",
       "\n",
       "    After-tax net Interest Rate   Non-industry income and expenditure/revenue  \\\n",
       "0                      0.808809                                      0.302646   \n",
       "1                      0.809301                                      0.303556   \n",
       "2                      0.808388                                      0.302035   \n",
       "3                      0.808966                                      0.303350   \n",
       "4                      0.809304                                      0.303475   \n",
       "\n",
       "   ...   Net Income to Total Assets   Total assets to GNP price  \\\n",
       "0  ...                     0.716845                    0.009219   \n",
       "1  ...                     0.795297                    0.008323   \n",
       "2  ...                     0.774670                    0.040003   \n",
       "3  ...                     0.739555                    0.003252   \n",
       "4  ...                     0.795016                    0.003878   \n",
       "\n",
       "    No-credit Interval   Gross Profit to Sales  \\\n",
       "0             0.622879                0.601453   \n",
       "1             0.623652                0.610237   \n",
       "2             0.623841                0.601449   \n",
       "3             0.622929                0.583538   \n",
       "4             0.623521                0.598782   \n",
       "\n",
       "    Net Income to Stockholder's Equity   Liability to Equity  \\\n",
       "0                             0.827890              0.290202   \n",
       "1                             0.839969              0.283846   \n",
       "2                             0.836774              0.290189   \n",
       "3                             0.834697              0.281721   \n",
       "4                             0.839973              0.278514   \n",
       "\n",
       "    Degree of Financial Leverage (DFL)  \\\n",
       "0                             0.026601   \n",
       "1                             0.264577   \n",
       "2                             0.026555   \n",
       "3                             0.026697   \n",
       "4                             0.024752   \n",
       "\n",
       "    Interest Coverage Ratio (Interest expense to EBIT)   Net Income Flag  \\\n",
       "0                                           0.564050                   1   \n",
       "1                                           0.570175                   1   \n",
       "2                                           0.563706                   1   \n",
       "3                                           0.564663                   1   \n",
       "4                                           0.575617                   1   \n",
       "\n",
       "    Equity to Liability  \n",
       "0              0.016469  \n",
       "1              0.020794  \n",
       "2              0.016474  \n",
       "3              0.023982  \n",
       "4              0.035490  \n",
       "\n",
       "[5 rows x 96 columns]"
      ]
     },
     "execution_count": 4,
     "metadata": {},
     "output_type": "execute_result"
    }
   ],
   "source": [
    "#Check the head of data\n",
    "bank_data.head()"
   ]
  },
  {
   "cell_type": "code",
   "execution_count": 5,
   "metadata": {
    "scrolled": false
   },
   "outputs": [
    {
     "name": "stdout",
     "output_type": "stream",
     "text": [
      "<class 'pandas.core.frame.DataFrame'>\n",
      "RangeIndex: 6819 entries, 0 to 6818\n",
      "Data columns (total 96 columns):\n",
      " #   Column                                                    Non-Null Count  Dtype  \n",
      "---  ------                                                    --------------  -----  \n",
      " 0   Bankrupt?                                                 6819 non-null   int64  \n",
      " 1    ROA(C) before interest and depreciation before interest  6819 non-null   float64\n",
      " 2    ROA(A) before interest and % after tax                   6819 non-null   float64\n",
      " 3    ROA(B) before interest and depreciation after tax        6819 non-null   float64\n",
      " 4    Operating Gross Margin                                   6819 non-null   float64\n",
      " 5    Realized Sales Gross Margin                              6819 non-null   float64\n",
      " 6    Operating Profit Rate                                    6819 non-null   float64\n",
      " 7    Pre-tax net Interest Rate                                6819 non-null   float64\n",
      " 8    After-tax net Interest Rate                              6819 non-null   float64\n",
      " 9    Non-industry income and expenditure/revenue              6819 non-null   float64\n",
      " 10   Continuous interest rate (after tax)                     6819 non-null   float64\n",
      " 11   Operating Expense Rate                                   6819 non-null   float64\n",
      " 12   Research and development expense rate                    6819 non-null   float64\n",
      " 13   Cash flow rate                                           6819 non-null   float64\n",
      " 14   Interest-bearing debt interest rate                      6819 non-null   float64\n",
      " 15   Tax rate (A)                                             6819 non-null   float64\n",
      " 16   Net Value Per Share (B)                                  6819 non-null   float64\n",
      " 17   Net Value Per Share (A)                                  6819 non-null   float64\n",
      " 18   Net Value Per Share (C)                                  6819 non-null   float64\n",
      " 19   Persistent EPS in the Last Four Seasons                  6819 non-null   float64\n",
      " 20   Cash Flow Per Share                                      6819 non-null   float64\n",
      " 21   Revenue Per Share (Yuan ¥)                               6819 non-null   float64\n",
      " 22   Operating Profit Per Share (Yuan ¥)                      6819 non-null   float64\n",
      " 23   Per Share Net profit before tax (Yuan ¥)                 6819 non-null   float64\n",
      " 24   Realized Sales Gross Profit Growth Rate                  6819 non-null   float64\n",
      " 25   Operating Profit Growth Rate                             6819 non-null   float64\n",
      " 26   After-tax Net Profit Growth Rate                         6819 non-null   float64\n",
      " 27   Regular Net Profit Growth Rate                           6819 non-null   float64\n",
      " 28   Continuous Net Profit Growth Rate                        6819 non-null   float64\n",
      " 29   Total Asset Growth Rate                                  6819 non-null   float64\n",
      " 30   Net Value Growth Rate                                    6819 non-null   float64\n",
      " 31   Total Asset Return Growth Rate Ratio                     6819 non-null   float64\n",
      " 32   Cash Reinvestment %                                      6819 non-null   float64\n",
      " 33   Current Ratio                                            6819 non-null   float64\n",
      " 34   Quick Ratio                                              6819 non-null   float64\n",
      " 35   Interest Expense Ratio                                   6819 non-null   float64\n",
      " 36   Total debt/Total net worth                               6819 non-null   float64\n",
      " 37   Debt ratio %                                             6819 non-null   float64\n",
      " 38   Net worth/Assets                                         6819 non-null   float64\n",
      " 39   Long-term fund suitability ratio (A)                     6819 non-null   float64\n",
      " 40   Borrowing dependency                                     6819 non-null   float64\n",
      " 41   Contingent liabilities/Net worth                         6819 non-null   float64\n",
      " 42   Operating profit/Paid-in capital                         6819 non-null   float64\n",
      " 43   Net profit before tax/Paid-in capital                    6819 non-null   float64\n",
      " 44   Inventory and accounts receivable/Net value              6819 non-null   float64\n",
      " 45   Total Asset Turnover                                     6819 non-null   float64\n",
      " 46   Accounts Receivable Turnover                             6819 non-null   float64\n",
      " 47   Average Collection Days                                  6819 non-null   float64\n",
      " 48   Inventory Turnover Rate (times)                          6819 non-null   float64\n",
      " 49   Fixed Assets Turnover Frequency                          6819 non-null   float64\n",
      " 50   Net Worth Turnover Rate (times)                          6819 non-null   float64\n",
      " 51   Revenue per person                                       6819 non-null   float64\n",
      " 52   Operating profit per person                              6819 non-null   float64\n",
      " 53   Allocation rate per person                               6819 non-null   float64\n",
      " 54   Working Capital to Total Assets                          6819 non-null   float64\n",
      " 55   Quick Assets/Total Assets                                6819 non-null   float64\n",
      " 56   Current Assets/Total Assets                              6819 non-null   float64\n",
      " 57   Cash/Total Assets                                        6819 non-null   float64\n",
      " 58   Quick Assets/Current Liability                           6819 non-null   float64\n",
      " 59   Cash/Current Liability                                   6819 non-null   float64\n",
      " 60   Current Liability to Assets                              6819 non-null   float64\n",
      " 61   Operating Funds to Liability                             6819 non-null   float64\n",
      " 62   Inventory/Working Capital                                6819 non-null   float64\n",
      " 63   Inventory/Current Liability                              6819 non-null   float64\n",
      " 64   Current Liabilities/Liability                            6819 non-null   float64\n",
      " 65   Working Capital/Equity                                   6819 non-null   float64\n",
      " 66   Current Liabilities/Equity                               6819 non-null   float64\n",
      " 67   Long-term Liability to Current Assets                    6819 non-null   float64\n",
      " 68   Retained Earnings to Total Assets                        6819 non-null   float64\n",
      " 69   Total income/Total expense                               6819 non-null   float64\n",
      " 70   Total expense/Assets                                     6819 non-null   float64\n",
      " 71   Current Asset Turnover Rate                              6819 non-null   float64\n",
      " 72   Quick Asset Turnover Rate                                6819 non-null   float64\n",
      " 73   Working capitcal Turnover Rate                           6819 non-null   float64\n",
      " 74   Cash Turnover Rate                                       6819 non-null   float64\n",
      " 75   Cash Flow to Sales                                       6819 non-null   float64\n",
      " 76   Fixed Assets to Assets                                   6819 non-null   float64\n",
      " 77   Current Liability to Liability                           6819 non-null   float64\n",
      " 78   Current Liability to Equity                              6819 non-null   float64\n",
      " 79   Equity to Long-term Liability                            6819 non-null   float64\n",
      " 80   Cash Flow to Total Assets                                6819 non-null   float64\n",
      " 81   Cash Flow to Liability                                   6819 non-null   float64\n",
      " 82   CFO to Assets                                            6819 non-null   float64\n",
      " 83   Cash Flow to Equity                                      6819 non-null   float64\n",
      " 84   Current Liability to Current Assets                      6819 non-null   float64\n",
      " 85   Liability-Assets Flag                                    6819 non-null   int64  \n",
      " 86   Net Income to Total Assets                               6819 non-null   float64\n",
      " 87   Total assets to GNP price                                6819 non-null   float64\n",
      " 88   No-credit Interval                                       6819 non-null   float64\n",
      " 89   Gross Profit to Sales                                    6819 non-null   float64\n",
      " 90   Net Income to Stockholder's Equity                       6819 non-null   float64\n",
      " 91   Liability to Equity                                      6819 non-null   float64\n",
      " 92   Degree of Financial Leverage (DFL)                       6819 non-null   float64\n",
      " 93   Interest Coverage Ratio (Interest expense to EBIT)       6819 non-null   float64\n",
      " 94   Net Income Flag                                          6819 non-null   int64  \n",
      " 95   Equity to Liability                                      6819 non-null   float64\n",
      "dtypes: float64(93), int64(3)\n",
      "memory usage: 5.0 MB\n"
     ]
    }
   ],
   "source": [
    "#Check the info of the data \n",
    "bank_data.info()"
   ]
  },
  {
   "cell_type": "code",
   "execution_count": 6,
   "metadata": {},
   "outputs": [
    {
     "data": {
      "text/html": [
       "<div>\n",
       "<style scoped>\n",
       "    .dataframe tbody tr th:only-of-type {\n",
       "        vertical-align: middle;\n",
       "    }\n",
       "\n",
       "    .dataframe tbody tr th {\n",
       "        vertical-align: top;\n",
       "    }\n",
       "\n",
       "    .dataframe thead th {\n",
       "        text-align: right;\n",
       "    }\n",
       "</style>\n",
       "<table border=\"1\" class=\"dataframe\">\n",
       "  <thead>\n",
       "    <tr style=\"text-align: right;\">\n",
       "      <th></th>\n",
       "      <th>Bankrupt?</th>\n",
       "      <th>ROA(C) before interest and depreciation before interest</th>\n",
       "      <th>ROA(A) before interest and % after tax</th>\n",
       "      <th>ROA(B) before interest and depreciation after tax</th>\n",
       "      <th>Operating Gross Margin</th>\n",
       "      <th>Realized Sales Gross Margin</th>\n",
       "      <th>Operating Profit Rate</th>\n",
       "      <th>Pre-tax net Interest Rate</th>\n",
       "      <th>After-tax net Interest Rate</th>\n",
       "      <th>Non-industry income and expenditure/revenue</th>\n",
       "      <th>...</th>\n",
       "      <th>Net Income to Total Assets</th>\n",
       "      <th>Total assets to GNP price</th>\n",
       "      <th>No-credit Interval</th>\n",
       "      <th>Gross Profit to Sales</th>\n",
       "      <th>Net Income to Stockholder's Equity</th>\n",
       "      <th>Liability to Equity</th>\n",
       "      <th>Degree of Financial Leverage (DFL)</th>\n",
       "      <th>Interest Coverage Ratio (Interest expense to EBIT)</th>\n",
       "      <th>Net Income Flag</th>\n",
       "      <th>Equity to Liability</th>\n",
       "    </tr>\n",
       "  </thead>\n",
       "  <tbody>\n",
       "    <tr>\n",
       "      <th>Bankrupt?</th>\n",
       "      <td>1.000000</td>\n",
       "      <td>-0.260807</td>\n",
       "      <td>-0.282941</td>\n",
       "      <td>-0.273051</td>\n",
       "      <td>-0.100043</td>\n",
       "      <td>-0.099445</td>\n",
       "      <td>-0.000230</td>\n",
       "      <td>-0.008517</td>\n",
       "      <td>-0.008857</td>\n",
       "      <td>-0.016593</td>\n",
       "      <td>...</td>\n",
       "      <td>-0.315457</td>\n",
       "      <td>0.035104</td>\n",
       "      <td>-0.005547</td>\n",
       "      <td>-0.100044</td>\n",
       "      <td>-0.180987</td>\n",
       "      <td>0.166812</td>\n",
       "      <td>0.010508</td>\n",
       "      <td>-0.005509</td>\n",
       "      <td>NaN</td>\n",
       "      <td>-0.083048</td>\n",
       "    </tr>\n",
       "    <tr>\n",
       "      <th>ROA(C) before interest and depreciation before interest</th>\n",
       "      <td>-0.260807</td>\n",
       "      <td>1.000000</td>\n",
       "      <td>0.940124</td>\n",
       "      <td>0.986849</td>\n",
       "      <td>0.334719</td>\n",
       "      <td>0.332755</td>\n",
       "      <td>0.035725</td>\n",
       "      <td>0.053419</td>\n",
       "      <td>0.049222</td>\n",
       "      <td>0.020501</td>\n",
       "      <td>...</td>\n",
       "      <td>0.887670</td>\n",
       "      <td>-0.071725</td>\n",
       "      <td>0.008135</td>\n",
       "      <td>0.334721</td>\n",
       "      <td>0.274287</td>\n",
       "      <td>-0.143629</td>\n",
       "      <td>-0.016575</td>\n",
       "      <td>0.010573</td>\n",
       "      <td>NaN</td>\n",
       "      <td>0.052416</td>\n",
       "    </tr>\n",
       "    <tr>\n",
       "      <th>ROA(A) before interest and % after tax</th>\n",
       "      <td>-0.282941</td>\n",
       "      <td>0.940124</td>\n",
       "      <td>1.000000</td>\n",
       "      <td>0.955741</td>\n",
       "      <td>0.326969</td>\n",
       "      <td>0.324956</td>\n",
       "      <td>0.032053</td>\n",
       "      <td>0.053518</td>\n",
       "      <td>0.049474</td>\n",
       "      <td>0.029649</td>\n",
       "      <td>...</td>\n",
       "      <td>0.961552</td>\n",
       "      <td>-0.098900</td>\n",
       "      <td>0.011463</td>\n",
       "      <td>0.326971</td>\n",
       "      <td>0.291744</td>\n",
       "      <td>-0.141039</td>\n",
       "      <td>-0.011515</td>\n",
       "      <td>0.013372</td>\n",
       "      <td>NaN</td>\n",
       "      <td>0.057887</td>\n",
       "    </tr>\n",
       "    <tr>\n",
       "      <th>ROA(B) before interest and depreciation after tax</th>\n",
       "      <td>-0.273051</td>\n",
       "      <td>0.986849</td>\n",
       "      <td>0.955741</td>\n",
       "      <td>1.000000</td>\n",
       "      <td>0.333749</td>\n",
       "      <td>0.331755</td>\n",
       "      <td>0.035212</td>\n",
       "      <td>0.053726</td>\n",
       "      <td>0.049952</td>\n",
       "      <td>0.022366</td>\n",
       "      <td>...</td>\n",
       "      <td>0.912040</td>\n",
       "      <td>-0.089088</td>\n",
       "      <td>0.007523</td>\n",
       "      <td>0.333750</td>\n",
       "      <td>0.280617</td>\n",
       "      <td>-0.142838</td>\n",
       "      <td>-0.014663</td>\n",
       "      <td>0.011473</td>\n",
       "      <td>NaN</td>\n",
       "      <td>0.056430</td>\n",
       "    </tr>\n",
       "    <tr>\n",
       "      <th>Operating Gross Margin</th>\n",
       "      <td>-0.100043</td>\n",
       "      <td>0.334719</td>\n",
       "      <td>0.326969</td>\n",
       "      <td>0.333749</td>\n",
       "      <td>1.000000</td>\n",
       "      <td>0.999518</td>\n",
       "      <td>0.005745</td>\n",
       "      <td>0.032493</td>\n",
       "      <td>0.027175</td>\n",
       "      <td>0.051438</td>\n",
       "      <td>...</td>\n",
       "      <td>0.300143</td>\n",
       "      <td>0.022672</td>\n",
       "      <td>0.004205</td>\n",
       "      <td>1.000000</td>\n",
       "      <td>0.075304</td>\n",
       "      <td>-0.085434</td>\n",
       "      <td>-0.011806</td>\n",
       "      <td>-0.001167</td>\n",
       "      <td>NaN</td>\n",
       "      <td>0.120029</td>\n",
       "    </tr>\n",
       "    <tr>\n",
       "      <th>...</th>\n",
       "      <td>...</td>\n",
       "      <td>...</td>\n",
       "      <td>...</td>\n",
       "      <td>...</td>\n",
       "      <td>...</td>\n",
       "      <td>...</td>\n",
       "      <td>...</td>\n",
       "      <td>...</td>\n",
       "      <td>...</td>\n",
       "      <td>...</td>\n",
       "      <td>...</td>\n",
       "      <td>...</td>\n",
       "      <td>...</td>\n",
       "      <td>...</td>\n",
       "      <td>...</td>\n",
       "      <td>...</td>\n",
       "      <td>...</td>\n",
       "      <td>...</td>\n",
       "      <td>...</td>\n",
       "      <td>...</td>\n",
       "      <td>...</td>\n",
       "    </tr>\n",
       "    <tr>\n",
       "      <th>Liability to Equity</th>\n",
       "      <td>0.166812</td>\n",
       "      <td>-0.143629</td>\n",
       "      <td>-0.141039</td>\n",
       "      <td>-0.142838</td>\n",
       "      <td>-0.085434</td>\n",
       "      <td>-0.085407</td>\n",
       "      <td>0.001541</td>\n",
       "      <td>-0.004043</td>\n",
       "      <td>-0.004390</td>\n",
       "      <td>-0.011899</td>\n",
       "      <td>...</td>\n",
       "      <td>-0.159697</td>\n",
       "      <td>0.021982</td>\n",
       "      <td>-0.003724</td>\n",
       "      <td>-0.085434</td>\n",
       "      <td>-0.791836</td>\n",
       "      <td>1.000000</td>\n",
       "      <td>0.002119</td>\n",
       "      <td>0.001487</td>\n",
       "      <td>NaN</td>\n",
       "      <td>-0.159654</td>\n",
       "    </tr>\n",
       "    <tr>\n",
       "      <th>Degree of Financial Leverage (DFL)</th>\n",
       "      <td>0.010508</td>\n",
       "      <td>-0.016575</td>\n",
       "      <td>-0.011515</td>\n",
       "      <td>-0.014663</td>\n",
       "      <td>-0.011806</td>\n",
       "      <td>-0.011268</td>\n",
       "      <td>0.000935</td>\n",
       "      <td>0.000855</td>\n",
       "      <td>0.000927</td>\n",
       "      <td>-0.000556</td>\n",
       "      <td>...</td>\n",
       "      <td>-0.010463</td>\n",
       "      <td>-0.001881</td>\n",
       "      <td>-0.008812</td>\n",
       "      <td>-0.011806</td>\n",
       "      <td>-0.000093</td>\n",
       "      <td>0.002119</td>\n",
       "      <td>1.000000</td>\n",
       "      <td>0.016513</td>\n",
       "      <td>NaN</td>\n",
       "      <td>-0.016739</td>\n",
       "    </tr>\n",
       "    <tr>\n",
       "      <th>Interest Coverage Ratio (Interest expense to EBIT)</th>\n",
       "      <td>-0.005509</td>\n",
       "      <td>0.010573</td>\n",
       "      <td>0.013372</td>\n",
       "      <td>0.011473</td>\n",
       "      <td>-0.001167</td>\n",
       "      <td>-0.001158</td>\n",
       "      <td>0.000393</td>\n",
       "      <td>0.000984</td>\n",
       "      <td>0.000957</td>\n",
       "      <td>0.001024</td>\n",
       "      <td>...</td>\n",
       "      <td>0.012746</td>\n",
       "      <td>0.000239</td>\n",
       "      <td>0.001027</td>\n",
       "      <td>-0.001169</td>\n",
       "      <td>0.005147</td>\n",
       "      <td>0.001487</td>\n",
       "      <td>0.016513</td>\n",
       "      <td>1.000000</td>\n",
       "      <td>NaN</td>\n",
       "      <td>-0.008339</td>\n",
       "    </tr>\n",
       "    <tr>\n",
       "      <th>Net Income Flag</th>\n",
       "      <td>NaN</td>\n",
       "      <td>NaN</td>\n",
       "      <td>NaN</td>\n",
       "      <td>NaN</td>\n",
       "      <td>NaN</td>\n",
       "      <td>NaN</td>\n",
       "      <td>NaN</td>\n",
       "      <td>NaN</td>\n",
       "      <td>NaN</td>\n",
       "      <td>NaN</td>\n",
       "      <td>...</td>\n",
       "      <td>NaN</td>\n",
       "      <td>NaN</td>\n",
       "      <td>NaN</td>\n",
       "      <td>NaN</td>\n",
       "      <td>NaN</td>\n",
       "      <td>NaN</td>\n",
       "      <td>NaN</td>\n",
       "      <td>NaN</td>\n",
       "      <td>NaN</td>\n",
       "      <td>NaN</td>\n",
       "    </tr>\n",
       "    <tr>\n",
       "      <th>Equity to Liability</th>\n",
       "      <td>-0.083048</td>\n",
       "      <td>0.052416</td>\n",
       "      <td>0.057887</td>\n",
       "      <td>0.056430</td>\n",
       "      <td>0.120029</td>\n",
       "      <td>0.120196</td>\n",
       "      <td>-0.017071</td>\n",
       "      <td>-0.014559</td>\n",
       "      <td>-0.010900</td>\n",
       "      <td>0.012293</td>\n",
       "      <td>...</td>\n",
       "      <td>0.073916</td>\n",
       "      <td>0.014871</td>\n",
       "      <td>0.050609</td>\n",
       "      <td>0.120027</td>\n",
       "      <td>0.029622</td>\n",
       "      <td>-0.159654</td>\n",
       "      <td>-0.016739</td>\n",
       "      <td>-0.008339</td>\n",
       "      <td>NaN</td>\n",
       "      <td>1.000000</td>\n",
       "    </tr>\n",
       "  </tbody>\n",
       "</table>\n",
       "<p>96 rows × 96 columns</p>\n",
       "</div>"
      ],
      "text/plain": [
       "                                                    Bankrupt?  \\\n",
       "Bankrupt?                                            1.000000   \n",
       " ROA(C) before interest and depreciation before...  -0.260807   \n",
       " ROA(A) before interest and % after tax             -0.282941   \n",
       " ROA(B) before interest and depreciation after tax  -0.273051   \n",
       " Operating Gross Margin                             -0.100043   \n",
       "...                                                       ...   \n",
       " Liability to Equity                                 0.166812   \n",
       " Degree of Financial Leverage (DFL)                  0.010508   \n",
       " Interest Coverage Ratio (Interest expense to E...  -0.005509   \n",
       " Net Income Flag                                          NaN   \n",
       " Equity to Liability                                -0.083048   \n",
       "\n",
       "                                                     ROA(C) before interest and depreciation before interest  \\\n",
       "Bankrupt?                                                                                   -0.260807          \n",
       " ROA(C) before interest and depreciation before...                                           1.000000          \n",
       " ROA(A) before interest and % after tax                                                      0.940124          \n",
       " ROA(B) before interest and depreciation after tax                                           0.986849          \n",
       " Operating Gross Margin                                                                      0.334719          \n",
       "...                                                                                               ...          \n",
       " Liability to Equity                                                                        -0.143629          \n",
       " Degree of Financial Leverage (DFL)                                                         -0.016575          \n",
       " Interest Coverage Ratio (Interest expense to E...                                           0.010573          \n",
       " Net Income Flag                                                                                  NaN          \n",
       " Equity to Liability                                                                         0.052416          \n",
       "\n",
       "                                                     ROA(A) before interest and % after tax  \\\n",
       "Bankrupt?                                                                         -0.282941   \n",
       " ROA(C) before interest and depreciation before...                                 0.940124   \n",
       " ROA(A) before interest and % after tax                                            1.000000   \n",
       " ROA(B) before interest and depreciation after tax                                 0.955741   \n",
       " Operating Gross Margin                                                            0.326969   \n",
       "...                                                                                     ...   \n",
       " Liability to Equity                                                              -0.141039   \n",
       " Degree of Financial Leverage (DFL)                                               -0.011515   \n",
       " Interest Coverage Ratio (Interest expense to E...                                 0.013372   \n",
       " Net Income Flag                                                                        NaN   \n",
       " Equity to Liability                                                               0.057887   \n",
       "\n",
       "                                                     ROA(B) before interest and depreciation after tax  \\\n",
       "Bankrupt?                                                                                   -0.273051    \n",
       " ROA(C) before interest and depreciation before...                                           0.986849    \n",
       " ROA(A) before interest and % after tax                                                      0.955741    \n",
       " ROA(B) before interest and depreciation after tax                                           1.000000    \n",
       " Operating Gross Margin                                                                      0.333749    \n",
       "...                                                                                               ...    \n",
       " Liability to Equity                                                                        -0.142838    \n",
       " Degree of Financial Leverage (DFL)                                                         -0.014663    \n",
       " Interest Coverage Ratio (Interest expense to E...                                           0.011473    \n",
       " Net Income Flag                                                                                  NaN    \n",
       " Equity to Liability                                                                         0.056430    \n",
       "\n",
       "                                                     Operating Gross Margin  \\\n",
       "Bankrupt?                                                         -0.100043   \n",
       " ROA(C) before interest and depreciation before...                 0.334719   \n",
       " ROA(A) before interest and % after tax                            0.326969   \n",
       " ROA(B) before interest and depreciation after tax                 0.333749   \n",
       " Operating Gross Margin                                            1.000000   \n",
       "...                                                                     ...   \n",
       " Liability to Equity                                              -0.085434   \n",
       " Degree of Financial Leverage (DFL)                               -0.011806   \n",
       " Interest Coverage Ratio (Interest expense to E...                -0.001167   \n",
       " Net Income Flag                                                        NaN   \n",
       " Equity to Liability                                               0.120029   \n",
       "\n",
       "                                                     Realized Sales Gross Margin  \\\n",
       "Bankrupt?                                                              -0.099445   \n",
       " ROA(C) before interest and depreciation before...                      0.332755   \n",
       " ROA(A) before interest and % after tax                                 0.324956   \n",
       " ROA(B) before interest and depreciation after tax                      0.331755   \n",
       " Operating Gross Margin                                                 0.999518   \n",
       "...                                                                          ...   \n",
       " Liability to Equity                                                   -0.085407   \n",
       " Degree of Financial Leverage (DFL)                                    -0.011268   \n",
       " Interest Coverage Ratio (Interest expense to E...                     -0.001158   \n",
       " Net Income Flag                                                             NaN   \n",
       " Equity to Liability                                                    0.120196   \n",
       "\n",
       "                                                     Operating Profit Rate  \\\n",
       "Bankrupt?                                                        -0.000230   \n",
       " ROA(C) before interest and depreciation before...                0.035725   \n",
       " ROA(A) before interest and % after tax                           0.032053   \n",
       " ROA(B) before interest and depreciation after tax                0.035212   \n",
       " Operating Gross Margin                                           0.005745   \n",
       "...                                                                    ...   \n",
       " Liability to Equity                                              0.001541   \n",
       " Degree of Financial Leverage (DFL)                               0.000935   \n",
       " Interest Coverage Ratio (Interest expense to E...                0.000393   \n",
       " Net Income Flag                                                       NaN   \n",
       " Equity to Liability                                             -0.017071   \n",
       "\n",
       "                                                     Pre-tax net Interest Rate  \\\n",
       "Bankrupt?                                                            -0.008517   \n",
       " ROA(C) before interest and depreciation before...                    0.053419   \n",
       " ROA(A) before interest and % after tax                               0.053518   \n",
       " ROA(B) before interest and depreciation after tax                    0.053726   \n",
       " Operating Gross Margin                                               0.032493   \n",
       "...                                                                        ...   \n",
       " Liability to Equity                                                 -0.004043   \n",
       " Degree of Financial Leverage (DFL)                                   0.000855   \n",
       " Interest Coverage Ratio (Interest expense to E...                    0.000984   \n",
       " Net Income Flag                                                           NaN   \n",
       " Equity to Liability                                                 -0.014559   \n",
       "\n",
       "                                                     After-tax net Interest Rate  \\\n",
       "Bankrupt?                                                              -0.008857   \n",
       " ROA(C) before interest and depreciation before...                      0.049222   \n",
       " ROA(A) before interest and % after tax                                 0.049474   \n",
       " ROA(B) before interest and depreciation after tax                      0.049952   \n",
       " Operating Gross Margin                                                 0.027175   \n",
       "...                                                                          ...   \n",
       " Liability to Equity                                                   -0.004390   \n",
       " Degree of Financial Leverage (DFL)                                     0.000927   \n",
       " Interest Coverage Ratio (Interest expense to E...                      0.000957   \n",
       " Net Income Flag                                                             NaN   \n",
       " Equity to Liability                                                   -0.010900   \n",
       "\n",
       "                                                     Non-industry income and expenditure/revenue  \\\n",
       "Bankrupt?                                                                              -0.016593   \n",
       " ROA(C) before interest and depreciation before...                                      0.020501   \n",
       " ROA(A) before interest and % after tax                                                 0.029649   \n",
       " ROA(B) before interest and depreciation after tax                                      0.022366   \n",
       " Operating Gross Margin                                                                 0.051438   \n",
       "...                                                                                          ...   \n",
       " Liability to Equity                                                                   -0.011899   \n",
       " Degree of Financial Leverage (DFL)                                                    -0.000556   \n",
       " Interest Coverage Ratio (Interest expense to E...                                      0.001024   \n",
       " Net Income Flag                                                                             NaN   \n",
       " Equity to Liability                                                                    0.012293   \n",
       "\n",
       "                                                    ...  \\\n",
       "Bankrupt?                                           ...   \n",
       " ROA(C) before interest and depreciation before...  ...   \n",
       " ROA(A) before interest and % after tax             ...   \n",
       " ROA(B) before interest and depreciation after tax  ...   \n",
       " Operating Gross Margin                             ...   \n",
       "...                                                 ...   \n",
       " Liability to Equity                                ...   \n",
       " Degree of Financial Leverage (DFL)                 ...   \n",
       " Interest Coverage Ratio (Interest expense to E...  ...   \n",
       " Net Income Flag                                    ...   \n",
       " Equity to Liability                                ...   \n",
       "\n",
       "                                                     Net Income to Total Assets  \\\n",
       "Bankrupt?                                                             -0.315457   \n",
       " ROA(C) before interest and depreciation before...                     0.887670   \n",
       " ROA(A) before interest and % after tax                                0.961552   \n",
       " ROA(B) before interest and depreciation after tax                     0.912040   \n",
       " Operating Gross Margin                                                0.300143   \n",
       "...                                                                         ...   \n",
       " Liability to Equity                                                  -0.159697   \n",
       " Degree of Financial Leverage (DFL)                                   -0.010463   \n",
       " Interest Coverage Ratio (Interest expense to E...                     0.012746   \n",
       " Net Income Flag                                                            NaN   \n",
       " Equity to Liability                                                   0.073916   \n",
       "\n",
       "                                                     Total assets to GNP price  \\\n",
       "Bankrupt?                                                             0.035104   \n",
       " ROA(C) before interest and depreciation before...                   -0.071725   \n",
       " ROA(A) before interest and % after tax                              -0.098900   \n",
       " ROA(B) before interest and depreciation after tax                   -0.089088   \n",
       " Operating Gross Margin                                               0.022672   \n",
       "...                                                                        ...   \n",
       " Liability to Equity                                                  0.021982   \n",
       " Degree of Financial Leverage (DFL)                                  -0.001881   \n",
       " Interest Coverage Ratio (Interest expense to E...                    0.000239   \n",
       " Net Income Flag                                                           NaN   \n",
       " Equity to Liability                                                  0.014871   \n",
       "\n",
       "                                                     No-credit Interval  \\\n",
       "Bankrupt?                                                     -0.005547   \n",
       " ROA(C) before interest and depreciation before...             0.008135   \n",
       " ROA(A) before interest and % after tax                        0.011463   \n",
       " ROA(B) before interest and depreciation after tax             0.007523   \n",
       " Operating Gross Margin                                        0.004205   \n",
       "...                                                                 ...   \n",
       " Liability to Equity                                          -0.003724   \n",
       " Degree of Financial Leverage (DFL)                           -0.008812   \n",
       " Interest Coverage Ratio (Interest expense to E...             0.001027   \n",
       " Net Income Flag                                                    NaN   \n",
       " Equity to Liability                                           0.050609   \n",
       "\n",
       "                                                     Gross Profit to Sales  \\\n",
       "Bankrupt?                                                        -0.100044   \n",
       " ROA(C) before interest and depreciation before...                0.334721   \n",
       " ROA(A) before interest and % after tax                           0.326971   \n",
       " ROA(B) before interest and depreciation after tax                0.333750   \n",
       " Operating Gross Margin                                           1.000000   \n",
       "...                                                                    ...   \n",
       " Liability to Equity                                             -0.085434   \n",
       " Degree of Financial Leverage (DFL)                              -0.011806   \n",
       " Interest Coverage Ratio (Interest expense to E...               -0.001169   \n",
       " Net Income Flag                                                       NaN   \n",
       " Equity to Liability                                              0.120027   \n",
       "\n",
       "                                                     Net Income to Stockholder's Equity  \\\n",
       "Bankrupt?                                                                     -0.180987   \n",
       " ROA(C) before interest and depreciation before...                             0.274287   \n",
       " ROA(A) before interest and % after tax                                        0.291744   \n",
       " ROA(B) before interest and depreciation after tax                             0.280617   \n",
       " Operating Gross Margin                                                        0.075304   \n",
       "...                                                                                 ...   \n",
       " Liability to Equity                                                          -0.791836   \n",
       " Degree of Financial Leverage (DFL)                                           -0.000093   \n",
       " Interest Coverage Ratio (Interest expense to E...                             0.005147   \n",
       " Net Income Flag                                                                    NaN   \n",
       " Equity to Liability                                                           0.029622   \n",
       "\n",
       "                                                     Liability to Equity  \\\n",
       "Bankrupt?                                                       0.166812   \n",
       " ROA(C) before interest and depreciation before...             -0.143629   \n",
       " ROA(A) before interest and % after tax                        -0.141039   \n",
       " ROA(B) before interest and depreciation after tax             -0.142838   \n",
       " Operating Gross Margin                                        -0.085434   \n",
       "...                                                                  ...   \n",
       " Liability to Equity                                            1.000000   \n",
       " Degree of Financial Leverage (DFL)                             0.002119   \n",
       " Interest Coverage Ratio (Interest expense to E...              0.001487   \n",
       " Net Income Flag                                                     NaN   \n",
       " Equity to Liability                                           -0.159654   \n",
       "\n",
       "                                                     Degree of Financial Leverage (DFL)  \\\n",
       "Bankrupt?                                                                      0.010508   \n",
       " ROA(C) before interest and depreciation before...                            -0.016575   \n",
       " ROA(A) before interest and % after tax                                       -0.011515   \n",
       " ROA(B) before interest and depreciation after tax                            -0.014663   \n",
       " Operating Gross Margin                                                       -0.011806   \n",
       "...                                                                                 ...   \n",
       " Liability to Equity                                                           0.002119   \n",
       " Degree of Financial Leverage (DFL)                                            1.000000   \n",
       " Interest Coverage Ratio (Interest expense to E...                             0.016513   \n",
       " Net Income Flag                                                                    NaN   \n",
       " Equity to Liability                                                          -0.016739   \n",
       "\n",
       "                                                     Interest Coverage Ratio (Interest expense to EBIT)  \\\n",
       "Bankrupt?                                                                                   -0.005509     \n",
       " ROA(C) before interest and depreciation before...                                           0.010573     \n",
       " ROA(A) before interest and % after tax                                                      0.013372     \n",
       " ROA(B) before interest and depreciation after tax                                           0.011473     \n",
       " Operating Gross Margin                                                                     -0.001167     \n",
       "...                                                                                               ...     \n",
       " Liability to Equity                                                                         0.001487     \n",
       " Degree of Financial Leverage (DFL)                                                          0.016513     \n",
       " Interest Coverage Ratio (Interest expense to E...                                           1.000000     \n",
       " Net Income Flag                                                                                  NaN     \n",
       " Equity to Liability                                                                        -0.008339     \n",
       "\n",
       "                                                     Net Income Flag  \\\n",
       "Bankrupt?                                                        NaN   \n",
       " ROA(C) before interest and depreciation before...               NaN   \n",
       " ROA(A) before interest and % after tax                          NaN   \n",
       " ROA(B) before interest and depreciation after tax               NaN   \n",
       " Operating Gross Margin                                          NaN   \n",
       "...                                                              ...   \n",
       " Liability to Equity                                             NaN   \n",
       " Degree of Financial Leverage (DFL)                              NaN   \n",
       " Interest Coverage Ratio (Interest expense to E...               NaN   \n",
       " Net Income Flag                                                 NaN   \n",
       " Equity to Liability                                             NaN   \n",
       "\n",
       "                                                     Equity to Liability  \n",
       "Bankrupt?                                                      -0.083048  \n",
       " ROA(C) before interest and depreciation before...              0.052416  \n",
       " ROA(A) before interest and % after tax                         0.057887  \n",
       " ROA(B) before interest and depreciation after tax              0.056430  \n",
       " Operating Gross Margin                                         0.120029  \n",
       "...                                                                  ...  \n",
       " Liability to Equity                                           -0.159654  \n",
       " Degree of Financial Leverage (DFL)                            -0.016739  \n",
       " Interest Coverage Ratio (Interest expense to E...             -0.008339  \n",
       " Net Income Flag                                                     NaN  \n",
       " Equity to Liability                                            1.000000  \n",
       "\n",
       "[96 rows x 96 columns]"
      ]
     },
     "execution_count": 6,
     "metadata": {},
     "output_type": "execute_result"
    }
   ],
   "source": [
    "#How do the features correlate\n",
    "bank_data.corr()"
   ]
  },
  {
   "cell_type": "code",
   "execution_count": 7,
   "metadata": {},
   "outputs": [
    {
     "data": {
      "text/plain": [
       "Index(['Bankrupt?', ' ROA(C) before interest and depreciation before interest',\n",
       "       ' ROA(A) before interest and % after tax',\n",
       "       ' ROA(B) before interest and depreciation after tax',\n",
       "       ' Operating Gross Margin', ' Realized Sales Gross Margin',\n",
       "       ' Operating Profit Rate', ' Pre-tax net Interest Rate',\n",
       "       ' After-tax net Interest Rate',\n",
       "       ' Non-industry income and expenditure/revenue',\n",
       "       ' Continuous interest rate (after tax)', ' Operating Expense Rate',\n",
       "       ' Research and development expense rate', ' Cash flow rate',\n",
       "       ' Interest-bearing debt interest rate', ' Tax rate (A)',\n",
       "       ' Net Value Per Share (B)', ' Net Value Per Share (A)',\n",
       "       ' Net Value Per Share (C)', ' Persistent EPS in the Last Four Seasons',\n",
       "       ' Cash Flow Per Share', ' Revenue Per Share (Yuan ¥)',\n",
       "       ' Operating Profit Per Share (Yuan ¥)',\n",
       "       ' Per Share Net profit before tax (Yuan ¥)',\n",
       "       ' Realized Sales Gross Profit Growth Rate',\n",
       "       ' Operating Profit Growth Rate', ' After-tax Net Profit Growth Rate',\n",
       "       ' Regular Net Profit Growth Rate', ' Continuous Net Profit Growth Rate',\n",
       "       ' Total Asset Growth Rate', ' Net Value Growth Rate',\n",
       "       ' Total Asset Return Growth Rate Ratio', ' Cash Reinvestment %',\n",
       "       ' Current Ratio', ' Quick Ratio', ' Interest Expense Ratio',\n",
       "       ' Total debt/Total net worth', ' Debt ratio %', ' Net worth/Assets',\n",
       "       ' Long-term fund suitability ratio (A)', ' Borrowing dependency',\n",
       "       ' Contingent liabilities/Net worth',\n",
       "       ' Operating profit/Paid-in capital',\n",
       "       ' Net profit before tax/Paid-in capital',\n",
       "       ' Inventory and accounts receivable/Net value', ' Total Asset Turnover',\n",
       "       ' Accounts Receivable Turnover', ' Average Collection Days',\n",
       "       ' Inventory Turnover Rate (times)', ' Fixed Assets Turnover Frequency',\n",
       "       ' Net Worth Turnover Rate (times)', ' Revenue per person',\n",
       "       ' Operating profit per person', ' Allocation rate per person',\n",
       "       ' Working Capital to Total Assets', ' Quick Assets/Total Assets',\n",
       "       ' Current Assets/Total Assets', ' Cash/Total Assets',\n",
       "       ' Quick Assets/Current Liability', ' Cash/Current Liability',\n",
       "       ' Current Liability to Assets', ' Operating Funds to Liability',\n",
       "       ' Inventory/Working Capital', ' Inventory/Current Liability',\n",
       "       ' Current Liabilities/Liability', ' Working Capital/Equity',\n",
       "       ' Current Liabilities/Equity', ' Long-term Liability to Current Assets',\n",
       "       ' Retained Earnings to Total Assets', ' Total income/Total expense',\n",
       "       ' Total expense/Assets', ' Current Asset Turnover Rate',\n",
       "       ' Quick Asset Turnover Rate', ' Working capitcal Turnover Rate',\n",
       "       ' Cash Turnover Rate', ' Cash Flow to Sales', ' Fixed Assets to Assets',\n",
       "       ' Current Liability to Liability', ' Current Liability to Equity',\n",
       "       ' Equity to Long-term Liability', ' Cash Flow to Total Assets',\n",
       "       ' Cash Flow to Liability', ' CFO to Assets', ' Cash Flow to Equity',\n",
       "       ' Current Liability to Current Assets', ' Liability-Assets Flag',\n",
       "       ' Net Income to Total Assets', ' Total assets to GNP price',\n",
       "       ' No-credit Interval', ' Gross Profit to Sales',\n",
       "       ' Net Income to Stockholder's Equity', ' Liability to Equity',\n",
       "       ' Degree of Financial Leverage (DFL)',\n",
       "       ' Interest Coverage Ratio (Interest expense to EBIT)',\n",
       "       ' Net Income Flag', ' Equity to Liability'],\n",
       "      dtype='object')"
      ]
     },
     "execution_count": 7,
     "metadata": {},
     "output_type": "execute_result"
    }
   ],
   "source": [
    "#Let's have a look at what the features are\n",
    "bank_data.columns"
   ]
  },
  {
   "cell_type": "code",
   "execution_count": 8,
   "metadata": {},
   "outputs": [],
   "source": [
    "#Lets do some modelling. We will be attempting KNN, Descision Trees, Random Forest and SVM\\\n",
    "#The goal is to search for the best accuracy"
   ]
  },
  {
   "cell_type": "code",
   "execution_count": 9,
   "metadata": {},
   "outputs": [],
   "source": [
    "#Lets check KNN out "
   ]
  },
  {
   "cell_type": "code",
   "execution_count": 10,
   "metadata": {},
   "outputs": [],
   "source": [
    "from sklearn.model_selection import train_test_split"
   ]
  },
  {
   "cell_type": "code",
   "execution_count": 11,
   "metadata": {},
   "outputs": [],
   "source": [
    "X = bank_data.drop('Bankrupt?', axis=1)\n",
    "\n",
    "y = bank_data['Bankrupt?']\n",
    "\n",
    "X_train, X_test, y_train, y_test = train_test_split(X, y, test_size=0.3, random_state=42)"
   ]
  },
  {
   "cell_type": "code",
   "execution_count": 12,
   "metadata": {},
   "outputs": [],
   "source": [
    "from sklearn.neighbors import KNeighborsClassifier"
   ]
  },
  {
   "cell_type": "code",
   "execution_count": 13,
   "metadata": {},
   "outputs": [],
   "source": [
    "bank_knn = KNeighborsClassifier()"
   ]
  },
  {
   "cell_type": "code",
   "execution_count": 14,
   "metadata": {},
   "outputs": [
    {
     "data": {
      "text/plain": [
       "KNeighborsClassifier()"
      ]
     },
     "execution_count": 14,
     "metadata": {},
     "output_type": "execute_result"
    }
   ],
   "source": [
    "bank_knn.fit(X_train,y_train)"
   ]
  },
  {
   "cell_type": "code",
   "execution_count": 15,
   "metadata": {},
   "outputs": [],
   "source": [
    "bank_knn_pred = bank_knn.predict(X_test)"
   ]
  },
  {
   "cell_type": "code",
   "execution_count": 16,
   "metadata": {},
   "outputs": [],
   "source": [
    "from sklearn.metrics import confusion_matrix,classification_report"
   ]
  },
  {
   "cell_type": "code",
   "execution_count": 17,
   "metadata": {},
   "outputs": [
    {
     "name": "stdout",
     "output_type": "stream",
     "text": [
      "[[1966    2]\n",
      " [  77    1]]\n",
      "\n",
      "\n",
      "              precision    recall  f1-score   support\n",
      "\n",
      "           0       0.96      1.00      0.98      1968\n",
      "           1       0.33      0.01      0.02        78\n",
      "\n",
      "    accuracy                           0.96      2046\n",
      "   macro avg       0.65      0.51      0.50      2046\n",
      "weighted avg       0.94      0.96      0.94      2046\n",
      "\n"
     ]
    }
   ],
   "source": [
    "print(confusion_matrix(y_test,bank_knn_pred))\n",
    "print('\\n')\n",
    "print(classification_report(y_test,bank_knn_pred))"
   ]
  },
  {
   "cell_type": "code",
   "execution_count": null,
   "metadata": {},
   "outputs": [],
   "source": []
  },
  {
   "cell_type": "code",
   "execution_count": 18,
   "metadata": {},
   "outputs": [],
   "source": [
    "#Let's see if we can get better k-values"
   ]
  },
  {
   "cell_type": "code",
   "execution_count": 19,
   "metadata": {},
   "outputs": [],
   "source": [
    "import numpy as np"
   ]
  },
  {
   "cell_type": "code",
   "execution_count": 20,
   "metadata": {},
   "outputs": [],
   "source": [
    "error_rate = []\n",
    "\n",
    "for i in range(1,40):\n",
    "    bank_knn = KNeighborsClassifier(n_neighbors=i)\n",
    "    bank_knn.fit(X_train,y_train)\n",
    "    pred_i = bank_knn.predict(X_test)\n",
    "    error_rate.append(np.mean(pred_i != y_test))"
   ]
  },
  {
   "cell_type": "code",
   "execution_count": 21,
   "metadata": {},
   "outputs": [
    {
     "data": {
      "text/plain": [
       "[0.056695992179863146,\n",
       " 0.04056695992179863,\n",
       " 0.04349951124144673,\n",
       " 0.0386119257086999,\n",
       " 0.0386119257086999,\n",
       " 0.0386119257086999,\n",
       " 0.0386119257086999,\n",
       " 0.03812316715542522,\n",
       " 0.03812316715542522,\n",
       " 0.03812316715542522,\n",
       " 0.03812316715542522,\n",
       " 0.03812316715542522,\n",
       " 0.03812316715542522,\n",
       " 0.03812316715542522,\n",
       " 0.03812316715542522,\n",
       " 0.03812316715542522,\n",
       " 0.03812316715542522,\n",
       " 0.03812316715542522,\n",
       " 0.03812316715542522,\n",
       " 0.03812316715542522,\n",
       " 0.03812316715542522,\n",
       " 0.03812316715542522,\n",
       " 0.03812316715542522,\n",
       " 0.03812316715542522,\n",
       " 0.03812316715542522,\n",
       " 0.03812316715542522,\n",
       " 0.03812316715542522,\n",
       " 0.03812316715542522,\n",
       " 0.03812316715542522,\n",
       " 0.03812316715542522,\n",
       " 0.03812316715542522,\n",
       " 0.03812316715542522,\n",
       " 0.03812316715542522,\n",
       " 0.03812316715542522,\n",
       " 0.03812316715542522,\n",
       " 0.03812316715542522,\n",
       " 0.03812316715542522,\n",
       " 0.03812316715542522,\n",
       " 0.03812316715542522]"
      ]
     },
     "execution_count": 21,
     "metadata": {},
     "output_type": "execute_result"
    }
   ],
   "source": [
    "error_rate"
   ]
  },
  {
   "cell_type": "code",
   "execution_count": 22,
   "metadata": {},
   "outputs": [],
   "source": [
    "#Lets import our visualization libraries to check out the error_rate vs K-values"
   ]
  },
  {
   "cell_type": "code",
   "execution_count": 23,
   "metadata": {},
   "outputs": [],
   "source": [
    "import matplotlib.pyplot as plt\n",
    "import seaborn as sns\n",
    "sns.set_style('darkgrid')\n",
    "%matplotlib inline"
   ]
  },
  {
   "cell_type": "code",
   "execution_count": 24,
   "metadata": {},
   "outputs": [
    {
     "data": {
      "text/plain": [
       "[<matplotlib.lines.Line2D at 0x1762a6a4910>]"
      ]
     },
     "execution_count": 24,
     "metadata": {},
     "output_type": "execute_result"
    },
    {
     "data": {
      "image/png": "[encoded data removed]",
      "text/plain": [
       "<Figure size 1440x1008 with 1 Axes>"
      ]
     },
     "metadata": {
      "needs_background": "light"
     },
     "output_type": "display_data"
    }
   ],
   "source": [
    "plt.figure(figsize=(20,14))\n",
    "plt.plot(range(1,40),error_rate,color='b',ls='--',lw=3,markersize=5,marker='o',markerfacecolor='r')"
   ]
  },
  {
   "cell_type": "code",
   "execution_count": 25,
   "metadata": {},
   "outputs": [],
   "source": [
    "#From our plot, 10 will suffice as n_neighbors\n",
    "#refitting the model "
   ]
  },
  {
   "cell_type": "code",
   "execution_count": 26,
   "metadata": {},
   "outputs": [],
   "source": [
    "bank_knn_refit = KNeighborsClassifier(n_neighbors=10)"
   ]
  },
  {
   "cell_type": "code",
   "execution_count": 27,
   "metadata": {},
   "outputs": [
    {
     "data": {
      "text/plain": [
       "KNeighborsClassifier(n_neighbors=10)"
      ]
     },
     "execution_count": 27,
     "metadata": {},
     "output_type": "execute_result"
    }
   ],
   "source": [
    "bank_knn_refit.fit(X_train,y_train)"
   ]
  },
  {
   "cell_type": "code",
   "execution_count": 28,
   "metadata": {},
   "outputs": [],
   "source": [
    "bank_knn_refit_pred = bank_knn_refit.predict(X_test)"
   ]
  },
  {
   "cell_type": "code",
   "execution_count": 29,
   "metadata": {},
   "outputs": [],
   "source": [
    "#Let's import the two confusion matrices and classification reports and compare\n",
    "#First one is from original KNN model and second one is from refit model"
   ]
  },
  {
   "cell_type": "code",
   "execution_count": 30,
   "metadata": {},
   "outputs": [
    {
     "name": "stdout",
     "output_type": "stream",
     "text": [
      "[[1966    2]\n",
      " [  77    1]]\n",
      "\n",
      "\n",
      "[[1968    0]\n",
      " [  78    0]]\n"
     ]
    }
   ],
   "source": [
    "print(confusion_matrix(y_test,bank_knn_pred))\n",
    "print('\\n')\n",
    "print(confusion_matrix(y_test,bank_knn_refit_pred))"
   ]
  },
  {
   "cell_type": "code",
   "execution_count": 31,
   "metadata": {},
   "outputs": [
    {
     "name": "stdout",
     "output_type": "stream",
     "text": [
      "              precision    recall  f1-score   support\n",
      "\n",
      "           0       0.96      1.00      0.98      1968\n",
      "           1       0.33      0.01      0.02        78\n",
      "\n",
      "    accuracy                           0.96      2046\n",
      "   macro avg       0.65      0.51      0.50      2046\n",
      "weighted avg       0.94      0.96      0.94      2046\n",
      "\n",
      "\n",
      "\n",
      "              precision    recall  f1-score   support\n",
      "\n",
      "           0       0.96      1.00      0.98      1968\n",
      "           1       0.00      0.00      0.00        78\n",
      "\n",
      "    accuracy                           0.96      2046\n",
      "   macro avg       0.48      0.50      0.49      2046\n",
      "weighted avg       0.93      0.96      0.94      2046\n",
      "\n"
     ]
    },
    {
     "name": "stderr",
     "output_type": "stream",
     "text": [
      "C:\\ProgramData\\Anaconda3\\lib\\site-packages\\sklearn\\metrics\\_classification.py:1221: UndefinedMetricWarning: Precision and F-score are ill-defined and being set to 0.0 in labels with no predicted samples. Use `zero_division` parameter to control this behavior.\n",
      "  _warn_prf(average, modifier, msg_start, len(result))\n"
     ]
    }
   ],
   "source": [
    "print(classification_report(y_test,bank_knn_pred))\n",
    "print('\\n')\n",
    "print(classification_report(y_test,bank_knn_refit_pred))"
   ]
  },
  {
   "cell_type": "code",
   "execution_count": 32,
   "metadata": {},
   "outputs": [
    {
     "data": {
      "text/plain": [
       "0    6599\n",
       "1     220\n",
       "Name: Bankrupt?, dtype: int64"
      ]
     },
     "execution_count": 32,
     "metadata": {},
     "output_type": "execute_result"
    }
   ],
   "source": [
    "bank_data['Bankrupt?'].value_counts()"
   ]
  },
  {
   "cell_type": "code",
   "execution_count": 33,
   "metadata": {},
   "outputs": [],
   "source": [
    "#Something we notice is the ratio of 1 to 0 is very low therefore the model has a hard time accurately gauging for 1's"
   ]
  },
  {
   "cell_type": "code",
   "execution_count": 34,
   "metadata": {},
   "outputs": [],
   "source": [
    "#Also, we discover that tuning the model barely changed the accuracy, this is because the accuracy was alreeady very high to begin with\n",
    "#For the sake of the practice, let's take the acuracy of the KNN model to be 96%"
   ]
  },
  {
   "cell_type": "code",
   "execution_count": null,
   "metadata": {},
   "outputs": [],
   "source": []
  },
  {
   "cell_type": "code",
   "execution_count": 35,
   "metadata": {},
   "outputs": [],
   "source": [
    "#Lets move on to the next model, Decision trees"
   ]
  },
  {
   "cell_type": "code",
   "execution_count": 36,
   "metadata": {},
   "outputs": [
    {
     "data": {
      "text/html": [
       "<div>\n",
       "<style scoped>\n",
       "    .dataframe tbody tr th:only-of-type {\n",
       "        vertical-align: middle;\n",
       "    }\n",
       "\n",
       "    .dataframe tbody tr th {\n",
       "        vertical-align: top;\n",
       "    }\n",
       "\n",
       "    .dataframe thead th {\n",
       "        text-align: right;\n",
       "    }\n",
       "</style>\n",
       "<table border=\"1\" class=\"dataframe\">\n",
       "  <thead>\n",
       "    <tr style=\"text-align: right;\">\n",
       "      <th></th>\n",
       "      <th>Bankrupt?</th>\n",
       "      <th>ROA(C) before interest and depreciation before interest</th>\n",
       "      <th>ROA(A) before interest and % after tax</th>\n",
       "      <th>ROA(B) before interest and depreciation after tax</th>\n",
       "      <th>Operating Gross Margin</th>\n",
       "      <th>Realized Sales Gross Margin</th>\n",
       "      <th>Operating Profit Rate</th>\n",
       "      <th>Pre-tax net Interest Rate</th>\n",
       "      <th>After-tax net Interest Rate</th>\n",
       "      <th>Non-industry income and expenditure/revenue</th>\n",
       "      <th>...</th>\n",
       "      <th>Net Income to Total Assets</th>\n",
       "      <th>Total assets to GNP price</th>\n",
       "      <th>No-credit Interval</th>\n",
       "      <th>Gross Profit to Sales</th>\n",
       "      <th>Net Income to Stockholder's Equity</th>\n",
       "      <th>Liability to Equity</th>\n",
       "      <th>Degree of Financial Leverage (DFL)</th>\n",
       "      <th>Interest Coverage Ratio (Interest expense to EBIT)</th>\n",
       "      <th>Net Income Flag</th>\n",
       "      <th>Equity to Liability</th>\n",
       "    </tr>\n",
       "  </thead>\n",
       "  <tbody>\n",
       "    <tr>\n",
       "      <th>0</th>\n",
       "      <td>1</td>\n",
       "      <td>0.370594</td>\n",
       "      <td>0.424389</td>\n",
       "      <td>0.405750</td>\n",
       "      <td>0.601457</td>\n",
       "      <td>0.601457</td>\n",
       "      <td>0.998969</td>\n",
       "      <td>0.796887</td>\n",
       "      <td>0.808809</td>\n",
       "      <td>0.302646</td>\n",
       "      <td>...</td>\n",
       "      <td>0.716845</td>\n",
       "      <td>0.009219</td>\n",
       "      <td>0.622879</td>\n",
       "      <td>0.601453</td>\n",
       "      <td>0.827890</td>\n",
       "      <td>0.290202</td>\n",
       "      <td>0.026601</td>\n",
       "      <td>0.564050</td>\n",
       "      <td>1</td>\n",
       "      <td>0.016469</td>\n",
       "    </tr>\n",
       "    <tr>\n",
       "      <th>1</th>\n",
       "      <td>1</td>\n",
       "      <td>0.464291</td>\n",
       "      <td>0.538214</td>\n",
       "      <td>0.516730</td>\n",
       "      <td>0.610235</td>\n",
       "      <td>0.610235</td>\n",
       "      <td>0.998946</td>\n",
       "      <td>0.797380</td>\n",
       "      <td>0.809301</td>\n",
       "      <td>0.303556</td>\n",
       "      <td>...</td>\n",
       "      <td>0.795297</td>\n",
       "      <td>0.008323</td>\n",
       "      <td>0.623652</td>\n",
       "      <td>0.610237</td>\n",
       "      <td>0.839969</td>\n",
       "      <td>0.283846</td>\n",
       "      <td>0.264577</td>\n",
       "      <td>0.570175</td>\n",
       "      <td>1</td>\n",
       "      <td>0.020794</td>\n",
       "    </tr>\n",
       "    <tr>\n",
       "      <th>2</th>\n",
       "      <td>1</td>\n",
       "      <td>0.426071</td>\n",
       "      <td>0.499019</td>\n",
       "      <td>0.472295</td>\n",
       "      <td>0.601450</td>\n",
       "      <td>0.601364</td>\n",
       "      <td>0.998857</td>\n",
       "      <td>0.796403</td>\n",
       "      <td>0.808388</td>\n",
       "      <td>0.302035</td>\n",
       "      <td>...</td>\n",
       "      <td>0.774670</td>\n",
       "      <td>0.040003</td>\n",
       "      <td>0.623841</td>\n",
       "      <td>0.601449</td>\n",
       "      <td>0.836774</td>\n",
       "      <td>0.290189</td>\n",
       "      <td>0.026555</td>\n",
       "      <td>0.563706</td>\n",
       "      <td>1</td>\n",
       "      <td>0.016474</td>\n",
       "    </tr>\n",
       "  </tbody>\n",
       "</table>\n",
       "<p>3 rows × 96 columns</p>\n",
       "</div>"
      ],
      "text/plain": [
       "   Bankrupt?   ROA(C) before interest and depreciation before interest  \\\n",
       "0          1                                           0.370594          \n",
       "1          1                                           0.464291          \n",
       "2          1                                           0.426071          \n",
       "\n",
       "    ROA(A) before interest and % after tax  \\\n",
       "0                                 0.424389   \n",
       "1                                 0.538214   \n",
       "2                                 0.499019   \n",
       "\n",
       "    ROA(B) before interest and depreciation after tax  \\\n",
       "0                                           0.405750    \n",
       "1                                           0.516730    \n",
       "2                                           0.472295    \n",
       "\n",
       "    Operating Gross Margin   Realized Sales Gross Margin  \\\n",
       "0                 0.601457                      0.601457   \n",
       "1                 0.610235                      0.610235   \n",
       "2                 0.601450                      0.601364   \n",
       "\n",
       "    Operating Profit Rate   Pre-tax net Interest Rate  \\\n",
       "0                0.998969                    0.796887   \n",
       "1                0.998946                    0.797380   \n",
       "2                0.998857                    0.796403   \n",
       "\n",
       "    After-tax net Interest Rate   Non-industry income and expenditure/revenue  \\\n",
       "0                      0.808809                                      0.302646   \n",
       "1                      0.809301                                      0.303556   \n",
       "2                      0.808388                                      0.302035   \n",
       "\n",
       "   ...   Net Income to Total Assets   Total assets to GNP price  \\\n",
       "0  ...                     0.716845                    0.009219   \n",
       "1  ...                     0.795297                    0.008323   \n",
       "2  ...                     0.774670                    0.040003   \n",
       "\n",
       "    No-credit Interval   Gross Profit to Sales  \\\n",
       "0             0.622879                0.601453   \n",
       "1             0.623652                0.610237   \n",
       "2             0.623841                0.601449   \n",
       "\n",
       "    Net Income to Stockholder's Equity   Liability to Equity  \\\n",
       "0                             0.827890              0.290202   \n",
       "1                             0.839969              0.283846   \n",
       "2                             0.836774              0.290189   \n",
       "\n",
       "    Degree of Financial Leverage (DFL)  \\\n",
       "0                             0.026601   \n",
       "1                             0.264577   \n",
       "2                             0.026555   \n",
       "\n",
       "    Interest Coverage Ratio (Interest expense to EBIT)   Net Income Flag  \\\n",
       "0                                           0.564050                   1   \n",
       "1                                           0.570175                   1   \n",
       "2                                           0.563706                   1   \n",
       "\n",
       "    Equity to Liability  \n",
       "0              0.016469  \n",
       "1              0.020794  \n",
       "2              0.016474  \n",
       "\n",
       "[3 rows x 96 columns]"
      ]
     },
     "execution_count": 36,
     "metadata": {},
     "output_type": "execute_result"
    }
   ],
   "source": [
    "bank_data.head(3)"
   ]
  },
  {
   "cell_type": "code",
   "execution_count": 37,
   "metadata": {},
   "outputs": [],
   "source": [
    "X = bank_data.drop('Bankrupt?',axis=1)\n",
    "\n",
    "y = bank_data['Bankrupt?']\n",
    "\n",
    "X_train, X_test, y_train, y_test = train_test_split(X, y, test_size=0.3, random_state=42)"
   ]
  },
  {
   "cell_type": "code",
   "execution_count": 38,
   "metadata": {},
   "outputs": [],
   "source": [
    "from sklearn.tree import DecisionTreeClassifier"
   ]
  },
  {
   "cell_type": "code",
   "execution_count": 39,
   "metadata": {},
   "outputs": [],
   "source": [
    "dtree_bank_data = DecisionTreeClassifier()"
   ]
  },
  {
   "cell_type": "code",
   "execution_count": 40,
   "metadata": {},
   "outputs": [
    {
     "data": {
      "text/plain": [
       "DecisionTreeClassifier()"
      ]
     },
     "execution_count": 40,
     "metadata": {},
     "output_type": "execute_result"
    }
   ],
   "source": [
    "dtree_bank_data.fit(X_train,y_train)"
   ]
  },
  {
   "cell_type": "code",
   "execution_count": 41,
   "metadata": {},
   "outputs": [],
   "source": [
    "pred_dtree_bank_data = dtree_bank_data.predict(X_test)"
   ]
  },
  {
   "cell_type": "code",
   "execution_count": 42,
   "metadata": {},
   "outputs": [
    {
     "name": "stdout",
     "output_type": "stream",
     "text": [
      "[[1924   44]\n",
      " [  54   24]]\n"
     ]
    }
   ],
   "source": [
    "print(confusion_matrix(y_test,pred_dtree_bank_data))"
   ]
  },
  {
   "cell_type": "code",
   "execution_count": 43,
   "metadata": {},
   "outputs": [
    {
     "name": "stdout",
     "output_type": "stream",
     "text": [
      "              precision    recall  f1-score   support\n",
      "\n",
      "           0       0.97      0.98      0.98      1968\n",
      "           1       0.35      0.31      0.33        78\n",
      "\n",
      "    accuracy                           0.95      2046\n",
      "   macro avg       0.66      0.64      0.65      2046\n",
      "weighted avg       0.95      0.95      0.95      2046\n",
      "\n"
     ]
    }
   ],
   "source": [
    "print(classification_report(y_test,pred_dtree_bank_data))"
   ]
  },
  {
   "cell_type": "code",
   "execution_count": 44,
   "metadata": {},
   "outputs": [],
   "source": [
    "#The Decision trees model comparatively to KNN gives an accuracy of 95% and we observe a better gauge of the 1's"
   ]
  },
  {
   "cell_type": "code",
   "execution_count": null,
   "metadata": {},
   "outputs": [],
   "source": []
  },
  {
   "cell_type": "code",
   "execution_count": 45,
   "metadata": {},
   "outputs": [],
   "source": [
    "#Next lets check out the RFC model "
   ]
  },
  {
   "cell_type": "code",
   "execution_count": 46,
   "metadata": {},
   "outputs": [],
   "source": [
    "from sklearn.ensemble import RandomForestClassifier"
   ]
  },
  {
   "cell_type": "code",
   "execution_count": 47,
   "metadata": {},
   "outputs": [],
   "source": [
    "rfc_bank_data = RandomForestClassifier()"
   ]
  },
  {
   "cell_type": "code",
   "execution_count": 48,
   "metadata": {},
   "outputs": [
    {
     "data": {
      "text/plain": [
       "RandomForestClassifier()"
      ]
     },
     "execution_count": 48,
     "metadata": {},
     "output_type": "execute_result"
    }
   ],
   "source": [
    "rfc_bank_data.fit(X_train,y_train)"
   ]
  },
  {
   "cell_type": "code",
   "execution_count": 49,
   "metadata": {},
   "outputs": [],
   "source": [
    "pred_rfc_bank_data = rfc_bank_data.predict(X_test)"
   ]
  },
  {
   "cell_type": "code",
   "execution_count": 50,
   "metadata": {},
   "outputs": [
    {
     "name": "stdout",
     "output_type": "stream",
     "text": [
      "[[1964    4]\n",
      " [  67   11]]\n"
     ]
    }
   ],
   "source": [
    "print(confusion_matrix(y_test,pred_rfc_bank_data))"
   ]
  },
  {
   "cell_type": "code",
   "execution_count": 51,
   "metadata": {},
   "outputs": [
    {
     "name": "stdout",
     "output_type": "stream",
     "text": [
      "              precision    recall  f1-score   support\n",
      "\n",
      "           0       0.97      1.00      0.98      1968\n",
      "           1       0.73      0.14      0.24        78\n",
      "\n",
      "    accuracy                           0.97      2046\n",
      "   macro avg       0.85      0.57      0.61      2046\n",
      "weighted avg       0.96      0.97      0.95      2046\n",
      "\n"
     ]
    }
   ],
   "source": [
    "print(classification_report(y_test,pred_rfc_bank_data))"
   ]
  },
  {
   "cell_type": "code",
   "execution_count": 52,
   "metadata": {},
   "outputs": [],
   "source": [
    "#The Random Forest model comparatively to theother models gives an accuracy of 97% and we observe a somewhat\n",
    "#better gauge of the 1's"
   ]
  },
  {
   "cell_type": "code",
   "execution_count": null,
   "metadata": {},
   "outputs": [],
   "source": []
  },
  {
   "cell_type": "code",
   "execution_count": 53,
   "metadata": {},
   "outputs": [],
   "source": [
    "#Next lets check out the SVM model "
   ]
  },
  {
   "cell_type": "code",
   "execution_count": 54,
   "metadata": {},
   "outputs": [],
   "source": [
    "from sklearn.svm import SVC"
   ]
  },
  {
   "cell_type": "code",
   "execution_count": 55,
   "metadata": {},
   "outputs": [],
   "source": [
    "svm_bank_data = SVC()"
   ]
  },
  {
   "cell_type": "code",
   "execution_count": 56,
   "metadata": {},
   "outputs": [
    {
     "data": {
      "text/plain": [
       "SVC()"
      ]
     },
     "execution_count": 56,
     "metadata": {},
     "output_type": "execute_result"
    }
   ],
   "source": [
    "svm_bank_data.fit(X_train,y_train)"
   ]
  },
  {
   "cell_type": "code",
   "execution_count": 57,
   "metadata": {},
   "outputs": [],
   "source": [
    "svm_bank_data_pred = svm_bank_data.predict(X_test)"
   ]
  },
  {
   "cell_type": "code",
   "execution_count": 58,
   "metadata": {},
   "outputs": [
    {
     "name": "stdout",
     "output_type": "stream",
     "text": [
      "[[1968    0]\n",
      " [  78    0]]\n"
     ]
    }
   ],
   "source": [
    "print(confusion_matrix(y_test,svm_bank_data_pred))"
   ]
  },
  {
   "cell_type": "code",
   "execution_count": 59,
   "metadata": {},
   "outputs": [
    {
     "name": "stdout",
     "output_type": "stream",
     "text": [
      "              precision    recall  f1-score   support\n",
      "\n",
      "           0       0.96      1.00      0.98      1968\n",
      "           1       0.00      0.00      0.00        78\n",
      "\n",
      "    accuracy                           0.96      2046\n",
      "   macro avg       0.48      0.50      0.49      2046\n",
      "weighted avg       0.93      0.96      0.94      2046\n",
      "\n"
     ]
    },
    {
     "name": "stderr",
     "output_type": "stream",
     "text": [
      "C:\\ProgramData\\Anaconda3\\lib\\site-packages\\sklearn\\metrics\\_classification.py:1221: UndefinedMetricWarning: Precision and F-score are ill-defined and being set to 0.0 in labels with no predicted samples. Use `zero_division` parameter to control this behavior.\n",
      "  _warn_prf(average, modifier, msg_start, len(result))\n"
     ]
    }
   ],
   "source": [
    "print(classification_report(y_test,svm_bank_data_pred))"
   ]
  },
  {
   "cell_type": "code",
   "execution_count": 60,
   "metadata": {},
   "outputs": [],
   "source": [
    "#SVC poor for the 1's too. Lets attempt a gridsearch to see if we can get better parameters"
   ]
  },
  {
   "cell_type": "code",
   "execution_count": 61,
   "metadata": {},
   "outputs": [],
   "source": [
    "from sklearn.model_selection import GridSearchCV"
   ]
  },
  {
   "cell_type": "code",
   "execution_count": 62,
   "metadata": {},
   "outputs": [],
   "source": [
    "grid_param = {'C':[0.1,1,10,100,1000,10000],'gamma':[1,0.1,0.001,0.0001,0.00001,0.000001]}\n",
    "\n",
    "grid_bank_data = GridSearchCV(SVC(),grid_param,verbose=10)"
   ]
  },
  {
   "cell_type": "code",
   "execution_count": 63,
   "metadata": {},
   "outputs": [
    {
     "name": "stdout",
     "output_type": "stream",
     "text": [
      "Fitting 5 folds for each of 36 candidates, totalling 180 fits\n",
      "[CV] C=0.1, gamma=1 ..................................................\n"
     ]
    },
    {
     "name": "stderr",
     "output_type": "stream",
     "text": [
      "[Parallel(n_jobs=1)]: Using backend SequentialBackend with 1 concurrent workers.\n"
     ]
    },
    {
     "name": "stdout",
     "output_type": "stream",
     "text": [
      "[CV] ...................... C=0.1, gamma=1, score=0.971, total=   4.3s\n",
      "[CV] C=0.1, gamma=1 ..................................................\n"
     ]
    },
    {
     "name": "stderr",
     "output_type": "stream",
     "text": [
      "[Parallel(n_jobs=1)]: Done   1 out of   1 | elapsed:    4.2s remaining:    0.0s\n"
     ]
    },
    {
     "name": "stdout",
     "output_type": "stream",
     "text": [
      "[CV] ...................... C=0.1, gamma=1, score=0.970, total=   4.3s\n",
      "[CV] C=0.1, gamma=1 ..................................................\n"
     ]
    },
    {
     "name": "stderr",
     "output_type": "stream",
     "text": [
      "[Parallel(n_jobs=1)]: Done   2 out of   2 | elapsed:    8.5s remaining:    0.0s\n"
     ]
    },
    {
     "name": "stdout",
     "output_type": "stream",
     "text": [
      "[CV] ...................... C=0.1, gamma=1, score=0.970, total=   4.3s\n",
      "[CV] C=0.1, gamma=1 ..................................................\n"
     ]
    },
    {
     "name": "stderr",
     "output_type": "stream",
     "text": [
      "[Parallel(n_jobs=1)]: Done   3 out of   3 | elapsed:   12.8s remaining:    0.0s\n"
     ]
    },
    {
     "name": "stdout",
     "output_type": "stream",
     "text": [
      "[CV] ...................... C=0.1, gamma=1, score=0.971, total=   4.3s\n",
      "[CV] C=0.1, gamma=1 ..................................................\n"
     ]
    },
    {
     "name": "stderr",
     "output_type": "stream",
     "text": [
      "[Parallel(n_jobs=1)]: Done   4 out of   4 | elapsed:   17.1s remaining:    0.0s\n"
     ]
    },
    {
     "name": "stdout",
     "output_type": "stream",
     "text": [
      "[CV] ...................... C=0.1, gamma=1, score=0.971, total=   4.5s\n",
      "[CV] C=0.1, gamma=0.1 ................................................\n"
     ]
    },
    {
     "name": "stderr",
     "output_type": "stream",
     "text": [
      "[Parallel(n_jobs=1)]: Done   5 out of   5 | elapsed:   21.6s remaining:    0.0s\n"
     ]
    },
    {
     "name": "stdout",
     "output_type": "stream",
     "text": [
      "[CV] .................... C=0.1, gamma=0.1, score=0.971, total=   4.4s\n",
      "[CV] C=0.1, gamma=0.1 ................................................\n"
     ]
    },
    {
     "name": "stderr",
     "output_type": "stream",
     "text": [
      "[Parallel(n_jobs=1)]: Done   6 out of   6 | elapsed:   26.0s remaining:    0.0s\n"
     ]
    },
    {
     "name": "stdout",
     "output_type": "stream",
     "text": [
      "[CV] .................... C=0.1, gamma=0.1, score=0.970, total=   4.4s\n",
      "[CV] C=0.1, gamma=0.1 ................................................\n"
     ]
    },
    {
     "name": "stderr",
     "output_type": "stream",
     "text": [
      "[Parallel(n_jobs=1)]: Done   7 out of   7 | elapsed:   30.4s remaining:    0.0s\n"
     ]
    },
    {
     "name": "stdout",
     "output_type": "stream",
     "text": [
      "[CV] .................... C=0.1, gamma=0.1, score=0.970, total=   4.3s\n",
      "[CV] C=0.1, gamma=0.1 ................................................\n"
     ]
    },
    {
     "name": "stderr",
     "output_type": "stream",
     "text": [
      "[Parallel(n_jobs=1)]: Done   8 out of   8 | elapsed:   34.7s remaining:    0.0s\n"
     ]
    },
    {
     "name": "stdout",
     "output_type": "stream",
     "text": [
      "[CV] .................... C=0.1, gamma=0.1, score=0.971, total=   4.5s\n",
      "[CV] C=0.1, gamma=0.1 ................................................\n"
     ]
    },
    {
     "name": "stderr",
     "output_type": "stream",
     "text": [
      "[Parallel(n_jobs=1)]: Done   9 out of   9 | elapsed:   39.2s remaining:    0.0s\n"
     ]
    },
    {
     "name": "stdout",
     "output_type": "stream",
     "text": [
      "[CV] .................... C=0.1, gamma=0.1, score=0.971, total=   4.4s\n",
      "[CV] C=0.1, gamma=0.001 ..............................................\n",
      "[CV] .................. C=0.1, gamma=0.001, score=0.971, total=   4.5s\n",
      "[CV] C=0.1, gamma=0.001 ..............................................\n",
      "[CV] .................. C=0.1, gamma=0.001, score=0.970, total=   4.4s\n",
      "[CV] C=0.1, gamma=0.001 ..............................................\n",
      "[CV] .................. C=0.1, gamma=0.001, score=0.970, total=   4.3s\n",
      "[CV] C=0.1, gamma=0.001 ..............................................\n",
      "[CV] .................. C=0.1, gamma=0.001, score=0.971, total=   4.4s\n",
      "[CV] C=0.1, gamma=0.001 ..............................................\n",
      "[CV] .................. C=0.1, gamma=0.001, score=0.971, total=   4.2s\n",
      "[CV] C=0.1, gamma=0.0001 .............................................\n",
      "[CV] ................. C=0.1, gamma=0.0001, score=0.971, total=   4.4s\n",
      "[CV] C=0.1, gamma=0.0001 .............................................\n",
      "[CV] ................. C=0.1, gamma=0.0001, score=0.970, total=   4.4s\n",
      "[CV] C=0.1, gamma=0.0001 .............................................\n",
      "[CV] ................. C=0.1, gamma=0.0001, score=0.970, total=   4.3s\n",
      "[CV] C=0.1, gamma=0.0001 .............................................\n",
      "[CV] ................. C=0.1, gamma=0.0001, score=0.971, total=   4.3s\n",
      "[CV] C=0.1, gamma=0.0001 .............................................\n",
      "[CV] ................. C=0.1, gamma=0.0001, score=0.971, total=   4.4s\n",
      "[CV] C=0.1, gamma=1e-05 ..............................................\n",
      "[CV] .................. C=0.1, gamma=1e-05, score=0.971, total=   4.3s\n",
      "[CV] C=0.1, gamma=1e-05 ..............................................\n",
      "[CV] .................. C=0.1, gamma=1e-05, score=0.970, total=   4.3s\n",
      "[CV] C=0.1, gamma=1e-05 ..............................................\n",
      "[CV] .................. C=0.1, gamma=1e-05, score=0.970, total=   4.3s\n",
      "[CV] C=0.1, gamma=1e-05 ..............................................\n",
      "[CV] .................. C=0.1, gamma=1e-05, score=0.971, total=   4.3s\n",
      "[CV] C=0.1, gamma=1e-05 ..............................................\n",
      "[CV] .................. C=0.1, gamma=1e-05, score=0.971, total=   4.4s\n",
      "[CV] C=0.1, gamma=1e-06 ..............................................\n",
      "[CV] .................. C=0.1, gamma=1e-06, score=0.971, total=   4.3s\n",
      "[CV] C=0.1, gamma=1e-06 ..............................................\n",
      "[CV] .................. C=0.1, gamma=1e-06, score=0.970, total=   4.7s\n",
      "[CV] C=0.1, gamma=1e-06 ..............................................\n",
      "[CV] .................. C=0.1, gamma=1e-06, score=0.970, total=   4.4s\n",
      "[CV] C=0.1, gamma=1e-06 ..............................................\n",
      "[CV] .................. C=0.1, gamma=1e-06, score=0.971, total=   4.5s\n",
      "[CV] C=0.1, gamma=1e-06 ..............................................\n",
      "[CV] .................. C=0.1, gamma=1e-06, score=0.971, total=   4.8s\n",
      "[CV] C=1, gamma=1 ....................................................\n",
      "[CV] ........................ C=1, gamma=1, score=0.971, total=   4.6s\n",
      "[CV] C=1, gamma=1 ....................................................\n",
      "[CV] ........................ C=1, gamma=1, score=0.970, total=   4.4s\n",
      "[CV] C=1, gamma=1 ....................................................\n",
      "[CV] ........................ C=1, gamma=1, score=0.970, total=   4.4s\n",
      "[CV] C=1, gamma=1 ....................................................\n",
      "[CV] ........................ C=1, gamma=1, score=0.971, total=   4.4s\n",
      "[CV] C=1, gamma=1 ....................................................\n",
      "[CV] ........................ C=1, gamma=1, score=0.971, total=   4.3s\n",
      "[CV] C=1, gamma=0.1 ..................................................\n",
      "[CV] ...................... C=1, gamma=0.1, score=0.971, total=   4.2s\n",
      "[CV] C=1, gamma=0.1 ..................................................\n",
      "[CV] ...................... C=1, gamma=0.1, score=0.970, total=   4.5s\n",
      "[CV] C=1, gamma=0.1 ..................................................\n",
      "[CV] ...................... C=1, gamma=0.1, score=0.970, total=   4.4s\n",
      "[CV] C=1, gamma=0.1 ..................................................\n",
      "[CV] ...................... C=1, gamma=0.1, score=0.971, total=   4.3s\n",
      "[CV] C=1, gamma=0.1 ..................................................\n",
      "[CV] ...................... C=1, gamma=0.1, score=0.971, total=   4.3s\n",
      "[CV] C=1, gamma=0.001 ................................................\n",
      "[CV] .................... C=1, gamma=0.001, score=0.971, total=   4.4s\n",
      "[CV] C=1, gamma=0.001 ................................................\n",
      "[CV] .................... C=1, gamma=0.001, score=0.970, total=   4.4s\n",
      "[CV] C=1, gamma=0.001 ................................................\n",
      "[CV] .................... C=1, gamma=0.001, score=0.970, total=   4.3s\n",
      "[CV] C=1, gamma=0.001 ................................................\n",
      "[CV] .................... C=1, gamma=0.001, score=0.971, total=   4.4s\n",
      "[CV] C=1, gamma=0.001 ................................................\n",
      "[CV] .................... C=1, gamma=0.001, score=0.971, total=   4.7s\n",
      "[CV] C=1, gamma=0.0001 ...............................................\n",
      "[CV] ................... C=1, gamma=0.0001, score=0.971, total=   4.8s\n",
      "[CV] C=1, gamma=0.0001 ...............................................\n",
      "[CV] ................... C=1, gamma=0.0001, score=0.970, total=   5.0s\n",
      "[CV] C=1, gamma=0.0001 ...............................................\n",
      "[CV] ................... C=1, gamma=0.0001, score=0.970, total=   4.6s\n",
      "[CV] C=1, gamma=0.0001 ...............................................\n",
      "[CV] ................... C=1, gamma=0.0001, score=0.971, total=   4.3s\n",
      "[CV] C=1, gamma=0.0001 ...............................................\n",
      "[CV] ................... C=1, gamma=0.0001, score=0.971, total=   4.2s\n",
      "[CV] C=1, gamma=1e-05 ................................................\n",
      "[CV] .................... C=1, gamma=1e-05, score=0.971, total=   4.5s\n",
      "[CV] C=1, gamma=1e-05 ................................................\n",
      "[CV] .................... C=1, gamma=1e-05, score=0.970, total=   4.3s\n",
      "[CV] C=1, gamma=1e-05 ................................................\n",
      "[CV] .................... C=1, gamma=1e-05, score=0.970, total=   4.6s\n",
      "[CV] C=1, gamma=1e-05 ................................................\n",
      "[CV] .................... C=1, gamma=1e-05, score=0.971, total=   4.3s\n",
      "[CV] C=1, gamma=1e-05 ................................................\n",
      "[CV] .................... C=1, gamma=1e-05, score=0.971, total=   4.4s\n",
      "[CV] C=1, gamma=1e-06 ................................................\n",
      "[CV] .................... C=1, gamma=1e-06, score=0.971, total=   4.6s\n",
      "[CV] C=1, gamma=1e-06 ................................................\n",
      "[CV] .................... C=1, gamma=1e-06, score=0.970, total=   4.3s\n",
      "[CV] C=1, gamma=1e-06 ................................................\n",
      "[CV] .................... C=1, gamma=1e-06, score=0.970, total=   4.2s\n",
      "[CV] C=1, gamma=1e-06 ................................................\n",
      "[CV] .................... C=1, gamma=1e-06, score=0.971, total=   4.2s\n",
      "[CV] C=1, gamma=1e-06 ................................................\n",
      "[CV] .................... C=1, gamma=1e-06, score=0.971, total=   4.3s\n",
      "[CV] C=10, gamma=1 ...................................................\n",
      "[CV] ....................... C=10, gamma=1, score=0.971, total=   4.5s\n",
      "[CV] C=10, gamma=1 ...................................................\n",
      "[CV] ....................... C=10, gamma=1, score=0.970, total=   5.0s\n",
      "[CV] C=10, gamma=1 ...................................................\n",
      "[CV] ....................... C=10, gamma=1, score=0.970, total=   5.0s\n",
      "[CV] C=10, gamma=1 ...................................................\n",
      "[CV] ....................... C=10, gamma=1, score=0.971, total=   5.0s\n",
      "[CV] C=10, gamma=1 ...................................................\n",
      "[CV] ....................... C=10, gamma=1, score=0.971, total=   5.1s\n",
      "[CV] C=10, gamma=0.1 .................................................\n",
      "[CV] ..................... C=10, gamma=0.1, score=0.971, total=   5.0s\n",
      "[CV] C=10, gamma=0.1 .................................................\n",
      "[CV] ..................... C=10, gamma=0.1, score=0.970, total=   4.9s\n",
      "[CV] C=10, gamma=0.1 .................................................\n"
     ]
    },
    {
     "name": "stdout",
     "output_type": "stream",
     "text": [
      "[CV] ..................... C=10, gamma=0.1, score=0.970, total=   4.9s\n",
      "[CV] C=10, gamma=0.1 .................................................\n",
      "[CV] ..................... C=10, gamma=0.1, score=0.971, total=   5.0s\n",
      "[CV] C=10, gamma=0.1 .................................................\n",
      "[CV] ..................... C=10, gamma=0.1, score=0.971, total=   4.5s\n",
      "[CV] C=10, gamma=0.001 ...............................................\n",
      "[CV] ................... C=10, gamma=0.001, score=0.971, total=   4.4s\n",
      "[CV] C=10, gamma=0.001 ...............................................\n",
      "[CV] ................... C=10, gamma=0.001, score=0.970, total=   4.6s\n",
      "[CV] C=10, gamma=0.001 ...............................................\n",
      "[CV] ................... C=10, gamma=0.001, score=0.970, total=   4.6s\n",
      "[CV] C=10, gamma=0.001 ...............................................\n",
      "[CV] ................... C=10, gamma=0.001, score=0.971, total=   4.7s\n",
      "[CV] C=10, gamma=0.001 ...............................................\n",
      "[CV] ................... C=10, gamma=0.001, score=0.971, total=   4.5s\n",
      "[CV] C=10, gamma=0.0001 ..............................................\n",
      "[CV] .................. C=10, gamma=0.0001, score=0.971, total=   4.8s\n",
      "[CV] C=10, gamma=0.0001 ..............................................\n",
      "[CV] .................. C=10, gamma=0.0001, score=0.970, total=   5.2s\n",
      "[CV] C=10, gamma=0.0001 ..............................................\n",
      "[CV] .................. C=10, gamma=0.0001, score=0.970, total=   5.4s\n",
      "[CV] C=10, gamma=0.0001 ..............................................\n",
      "[CV] .................. C=10, gamma=0.0001, score=0.971, total=   4.9s\n",
      "[CV] C=10, gamma=0.0001 ..............................................\n",
      "[CV] .................. C=10, gamma=0.0001, score=0.971, total=   4.7s\n",
      "[CV] C=10, gamma=1e-05 ...............................................\n",
      "[CV] ................... C=10, gamma=1e-05, score=0.971, total=   4.5s\n",
      "[CV] C=10, gamma=1e-05 ...............................................\n",
      "[CV] ................... C=10, gamma=1e-05, score=0.970, total=   4.6s\n",
      "[CV] C=10, gamma=1e-05 ...............................................\n",
      "[CV] ................... C=10, gamma=1e-05, score=0.970, total=   4.6s\n",
      "[CV] C=10, gamma=1e-05 ...............................................\n",
      "[CV] ................... C=10, gamma=1e-05, score=0.971, total=   4.3s\n",
      "[CV] C=10, gamma=1e-05 ...............................................\n",
      "[CV] ................... C=10, gamma=1e-05, score=0.971, total=   4.5s\n",
      "[CV] C=10, gamma=1e-06 ...............................................\n",
      "[CV] ................... C=10, gamma=1e-06, score=0.971, total=   4.5s\n",
      "[CV] C=10, gamma=1e-06 ...............................................\n",
      "[CV] ................... C=10, gamma=1e-06, score=0.970, total=   4.6s\n",
      "[CV] C=10, gamma=1e-06 ...............................................\n",
      "[CV] ................... C=10, gamma=1e-06, score=0.970, total=   4.4s\n",
      "[CV] C=10, gamma=1e-06 ...............................................\n",
      "[CV] ................... C=10, gamma=1e-06, score=0.971, total=   4.4s\n",
      "[CV] C=10, gamma=1e-06 ...............................................\n",
      "[CV] ................... C=10, gamma=1e-06, score=0.971, total=   4.4s\n",
      "[CV] C=100, gamma=1 ..................................................\n",
      "[CV] ...................... C=100, gamma=1, score=0.971, total=   4.4s\n",
      "[CV] C=100, gamma=1 ..................................................\n",
      "[CV] ...................... C=100, gamma=1, score=0.970, total=   4.4s\n",
      "[CV] C=100, gamma=1 ..................................................\n",
      "[CV] ...................... C=100, gamma=1, score=0.970, total=   4.4s\n",
      "[CV] C=100, gamma=1 ..................................................\n",
      "[CV] ...................... C=100, gamma=1, score=0.971, total=   4.6s\n",
      "[CV] C=100, gamma=1 ..................................................\n",
      "[CV] ...................... C=100, gamma=1, score=0.971, total=   4.5s\n",
      "[CV] C=100, gamma=0.1 ................................................\n",
      "[CV] .................... C=100, gamma=0.1, score=0.971, total=   4.5s\n",
      "[CV] C=100, gamma=0.1 ................................................\n",
      "[CV] .................... C=100, gamma=0.1, score=0.970, total=   4.5s\n",
      "[CV] C=100, gamma=0.1 ................................................\n",
      "[CV] .................... C=100, gamma=0.1, score=0.970, total=   4.5s\n",
      "[CV] C=100, gamma=0.1 ................................................\n",
      "[CV] .................... C=100, gamma=0.1, score=0.971, total=   4.5s\n",
      "[CV] C=100, gamma=0.1 ................................................\n",
      "[CV] .................... C=100, gamma=0.1, score=0.971, total=   4.3s\n",
      "[CV] C=100, gamma=0.001 ..............................................\n",
      "[CV] .................. C=100, gamma=0.001, score=0.971, total=   4.6s\n",
      "[CV] C=100, gamma=0.001 ..............................................\n",
      "[CV] .................. C=100, gamma=0.001, score=0.970, total=   4.7s\n",
      "[CV] C=100, gamma=0.001 ..............................................\n",
      "[CV] .................. C=100, gamma=0.001, score=0.970, total=   4.7s\n",
      "[CV] C=100, gamma=0.001 ..............................................\n",
      "[CV] .................. C=100, gamma=0.001, score=0.971, total=   4.7s\n",
      "[CV] C=100, gamma=0.001 ..............................................\n",
      "[CV] .................. C=100, gamma=0.001, score=0.971, total=   4.8s\n",
      "[CV] C=100, gamma=0.0001 .............................................\n",
      "[CV] ................. C=100, gamma=0.0001, score=0.971, total=   4.7s\n",
      "[CV] C=100, gamma=0.0001 .............................................\n",
      "[CV] ................. C=100, gamma=0.0001, score=0.970, total=   4.4s\n",
      "[CV] C=100, gamma=0.0001 .............................................\n",
      "[CV] ................. C=100, gamma=0.0001, score=0.970, total=   4.4s\n",
      "[CV] C=100, gamma=0.0001 .............................................\n",
      "[CV] ................. C=100, gamma=0.0001, score=0.971, total=   4.4s\n",
      "[CV] C=100, gamma=0.0001 .............................................\n",
      "[CV] ................. C=100, gamma=0.0001, score=0.971, total=   4.4s\n",
      "[CV] C=100, gamma=1e-05 ..............................................\n",
      "[CV] .................. C=100, gamma=1e-05, score=0.971, total=   4.5s\n",
      "[CV] C=100, gamma=1e-05 ..............................................\n",
      "[CV] .................. C=100, gamma=1e-05, score=0.970, total=   4.5s\n",
      "[CV] C=100, gamma=1e-05 ..............................................\n",
      "[CV] .................. C=100, gamma=1e-05, score=0.970, total=   4.4s\n",
      "[CV] C=100, gamma=1e-05 ..............................................\n",
      "[CV] .................. C=100, gamma=1e-05, score=0.971, total=   4.5s\n",
      "[CV] C=100, gamma=1e-05 ..............................................\n",
      "[CV] .................. C=100, gamma=1e-05, score=0.971, total=   4.6s\n",
      "[CV] C=100, gamma=1e-06 ..............................................\n",
      "[CV] .................. C=100, gamma=1e-06, score=0.971, total=   4.4s\n",
      "[CV] C=100, gamma=1e-06 ..............................................\n",
      "[CV] .................. C=100, gamma=1e-06, score=0.970, total=   4.4s\n",
      "[CV] C=100, gamma=1e-06 ..............................................\n",
      "[CV] .................. C=100, gamma=1e-06, score=0.970, total=   4.4s\n",
      "[CV] C=100, gamma=1e-06 ..............................................\n",
      "[CV] .................. C=100, gamma=1e-06, score=0.971, total=   4.2s\n",
      "[CV] C=100, gamma=1e-06 ..............................................\n",
      "[CV] .................. C=100, gamma=1e-06, score=0.971, total=   4.1s\n",
      "[CV] C=1000, gamma=1 .................................................\n",
      "[CV] ..................... C=1000, gamma=1, score=0.971, total=   4.1s\n",
      "[CV] C=1000, gamma=1 .................................................\n",
      "[CV] ..................... C=1000, gamma=1, score=0.970, total=   4.4s\n",
      "[CV] C=1000, gamma=1 .................................................\n",
      "[CV] ..................... C=1000, gamma=1, score=0.970, total=   4.2s\n",
      "[CV] C=1000, gamma=1 .................................................\n",
      "[CV] ..................... C=1000, gamma=1, score=0.971, total=   4.4s\n",
      "[CV] C=1000, gamma=1 .................................................\n",
      "[CV] ..................... C=1000, gamma=1, score=0.971, total=   4.1s\n",
      "[CV] C=1000, gamma=0.1 ...............................................\n"
     ]
    },
    {
     "name": "stdout",
     "output_type": "stream",
     "text": [
      "[CV] ................... C=1000, gamma=0.1, score=0.971, total=   4.2s\n",
      "[CV] C=1000, gamma=0.1 ...............................................\n",
      "[CV] ................... C=1000, gamma=0.1, score=0.970, total=   4.1s\n",
      "[CV] C=1000, gamma=0.1 ...............................................\n",
      "[CV] ................... C=1000, gamma=0.1, score=0.970, total=   4.1s\n",
      "[CV] C=1000, gamma=0.1 ...............................................\n",
      "[CV] ................... C=1000, gamma=0.1, score=0.971, total=   4.1s\n",
      "[CV] C=1000, gamma=0.1 ...............................................\n",
      "[CV] ................... C=1000, gamma=0.1, score=0.971, total=   4.2s\n",
      "[CV] C=1000, gamma=0.001 .............................................\n",
      "[CV] ................. C=1000, gamma=0.001, score=0.971, total=   4.0s\n",
      "[CV] C=1000, gamma=0.001 .............................................\n",
      "[CV] ................. C=1000, gamma=0.001, score=0.970, total=   4.1s\n",
      "[CV] C=1000, gamma=0.001 .............................................\n",
      "[CV] ................. C=1000, gamma=0.001, score=0.970, total=   4.4s\n",
      "[CV] C=1000, gamma=0.001 .............................................\n",
      "[CV] ................. C=1000, gamma=0.001, score=0.971, total=   4.2s\n",
      "[CV] C=1000, gamma=0.001 .............................................\n",
      "[CV] ................. C=1000, gamma=0.001, score=0.971, total=   4.1s\n",
      "[CV] C=1000, gamma=0.0001 ............................................\n",
      "[CV] ................ C=1000, gamma=0.0001, score=0.971, total=   4.1s\n",
      "[CV] C=1000, gamma=0.0001 ............................................\n",
      "[CV] ................ C=1000, gamma=0.0001, score=0.970, total=   4.1s\n",
      "[CV] C=1000, gamma=0.0001 ............................................\n",
      "[CV] ................ C=1000, gamma=0.0001, score=0.970, total=   4.3s\n",
      "[CV] C=1000, gamma=0.0001 ............................................\n",
      "[CV] ................ C=1000, gamma=0.0001, score=0.971, total=   4.1s\n",
      "[CV] C=1000, gamma=0.0001 ............................................\n",
      "[CV] ................ C=1000, gamma=0.0001, score=0.971, total=   4.1s\n",
      "[CV] C=1000, gamma=1e-05 .............................................\n",
      "[CV] ................. C=1000, gamma=1e-05, score=0.971, total=   4.2s\n",
      "[CV] C=1000, gamma=1e-05 .............................................\n",
      "[CV] ................. C=1000, gamma=1e-05, score=0.970, total=   4.2s\n",
      "[CV] C=1000, gamma=1e-05 .............................................\n",
      "[CV] ................. C=1000, gamma=1e-05, score=0.970, total=   4.1s\n",
      "[CV] C=1000, gamma=1e-05 .............................................\n",
      "[CV] ................. C=1000, gamma=1e-05, score=0.971, total=   4.1s\n",
      "[CV] C=1000, gamma=1e-05 .............................................\n",
      "[CV] ................. C=1000, gamma=1e-05, score=0.971, total=   4.2s\n",
      "[CV] C=1000, gamma=1e-06 .............................................\n",
      "[CV] ................. C=1000, gamma=1e-06, score=0.971, total=   4.1s\n",
      "[CV] C=1000, gamma=1e-06 .............................................\n",
      "[CV] ................. C=1000, gamma=1e-06, score=0.970, total=   4.1s\n",
      "[CV] C=1000, gamma=1e-06 .............................................\n",
      "[CV] ................. C=1000, gamma=1e-06, score=0.970, total=   4.1s\n",
      "[CV] C=1000, gamma=1e-06 .............................................\n",
      "[CV] ................. C=1000, gamma=1e-06, score=0.971, total=   4.2s\n",
      "[CV] C=1000, gamma=1e-06 .............................................\n",
      "[CV] ................. C=1000, gamma=1e-06, score=0.971, total=   4.2s\n",
      "[CV] C=10000, gamma=1 ................................................\n",
      "[CV] .................... C=10000, gamma=1, score=0.971, total=   4.1s\n",
      "[CV] C=10000, gamma=1 ................................................\n",
      "[CV] .................... C=10000, gamma=1, score=0.970, total=   4.2s\n",
      "[CV] C=10000, gamma=1 ................................................\n",
      "[CV] .................... C=10000, gamma=1, score=0.970, total=   4.3s\n",
      "[CV] C=10000, gamma=1 ................................................\n",
      "[CV] .................... C=10000, gamma=1, score=0.971, total=   4.1s\n",
      "[CV] C=10000, gamma=1 ................................................\n",
      "[CV] .................... C=10000, gamma=1, score=0.971, total=   4.1s\n",
      "[CV] C=10000, gamma=0.1 ..............................................\n",
      "[CV] .................. C=10000, gamma=0.1, score=0.971, total=   4.1s\n",
      "[CV] C=10000, gamma=0.1 ..............................................\n",
      "[CV] .................. C=10000, gamma=0.1, score=0.970, total=   4.3s\n",
      "[CV] C=10000, gamma=0.1 ..............................................\n",
      "[CV] .................. C=10000, gamma=0.1, score=0.970, total=   4.1s\n",
      "[CV] C=10000, gamma=0.1 ..............................................\n",
      "[CV] .................. C=10000, gamma=0.1, score=0.971, total=   4.1s\n",
      "[CV] C=10000, gamma=0.1 ..............................................\n",
      "[CV] .................. C=10000, gamma=0.1, score=0.971, total=   4.1s\n",
      "[CV] C=10000, gamma=0.001 ............................................\n",
      "[CV] ................ C=10000, gamma=0.001, score=0.971, total=   4.1s\n",
      "[CV] C=10000, gamma=0.001 ............................................\n",
      "[CV] ................ C=10000, gamma=0.001, score=0.970, total=   4.1s\n",
      "[CV] C=10000, gamma=0.001 ............................................\n",
      "[CV] ................ C=10000, gamma=0.001, score=0.970, total=   4.1s\n",
      "[CV] C=10000, gamma=0.001 ............................................\n",
      "[CV] ................ C=10000, gamma=0.001, score=0.971, total=   4.1s\n",
      "[CV] C=10000, gamma=0.001 ............................................\n",
      "[CV] ................ C=10000, gamma=0.001, score=0.971, total=   4.1s\n",
      "[CV] C=10000, gamma=0.0001 ...........................................\n",
      "[CV] ............... C=10000, gamma=0.0001, score=0.971, total=   4.1s\n",
      "[CV] C=10000, gamma=0.0001 ...........................................\n",
      "[CV] ............... C=10000, gamma=0.0001, score=0.970, total=   4.1s\n",
      "[CV] C=10000, gamma=0.0001 ...........................................\n",
      "[CV] ............... C=10000, gamma=0.0001, score=0.970, total=   4.2s\n",
      "[CV] C=10000, gamma=0.0001 ...........................................\n",
      "[CV] ............... C=10000, gamma=0.0001, score=0.971, total=   4.2s\n",
      "[CV] C=10000, gamma=0.0001 ...........................................\n",
      "[CV] ............... C=10000, gamma=0.0001, score=0.971, total=   4.1s\n",
      "[CV] C=10000, gamma=1e-05 ............................................\n",
      "[CV] ................ C=10000, gamma=1e-05, score=0.971, total=   4.1s\n",
      "[CV] C=10000, gamma=1e-05 ............................................\n",
      "[CV] ................ C=10000, gamma=1e-05, score=0.970, total=   4.2s\n",
      "[CV] C=10000, gamma=1e-05 ............................................\n",
      "[CV] ................ C=10000, gamma=1e-05, score=0.970, total=   4.1s\n",
      "[CV] C=10000, gamma=1e-05 ............................................\n",
      "[CV] ................ C=10000, gamma=1e-05, score=0.971, total=   4.1s\n",
      "[CV] C=10000, gamma=1e-05 ............................................\n",
      "[CV] ................ C=10000, gamma=1e-05, score=0.971, total=   4.1s\n",
      "[CV] C=10000, gamma=1e-06 ............................................\n",
      "[CV] ................ C=10000, gamma=1e-06, score=0.971, total=   4.2s\n",
      "[CV] C=10000, gamma=1e-06 ............................................\n",
      "[CV] ................ C=10000, gamma=1e-06, score=0.970, total=   4.1s\n",
      "[CV] C=10000, gamma=1e-06 ............................................\n",
      "[CV] ................ C=10000, gamma=1e-06, score=0.970, total=   4.1s\n",
      "[CV] C=10000, gamma=1e-06 ............................................\n",
      "[CV] ................ C=10000, gamma=1e-06, score=0.971, total=   4.1s\n",
      "[CV] C=10000, gamma=1e-06 ............................................\n",
      "[CV] ................ C=10000, gamma=1e-06, score=0.971, total=   4.2s\n"
     ]
    },
    {
     "name": "stderr",
     "output_type": "stream",
     "text": [
      "[Parallel(n_jobs=1)]: Done 180 out of 180 | elapsed: 13.2min finished\n"
     ]
    },
    {
     "data": {
      "text/plain": [
       "GridSearchCV(estimator=SVC(),\n",
       "             param_grid={'C': [0.1, 1, 10, 100, 1000, 10000],\n",
       "                         'gamma': [1, 0.1, 0.001, 0.0001, 1e-05, 1e-06]},\n",
       "             verbose=10)"
      ]
     },
     "execution_count": 63,
     "metadata": {},
     "output_type": "execute_result"
    }
   ],
   "source": [
    "grid_bank_data.fit(X_train,y_train)"
   ]
  },
  {
   "cell_type": "code",
   "execution_count": 64,
   "metadata": {},
   "outputs": [
    {
     "data": {
      "text/plain": [
       "SVC(C=0.1, gamma=1)"
      ]
     },
     "execution_count": 64,
     "metadata": {},
     "output_type": "execute_result"
    }
   ],
   "source": [
    "grid_bank_data.best_estimator_"
   ]
  },
  {
   "cell_type": "code",
   "execution_count": 65,
   "metadata": {},
   "outputs": [
    {
     "data": {
      "text/plain": [
       "0.9702494868670903"
      ]
     },
     "execution_count": 65,
     "metadata": {},
     "output_type": "execute_result"
    }
   ],
   "source": [
    "grid_bank_data.best_score_"
   ]
  },
  {
   "cell_type": "code",
   "execution_count": 66,
   "metadata": {},
   "outputs": [],
   "source": [
    "pred_grid_bank_data = grid_bank_data.predict(X_test)"
   ]
  },
  {
   "cell_type": "code",
   "execution_count": 67,
   "metadata": {},
   "outputs": [
    {
     "name": "stdout",
     "output_type": "stream",
     "text": [
      "[[1968    0]\n",
      " [  78    0]]\n"
     ]
    }
   ],
   "source": [
    "print(confusion_matrix(y_test,pred_grid_bank_data))"
   ]
  },
  {
   "cell_type": "code",
   "execution_count": 68,
   "metadata": {},
   "outputs": [
    {
     "name": "stdout",
     "output_type": "stream",
     "text": [
      "              precision    recall  f1-score   support\n",
      "\n",
      "           0       0.96      1.00      0.98      1968\n",
      "           1       0.00      0.00      0.00        78\n",
      "\n",
      "    accuracy                           0.96      2046\n",
      "   macro avg       0.48      0.50      0.49      2046\n",
      "weighted avg       0.93      0.96      0.94      2046\n",
      "\n"
     ]
    },
    {
     "name": "stderr",
     "output_type": "stream",
     "text": [
      "C:\\ProgramData\\Anaconda3\\lib\\site-packages\\sklearn\\metrics\\_classification.py:1221: UndefinedMetricWarning: Precision and F-score are ill-defined and being set to 0.0 in labels with no predicted samples. Use `zero_division` parameter to control this behavior.\n",
      "  _warn_prf(average, modifier, msg_start, len(result))\n"
     ]
    }
   ],
   "source": [
    "print(classification_report(y_test,pred_grid_bank_data))"
   ]
  },
  {
   "cell_type": "code",
   "execution_count": null,
   "metadata": {},
   "outputs": [],
   "source": []
  },
  {
   "cell_type": "code",
   "execution_count": 69,
   "metadata": {},
   "outputs": [],
   "source": [
    "#The best model from our test is RANDOM FOREST CLASSIFIER, an overall accuracy of 97% and  precision of 1's at 79%.\n"
   ]
  },
  {
   "cell_type": "code",
   "execution_count": null,
   "metadata": {},
   "outputs": [],
   "source": []
  }
 ],
 "metadata": {
  "kernelspec": {
   "display_name": "Python 3",
   "language": "python",
   "name": "python3"
  },
  "language_info": {
   "codemirror_mode": {
    "name": "ipython",
    "version": 3
   },
   "file_extension": ".py",
   "mimetype": "text/x-python",
   "name": "python",
   "nbconvert_exporter": "python",
   "pygments_lexer": "ipython3",
   "version": "3.8.5"
  }
 },
 "nbformat": 4,
 "nbformat_minor": 4
}
