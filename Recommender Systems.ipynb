{
 "cells": [
  {
   "cell_type": "code",
   "execution_count": 1,
   "metadata": {},
   "outputs": [],
   "source": [
    "import numpy as np \n",
    "import pandas as pd"
   ]
  },
  {
   "cell_type": "code",
   "execution_count": 2,
   "metadata": {},
   "outputs": [],
   "source": [
    "column_names = ['user_id','item_id','rating','timestamp']"
   ]
  },
  {
   "cell_type": "code",
   "execution_count": 3,
   "metadata": {},
   "outputs": [],
   "source": [
    "df = pd.read_csv('u.data',sep='\\t',names=column_names)"
   ]
  },
  {
   "cell_type": "code",
   "execution_count": 4,
   "metadata": {},
   "outputs": [
    {
     "data": {
      "text/html": [
       "<div>\n",
       "<style scoped>\n",
       "    .dataframe tbody tr th:only-of-type {\n",
       "        vertical-align: middle;\n",
       "    }\n",
       "\n",
       "    .dataframe tbody tr th {\n",
       "        vertical-align: top;\n",
       "    }\n",
       "\n",
       "    .dataframe thead th {\n",
       "        text-align: right;\n",
       "    }\n",
       "</style>\n",
       "<table border=\"1\" class=\"dataframe\">\n",
       "  <thead>\n",
       "    <tr style=\"text-align: right;\">\n",
       "      <th></th>\n",
       "      <th>user_id</th>\n",
       "      <th>item_id</th>\n",
       "      <th>rating</th>\n",
       "      <th>timestamp</th>\n",
       "    </tr>\n",
       "  </thead>\n",
       "  <tbody>\n",
       "    <tr>\n",
       "      <th>0</th>\n",
       "      <td>0</td>\n",
       "      <td>50</td>\n",
       "      <td>5</td>\n",
       "      <td>881250949</td>\n",
       "    </tr>\n",
       "    <tr>\n",
       "      <th>1</th>\n",
       "      <td>0</td>\n",
       "      <td>172</td>\n",
       "      <td>5</td>\n",
       "      <td>881250949</td>\n",
       "    </tr>\n",
       "    <tr>\n",
       "      <th>2</th>\n",
       "      <td>0</td>\n",
       "      <td>133</td>\n",
       "      <td>1</td>\n",
       "      <td>881250949</td>\n",
       "    </tr>\n",
       "    <tr>\n",
       "      <th>3</th>\n",
       "      <td>196</td>\n",
       "      <td>242</td>\n",
       "      <td>3</td>\n",
       "      <td>881250949</td>\n",
       "    </tr>\n",
       "    <tr>\n",
       "      <th>4</th>\n",
       "      <td>186</td>\n",
       "      <td>302</td>\n",
       "      <td>3</td>\n",
       "      <td>891717742</td>\n",
       "    </tr>\n",
       "  </tbody>\n",
       "</table>\n",
       "</div>"
      ],
      "text/plain": [
       "   user_id  item_id  rating  timestamp\n",
       "0        0       50       5  881250949\n",
       "1        0      172       5  881250949\n",
       "2        0      133       1  881250949\n",
       "3      196      242       3  881250949\n",
       "4      186      302       3  891717742"
      ]
     },
     "execution_count": 4,
     "metadata": {},
     "output_type": "execute_result"
    }
   ],
   "source": [
    "df.head()"
   ]
  },
  {
   "cell_type": "code",
   "execution_count": 5,
   "metadata": {},
   "outputs": [
    {
     "name": "stdout",
     "output_type": "stream",
     "text": [
      "<class 'pandas.core.frame.DataFrame'>\n",
      "RangeIndex: 100003 entries, 0 to 100002\n",
      "Data columns (total 4 columns):\n",
      " #   Column     Non-Null Count   Dtype\n",
      "---  ------     --------------   -----\n",
      " 0   user_id    100003 non-null  int64\n",
      " 1   item_id    100003 non-null  int64\n",
      " 2   rating     100003 non-null  int64\n",
      " 3   timestamp  100003 non-null  int64\n",
      "dtypes: int64(4)\n",
      "memory usage: 3.1 MB\n"
     ]
    }
   ],
   "source": [
    "df.info()"
   ]
  },
  {
   "cell_type": "code",
   "execution_count": 6,
   "metadata": {},
   "outputs": [],
   "source": [
    "movie_titles = pd.read_csv('Movie_Id_Titles')"
   ]
  },
  {
   "cell_type": "code",
   "execution_count": 7,
   "metadata": {},
   "outputs": [
    {
     "data": {
      "text/html": [
       "<div>\n",
       "<style scoped>\n",
       "    .dataframe tbody tr th:only-of-type {\n",
       "        vertical-align: middle;\n",
       "    }\n",
       "\n",
       "    .dataframe tbody tr th {\n",
       "        vertical-align: top;\n",
       "    }\n",
       "\n",
       "    .dataframe thead th {\n",
       "        text-align: right;\n",
       "    }\n",
       "</style>\n",
       "<table border=\"1\" class=\"dataframe\">\n",
       "  <thead>\n",
       "    <tr style=\"text-align: right;\">\n",
       "      <th></th>\n",
       "      <th>item_id</th>\n",
       "      <th>title</th>\n",
       "    </tr>\n",
       "  </thead>\n",
       "  <tbody>\n",
       "    <tr>\n",
       "      <th>0</th>\n",
       "      <td>1</td>\n",
       "      <td>Toy Story (1995)</td>\n",
       "    </tr>\n",
       "    <tr>\n",
       "      <th>1</th>\n",
       "      <td>2</td>\n",
       "      <td>GoldenEye (1995)</td>\n",
       "    </tr>\n",
       "    <tr>\n",
       "      <th>2</th>\n",
       "      <td>3</td>\n",
       "      <td>Four Rooms (1995)</td>\n",
       "    </tr>\n",
       "    <tr>\n",
       "      <th>3</th>\n",
       "      <td>4</td>\n",
       "      <td>Get Shorty (1995)</td>\n",
       "    </tr>\n",
       "    <tr>\n",
       "      <th>4</th>\n",
       "      <td>5</td>\n",
       "      <td>Copycat (1995)</td>\n",
       "    </tr>\n",
       "  </tbody>\n",
       "</table>\n",
       "</div>"
      ],
      "text/plain": [
       "   item_id              title\n",
       "0        1   Toy Story (1995)\n",
       "1        2   GoldenEye (1995)\n",
       "2        3  Four Rooms (1995)\n",
       "3        4  Get Shorty (1995)\n",
       "4        5     Copycat (1995)"
      ]
     },
     "execution_count": 7,
     "metadata": {},
     "output_type": "execute_result"
    }
   ],
   "source": [
    "movie_titles.head()"
   ]
  },
  {
   "cell_type": "code",
   "execution_count": 8,
   "metadata": {},
   "outputs": [
    {
     "data": {
      "text/plain": [
       "1664"
      ]
     },
     "execution_count": 8,
     "metadata": {},
     "output_type": "execute_result"
    }
   ],
   "source": [
    "movie_titles['title'].nunique()"
   ]
  },
  {
   "cell_type": "code",
   "execution_count": 9,
   "metadata": {},
   "outputs": [],
   "source": [
    "df = pd.merge(df,movie_titles,on='item_id')"
   ]
  },
  {
   "cell_type": "code",
   "execution_count": 10,
   "metadata": {},
   "outputs": [
    {
     "data": {
      "text/html": [
       "<div>\n",
       "<style scoped>\n",
       "    .dataframe tbody tr th:only-of-type {\n",
       "        vertical-align: middle;\n",
       "    }\n",
       "\n",
       "    .dataframe tbody tr th {\n",
       "        vertical-align: top;\n",
       "    }\n",
       "\n",
       "    .dataframe thead th {\n",
       "        text-align: right;\n",
       "    }\n",
       "</style>\n",
       "<table border=\"1\" class=\"dataframe\">\n",
       "  <thead>\n",
       "    <tr style=\"text-align: right;\">\n",
       "      <th></th>\n",
       "      <th>user_id</th>\n",
       "      <th>item_id</th>\n",
       "      <th>rating</th>\n",
       "      <th>timestamp</th>\n",
       "      <th>title</th>\n",
       "    </tr>\n",
       "  </thead>\n",
       "  <tbody>\n",
       "    <tr>\n",
       "      <th>0</th>\n",
       "      <td>0</td>\n",
       "      <td>50</td>\n",
       "      <td>5</td>\n",
       "      <td>881250949</td>\n",
       "      <td>Star Wars (1977)</td>\n",
       "    </tr>\n",
       "    <tr>\n",
       "      <th>1</th>\n",
       "      <td>290</td>\n",
       "      <td>50</td>\n",
       "      <td>5</td>\n",
       "      <td>880473582</td>\n",
       "      <td>Star Wars (1977)</td>\n",
       "    </tr>\n",
       "    <tr>\n",
       "      <th>2</th>\n",
       "      <td>79</td>\n",
       "      <td>50</td>\n",
       "      <td>4</td>\n",
       "      <td>891271545</td>\n",
       "      <td>Star Wars (1977)</td>\n",
       "    </tr>\n",
       "    <tr>\n",
       "      <th>3</th>\n",
       "      <td>2</td>\n",
       "      <td>50</td>\n",
       "      <td>5</td>\n",
       "      <td>888552084</td>\n",
       "      <td>Star Wars (1977)</td>\n",
       "    </tr>\n",
       "    <tr>\n",
       "      <th>4</th>\n",
       "      <td>8</td>\n",
       "      <td>50</td>\n",
       "      <td>5</td>\n",
       "      <td>879362124</td>\n",
       "      <td>Star Wars (1977)</td>\n",
       "    </tr>\n",
       "  </tbody>\n",
       "</table>\n",
       "</div>"
      ],
      "text/plain": [
       "   user_id  item_id  rating  timestamp             title\n",
       "0        0       50       5  881250949  Star Wars (1977)\n",
       "1      290       50       5  880473582  Star Wars (1977)\n",
       "2       79       50       4  891271545  Star Wars (1977)\n",
       "3        2       50       5  888552084  Star Wars (1977)\n",
       "4        8       50       5  879362124  Star Wars (1977)"
      ]
     },
     "execution_count": 10,
     "metadata": {},
     "output_type": "execute_result"
    }
   ],
   "source": [
    "df.head()"
   ]
  },
  {
   "cell_type": "code",
   "execution_count": 11,
   "metadata": {},
   "outputs": [],
   "source": [
    "import matplotlib.pyplot as plt\n",
    "import seaborn as sns\n",
    "sns.set_style('white')\n",
    "%matplotlib inline"
   ]
  },
  {
   "cell_type": "code",
   "execution_count": 12,
   "metadata": {},
   "outputs": [
    {
     "data": {
      "text/plain": [
       "title\n",
       "Marlene Dietrich: Shadow and Light (1996)       5.0\n",
       "Prefontaine (1997)                              5.0\n",
       "Santa with Muscles (1996)                       5.0\n",
       "Star Kid (1997)                                 5.0\n",
       "Someone Else's America (1995)                   5.0\n",
       "                                               ... \n",
       "Touki Bouki (Journey of the Hyena) (1973)       1.0\n",
       "JLG/JLG - autoportrait de décembre (1994)       1.0\n",
       "Daens (1992)                                    1.0\n",
       "Butterfly Kiss (1995)                           1.0\n",
       "Eye of Vichy, The (Oeil de Vichy, L') (1993)    1.0\n",
       "Name: rating, Length: 1664, dtype: float64"
      ]
     },
     "execution_count": 12,
     "metadata": {},
     "output_type": "execute_result"
    }
   ],
   "source": [
    "df.groupby('title')['rating'].mean().sort_values(ascending=False)"
   ]
  },
  {
   "cell_type": "code",
   "execution_count": 13,
   "metadata": {},
   "outputs": [
    {
     "data": {
      "text/plain": [
       "title\n",
       "Star Wars (1977)             584\n",
       "Contact (1997)               509\n",
       "Fargo (1996)                 508\n",
       "Return of the Jedi (1983)    507\n",
       "Liar Liar (1997)             485\n",
       "Name: rating, dtype: int64"
      ]
     },
     "execution_count": 13,
     "metadata": {},
     "output_type": "execute_result"
    }
   ],
   "source": [
    "df.groupby('title')['rating'].count().sort_values(ascending=False).head()"
   ]
  },
  {
   "cell_type": "code",
   "execution_count": 14,
   "metadata": {},
   "outputs": [],
   "source": [
    "ratings = pd.DataFrame(df.groupby('title')['rating'].mean())"
   ]
  },
  {
   "cell_type": "code",
   "execution_count": 15,
   "metadata": {},
   "outputs": [
    {
     "data": {
      "text/html": [
       "<div>\n",
       "<style scoped>\n",
       "    .dataframe tbody tr th:only-of-type {\n",
       "        vertical-align: middle;\n",
       "    }\n",
       "\n",
       "    .dataframe tbody tr th {\n",
       "        vertical-align: top;\n",
       "    }\n",
       "\n",
       "    .dataframe thead th {\n",
       "        text-align: right;\n",
       "    }\n",
       "</style>\n",
       "<table border=\"1\" class=\"dataframe\">\n",
       "  <thead>\n",
       "    <tr style=\"text-align: right;\">\n",
       "      <th></th>\n",
       "      <th>rating</th>\n",
       "    </tr>\n",
       "    <tr>\n",
       "      <th>title</th>\n",
       "      <th></th>\n",
       "    </tr>\n",
       "  </thead>\n",
       "  <tbody>\n",
       "    <tr>\n",
       "      <th>'Til There Was You (1997)</th>\n",
       "      <td>2.333333</td>\n",
       "    </tr>\n",
       "    <tr>\n",
       "      <th>1-900 (1994)</th>\n",
       "      <td>2.600000</td>\n",
       "    </tr>\n",
       "    <tr>\n",
       "      <th>101 Dalmatians (1996)</th>\n",
       "      <td>2.908257</td>\n",
       "    </tr>\n",
       "    <tr>\n",
       "      <th>12 Angry Men (1957)</th>\n",
       "      <td>4.344000</td>\n",
       "    </tr>\n",
       "    <tr>\n",
       "      <th>187 (1997)</th>\n",
       "      <td>3.024390</td>\n",
       "    </tr>\n",
       "  </tbody>\n",
       "</table>\n",
       "</div>"
      ],
      "text/plain": [
       "                             rating\n",
       "title                              \n",
       "'Til There Was You (1997)  2.333333\n",
       "1-900 (1994)               2.600000\n",
       "101 Dalmatians (1996)      2.908257\n",
       "12 Angry Men (1957)        4.344000\n",
       "187 (1997)                 3.024390"
      ]
     },
     "execution_count": 15,
     "metadata": {},
     "output_type": "execute_result"
    }
   ],
   "source": [
    "ratings.head()"
   ]
  },
  {
   "cell_type": "code",
   "execution_count": 16,
   "metadata": {},
   "outputs": [],
   "source": [
    "ratings['no. of ratings'] = pd.DataFrame(df.groupby('title')['rating'].count())"
   ]
  },
  {
   "cell_type": "code",
   "execution_count": 17,
   "metadata": {},
   "outputs": [
    {
     "data": {
      "text/html": [
       "<div>\n",
       "<style scoped>\n",
       "    .dataframe tbody tr th:only-of-type {\n",
       "        vertical-align: middle;\n",
       "    }\n",
       "\n",
       "    .dataframe tbody tr th {\n",
       "        vertical-align: top;\n",
       "    }\n",
       "\n",
       "    .dataframe thead th {\n",
       "        text-align: right;\n",
       "    }\n",
       "</style>\n",
       "<table border=\"1\" class=\"dataframe\">\n",
       "  <thead>\n",
       "    <tr style=\"text-align: right;\">\n",
       "      <th></th>\n",
       "      <th>rating</th>\n",
       "      <th>no. of ratings</th>\n",
       "    </tr>\n",
       "    <tr>\n",
       "      <th>title</th>\n",
       "      <th></th>\n",
       "      <th></th>\n",
       "    </tr>\n",
       "  </thead>\n",
       "  <tbody>\n",
       "    <tr>\n",
       "      <th>'Til There Was You (1997)</th>\n",
       "      <td>2.333333</td>\n",
       "      <td>9</td>\n",
       "    </tr>\n",
       "    <tr>\n",
       "      <th>1-900 (1994)</th>\n",
       "      <td>2.600000</td>\n",
       "      <td>5</td>\n",
       "    </tr>\n",
       "    <tr>\n",
       "      <th>101 Dalmatians (1996)</th>\n",
       "      <td>2.908257</td>\n",
       "      <td>109</td>\n",
       "    </tr>\n",
       "    <tr>\n",
       "      <th>12 Angry Men (1957)</th>\n",
       "      <td>4.344000</td>\n",
       "      <td>125</td>\n",
       "    </tr>\n",
       "    <tr>\n",
       "      <th>187 (1997)</th>\n",
       "      <td>3.024390</td>\n",
       "      <td>41</td>\n",
       "    </tr>\n",
       "  </tbody>\n",
       "</table>\n",
       "</div>"
      ],
      "text/plain": [
       "                             rating  no. of ratings\n",
       "title                                              \n",
       "'Til There Was You (1997)  2.333333               9\n",
       "1-900 (1994)               2.600000               5\n",
       "101 Dalmatians (1996)      2.908257             109\n",
       "12 Angry Men (1957)        4.344000             125\n",
       "187 (1997)                 3.024390              41"
      ]
     },
     "execution_count": 17,
     "metadata": {},
     "output_type": "execute_result"
    }
   ],
   "source": [
    "ratings.head()"
   ]
  },
  {
   "cell_type": "code",
   "execution_count": 18,
   "metadata": {},
   "outputs": [
    {
     "name": "stdout",
     "output_type": "stream",
     "text": [
      "<class 'pandas.core.frame.DataFrame'>\n",
      "Index: 1664 entries, 'Til There Was You (1997) to Á köldum klaka (Cold Fever) (1994)\n",
      "Data columns (total 2 columns):\n",
      " #   Column          Non-Null Count  Dtype  \n",
      "---  ------          --------------  -----  \n",
      " 0   rating          1664 non-null   float64\n",
      " 1   no. of ratings  1664 non-null   int64  \n",
      "dtypes: float64(1), int64(1)\n",
      "memory usage: 39.0+ KB\n"
     ]
    }
   ],
   "source": [
    "ratings.info()"
   ]
  },
  {
   "cell_type": "code",
   "execution_count": 19,
   "metadata": {},
   "outputs": [
    {
     "data": {
      "text/html": [
       "        <script type=\"text/javascript\">\n",
       "        window.PlotlyConfig = {MathJaxConfig: 'local'};\n",
       "        if (window.MathJax) {MathJax.Hub.Config({SVG: {font: \"STIX-Web\"}});}\n",
       "        if (typeof require !== 'undefined') {\n",
       "        require.undef(\"plotly\");\n",
       "        requirejs.config({\n",
       "            paths: {\n",
       "                'plotly': ['https://cdn.plot.ly/plotly-latest.min']\n",
       "            }\n",
       "        });\n",
       "        require(['plotly'], function(Plotly) {\n",
       "            window._Plotly = Plotly;\n",
       "        });\n",
       "        }\n",
       "        </script>\n",
       "        "
      ]
     },
     "metadata": {},
     "output_type": "display_data"
    }
   ],
   "source": [
    "import cufflinks as cf\n",
    "cf.go_offline()"
   ]
  },
  {
   "cell_type": "code",
   "execution_count": 20,
   "metadata": {},
   "outputs": [
    {
     "data": {
      "text/html": [
       "<div>\n",
       "<style scoped>\n",
       "    .dataframe tbody tr th:only-of-type {\n",
       "        vertical-align: middle;\n",
       "    }\n",
       "\n",
       "    .dataframe tbody tr th {\n",
       "        vertical-align: top;\n",
       "    }\n",
       "\n",
       "    .dataframe thead th {\n",
       "        text-align: right;\n",
       "    }\n",
       "</style>\n",
       "<table border=\"1\" class=\"dataframe\">\n",
       "  <thead>\n",
       "    <tr style=\"text-align: right;\">\n",
       "      <th></th>\n",
       "      <th>rating</th>\n",
       "      <th>no. of ratings</th>\n",
       "    </tr>\n",
       "    <tr>\n",
       "      <th>title</th>\n",
       "      <th></th>\n",
       "      <th></th>\n",
       "    </tr>\n",
       "  </thead>\n",
       "  <tbody>\n",
       "    <tr>\n",
       "      <th>Contact (1997)</th>\n",
       "      <td>3.803536</td>\n",
       "      <td>509</td>\n",
       "    </tr>\n",
       "    <tr>\n",
       "      <th>Fargo (1996)</th>\n",
       "      <td>4.155512</td>\n",
       "      <td>508</td>\n",
       "    </tr>\n",
       "    <tr>\n",
       "      <th>Return of the Jedi (1983)</th>\n",
       "      <td>4.007890</td>\n",
       "      <td>507</td>\n",
       "    </tr>\n",
       "    <tr>\n",
       "      <th>Star Wars (1977)</th>\n",
       "      <td>4.359589</td>\n",
       "      <td>584</td>\n",
       "    </tr>\n",
       "  </tbody>\n",
       "</table>\n",
       "</div>"
      ],
      "text/plain": [
       "                             rating  no. of ratings\n",
       "title                                              \n",
       "Contact (1997)             3.803536             509\n",
       "Fargo (1996)               4.155512             508\n",
       "Return of the Jedi (1983)  4.007890             507\n",
       "Star Wars (1977)           4.359589             584"
      ]
     },
     "execution_count": 20,
     "metadata": {},
     "output_type": "execute_result"
    }
   ],
   "source": [
    "ratings[ratings['no. of ratings'] > 500]"
   ]
  },
  {
   "cell_type": "code",
   "execution_count": 21,
   "metadata": {
    "scrolled": true
   },
   "outputs": [
    {
     "data": {
      "application/vnd.plotly.v1+json": {
       "config": {
        "linkText": "Export to plot.ly",
        "plotlyServerURL": "https://plot.ly",
        "showLink": true
       },
       "data": [
        {
         "histfunc": "count",
         "histnorm": "",
         "marker": {
          "color": "rgba(201, 143, 222, 1.0)",
          "line": {
           "color": "#4D5663",
           "width": 1.3
          }
         },
         "name": "no. of ratings",
         "nbinsx": 70,
         "opacity": 0.8,
         "orientation": "v",
         "type": "histogram",
         "x": [
          9,
          5,
          109,
          125,
          41,
          93,
          72,
          259,
          5,
          59,
          38,
          4,
          4,
          8,
          5,
          127,
          151,
          103,
          37,
          4,
          87,
          54,
          11,
          39,
          111,
          67,
          26,
          152,
          18,
          65,
          1,
          43,
          431,
          16,
          32,
          50,
          219,
          26,
          13,
          6,
          81,
          291,
          100,
          124,
          284,
          66,
          15,
          3,
          1,
          12,
          276,
          18,
          10,
          11,
          2,
          164,
          2,
          99,
          50,
          124,
          5,
          6,
          4,
          53,
          14,
          5,
          3,
          19,
          4,
          38,
          66,
          18,
          4,
          6,
          1,
          1,
          72,
          39,
          14,
          2,
          33,
          21,
          180,
          28,
          69,
          7,
          63,
          221,
          276,
          55,
          25,
          15,
          160,
          54,
          116,
          59,
          83,
          115,
          112,
          39,
          18,
          41,
          12,
          1,
          130,
          8,
          7,
          3,
          1,
          219,
          10,
          2,
          3,
          350,
          19,
          57,
          9,
          6,
          6,
          16,
          4,
          16,
          57,
          9,
          30,
          28,
          53,
          101,
          40,
          44,
          16,
          62,
          201,
          114,
          142,
          1,
          91,
          2,
          7,
          86,
          115,
          29,
          202,
          156,
          60,
          57,
          49,
          26,
          10,
          4,
          116,
          16,
          37,
          124,
          102,
          6,
          5,
          6,
          79,
          20,
          28,
          48,
          3,
          2,
          18,
          8,
          1,
          17,
          14,
          14,
          42,
          171,
          1,
          73,
          4,
          37,
          31,
          1,
          293,
          162,
          10,
          3,
          27,
          55,
          275,
          19,
          7,
          46,
          22,
          6,
          5,
          10,
          1,
          29,
          18,
          9,
          12,
          45,
          28,
          251,
          85,
          13,
          22,
          69,
          22,
          4,
          122,
          189,
          32,
          201,
          48,
          44,
          129,
          15,
          6,
          6,
          5,
          2,
          13,
          34,
          3,
          76,
          14,
          120,
          32,
          297,
          208,
          12,
          77,
          95,
          74,
          46,
          165,
          67,
          68,
          254,
          8,
          48,
          5,
          1,
          73,
          1,
          10,
          4,
          49,
          86,
          24,
          9,
          7,
          216,
          2,
          1,
          15,
          4,
          16,
          106,
          3,
          29,
          39,
          65,
          21,
          86,
          171,
          3,
          39,
          1,
          54,
          2,
          4,
          5,
          121,
          11,
          13,
          243,
          91,
          52,
          4,
          48,
          62,
          32,
          3,
          8,
          2,
          56,
          15,
          10,
          23,
          1,
          80,
          9,
          43,
          40,
          5,
          379,
          19,
          5,
          147,
          69,
          28,
          4,
          129,
          121,
          76,
          198,
          45,
          79,
          44,
          8,
          6,
          96,
          10,
          4,
          179,
          148,
          97,
          93,
          33,
          221,
          112,
          170,
          15,
          125,
          1,
          2,
          4,
          15,
          3,
          137,
          107,
          2,
          41,
          42,
          295,
          509,
          9,
          2,
          82,
          164,
          68,
          175,
          13,
          86,
          39,
          4,
          2,
          221,
          19,
          104,
          128,
          154,
          11,
          10,
          10,
          4,
          28,
          134,
          39,
          2,
          77,
          1,
          81,
          24,
          119,
          8,
          6,
          18,
          1,
          66,
          3,
          19,
          1,
          1,
          1,
          256,
          13,
          8,
          47,
          2,
          240,
          16,
          180,
          11,
          97,
          2,
          57,
          53,
          15,
          64,
          34,
          299,
          251,
          18,
          12,
          28,
          1,
          1,
          29,
          65,
          14,
          120,
          65,
          2,
          92,
          7,
          1,
          7,
          97,
          72,
          2,
          57,
          188,
          240,
          71,
          68,
          243,
          166,
          151,
          31,
          5,
          98,
          40,
          66,
          79,
          76,
          35,
          147,
          7,
          46,
          7,
          13,
          22,
          101,
          35,
          194,
          25,
          158,
          2,
          7,
          24,
          31,
          5,
          93,
          69,
          123,
          7,
          6,
          300,
          59,
          80,
          6,
          133,
          3,
          40,
          113,
          1,
          177,
          368,
          70,
          10,
          4,
          481,
          32,
          1,
          206,
          91,
          91,
          30,
          1,
          64,
          5,
          29,
          127,
          2,
          1,
          168,
          89,
          259,
          52,
          157,
          16,
          27,
          64,
          32,
          1,
          194,
          4,
          11,
          30,
          10,
          3,
          41,
          2,
          45,
          64,
          174,
          7,
          46,
          12,
          508,
          17,
          1,
          32,
          7,
          19,
          60,
          128,
          31,
          5,
          3,
          1,
          44,
          10,
          1,
          25,
          5,
          32,
          8,
          212,
          96,
          197,
          4,
          44,
          1,
          18,
          151,
          40,
          86,
          160,
          247,
          34,
          6,
          31,
          20,
          5,
          42,
          6,
          53,
          14,
          180,
          23,
          24,
          3,
          12,
          14,
          20,
          3,
          4,
          67,
          15,
          2,
          62,
          321,
          12,
          90,
          251,
          61,
          15,
          4,
          33,
          11,
          27,
          42,
          84,
          39,
          10,
          26,
          153,
          115,
          3,
          92,
          336,
          170,
          315,
          8,
          21,
          21,
          1,
          175,
          6,
          251,
          195,
          16,
          24,
          35,
          1,
          136,
          15,
          162,
          30,
          4,
          9,
          209,
          38,
          18,
          1,
          5,
          170,
          43,
          128,
          26,
          29,
          51,
          41,
          3,
          25,
          1,
          1,
          2,
          69,
          48,
          171,
          15,
          413,
          209,
          10,
          2,
          131,
          11,
          172,
          2,
          1,
          198,
          137,
          226,
          20,
          3,
          8,
          239,
          66,
          9,
          4,
          170,
          24,
          1,
          46,
          124,
          27,
          31,
          49,
          19,
          89,
          4,
          160,
          280,
          148,
          4,
          6,
          5,
          33,
          20,
          25,
          90,
          1,
          149,
          15,
          31,
          40,
          4,
          121,
          40,
          18,
          15,
          1,
          4,
          8,
          5,
          223,
          171,
          9,
          27,
          70,
          5,
          73,
          13,
          1,
          13,
          18,
          124,
          11,
          66,
          1,
          9,
          88,
          29,
          30,
          153,
          16,
          56,
          6,
          1,
          137,
          19,
          58,
          32,
          61,
          73,
          117,
          7,
          9,
          1,
          68,
          4,
          14,
          25,
          9,
          18,
          24,
          24,
          21,
          71,
          38,
          110,
          7,
          127,
          1,
          227,
          3,
          9,
          1,
          3,
          1,
          100,
          3,
          10,
          37,
          10,
          17,
          1,
          81,
          108,
          29,
          3,
          63,
          230,
          28,
          18,
          16,
          66,
          4,
          169,
          26,
          102,
          9,
          10,
          429,
          20,
          39,
          331,
          6,
          3,
          2,
          4,
          18,
          137,
          2,
          23,
          1,
          57,
          46,
          81,
          3,
          21,
          231,
          1,
          70,
          7,
          87,
          126,
          145,
          17,
          126,
          63,
          8,
          280,
          66,
          16,
          64,
          5,
          34,
          3,
          384,
          8,
          18,
          45,
          2,
          41,
          1,
          4,
          3,
          23,
          39,
          25,
          96,
          85,
          132,
          45,
          1,
          261,
          82,
          14,
          28,
          59,
          22,
          23,
          8,
          10,
          25,
          7,
          13,
          22,
          49,
          65,
          2,
          4,
          1,
          121,
          40,
          7,
          1,
          4,
          162,
          31,
          20,
          143,
          6,
          117,
          53,
          69,
          42,
          297,
          1,
          4,
          4,
          6,
          1,
          9,
          1,
          7,
          59,
          9,
          4,
          53,
          3,
          58,
          7,
          3,
          128,
          5,
          40,
          21,
          65,
          173,
          4,
          4,
          44,
          298,
          5,
          81,
          1,
          3,
          485,
          1,
          53,
          7,
          10,
          148,
          2,
          220,
          16,
          22,
          2,
          12,
          10,
          41,
          9,
          18,
          102,
          23,
          27,
          5,
          63,
          4,
          5,
          187,
          185,
          55,
          24,
          8,
          12,
          125,
          34,
          158,
          18,
          1,
          12,
          12,
          50,
          1,
          42,
          4,
          2,
          7,
          8,
          10,
          26,
          3,
          10,
          1,
          44,
          206,
          18,
          1,
          20,
          2,
          47,
          1,
          13,
          7,
          27,
          91,
          17,
          5,
          121,
          19,
          46,
          54,
          138,
          1,
          52,
          80,
          68,
          1,
          12,
          7,
          9,
          9,
          131,
          91,
          27,
          13,
          58,
          6,
          13,
          22,
          1,
          217,
          78,
          178,
          39,
          59,
          129,
          1,
          51,
          95,
          128,
          20,
          4,
          8,
          69,
          34,
          25,
          31,
          7,
          2,
          303,
          2,
          50,
          7,
          6,
          36,
          15,
          119,
          92,
          24,
          5,
          80,
          184,
          11,
          3,
          37,
          1,
          89,
          101,
          6,
          101,
          1,
          66,
          344,
          21,
          15,
          1,
          42,
          3,
          92,
          43,
          9,
          316,
          174,
          7,
          49,
          43,
          1,
          169,
          22,
          44,
          293,
          2,
          12,
          105,
          4,
          23,
          96,
          15,
          192,
          22,
          22,
          176,
          82,
          134,
          84,
          218,
          60,
          9,
          100,
          17,
          172,
          11,
          125,
          21,
          3,
          62,
          86,
          121,
          2,
          93,
          27,
          30,
          130,
          8,
          25,
          69,
          2,
          7,
          128,
          81,
          3,
          1,
          4,
          120,
          12,
          1,
          2,
          2,
          4,
          9,
          1,
          1,
          44,
          2,
          32,
          7,
          64,
          36,
          143,
          111,
          3,
          127,
          4,
          6,
          58,
          26,
          90,
          5,
          1,
          46,
          1,
          7,
          179,
          54,
          3,
          1,
          7,
          52,
          24,
          3,
          163,
          6,
          1,
          5,
          6,
          1,
          5,
          32,
          64,
          22,
          85,
          106,
          50,
          38,
          28,
          31,
          112,
          264,
          15,
          39,
          2,
          31,
          7,
          34,
          21,
          72,
          1,
          19,
          104,
          2,
          12,
          22,
          14,
          13,
          5,
          40,
          20,
          7,
          73,
          27,
          1,
          3,
          46,
          16,
          28,
          8,
          33,
          136,
          136,
          8,
          215,
          14,
          4,
          50,
          44,
          8,
          43,
          80,
          13,
          1,
          5,
          244,
          137,
          104,
          168,
          18,
          10,
          81,
          4,
          26,
          114,
          101,
          127,
          43,
          51,
          9,
          13,
          1,
          27,
          7,
          10,
          25,
          183,
          58,
          48,
          1,
          68,
          3,
          164,
          3,
          40,
          178,
          13,
          324,
          15,
          5,
          67,
          100,
          149,
          31,
          6,
          1,
          20,
          32,
          239,
          394,
          79,
          7,
          2,
          7,
          1,
          24,
          27,
          48,
          67,
          3,
          175,
          5,
          12,
          116,
          420,
          145,
          58,
          256,
          70,
          267,
          1,
          18,
          119,
          77,
          209,
          66,
          90,
          8,
          57,
          13,
          52,
          58,
          3,
          25,
          1,
          150,
          43,
          3,
          8,
          39,
          148,
          71,
          44,
          507,
          92,
          5,
          15,
          89,
          21,
          44,
          157,
          1,
          43,
          146,
          17,
          92,
          18,
          56,
          75,
          11,
          378,
          49,
          68,
          37,
          5,
          98,
          134,
          13,
          5,
          90,
          114,
          2,
          23,
          64,
          16,
          174,
          4,
          2,
          64,
          190,
          13,
          2,
          2,
          316,
          2,
          82,
          2,
          3,
          2,
          5,
          298,
          4,
          12,
          478,
          106,
          1,
          46,
          3,
          138,
          6,
          5,
          6,
          79,
          71,
          162,
          16,
          268,
          7,
          54,
          19,
          236,
          155,
          72,
          101,
          2,
          74,
          44,
          1,
          45,
          78,
          1,
          30,
          17,
          46,
          66,
          26,
          283,
          53,
          73,
          12,
          129,
          206,
          3,
          10,
          1,
          67,
          2,
          23,
          390,
          1,
          10,
          3,
          137,
          59,
          74,
          9,
          82,
          169,
          213,
          1,
          5,
          136,
          2,
          37,
          1,
          25,
          48,
          74,
          150,
          172,
          4,
          95,
          12,
          41,
          59,
          128,
          2,
          2,
          1,
          26,
          82,
          39,
          58,
          59,
          222,
          93,
          1,
          27,
          143,
          20,
          45,
          36,
          230,
          38,
          30,
          41,
          26,
          2,
          97,
          3,
          43,
          3,
          9,
          12,
          11,
          227,
          3,
          12,
          19,
          171,
          199,
          63,
          161,
          365,
          116,
          117,
          244,
          584,
          127,
          3,
          211,
          7,
          64,
          19,
          1,
          29,
          241,
          5,
          5,
          87,
          7,
          3,
          11,
          8,
          98,
          104,
          12,
          5,
          67,
          16,
          17,
          12,
          4,
          49,
          47,
          2,
          11,
          1,
          65,
          8,
          26,
          65,
          19,
          11,
          4,
          7,
          44,
          1,
          7,
          47,
          157,
          39,
          17,
          13,
          82,
          1,
          1,
          1,
          43,
          55,
          27,
          5,
          13,
          41,
          1,
          182,
          13,
          3,
          34,
          295,
          301,
          1,
          6,
          19,
          41,
          11,
          176,
          1,
          2,
          4,
          5,
          1,
          7,
          35,
          12,
          60,
          71,
          49,
          72,
          18,
          191,
          37,
          22,
          64,
          83,
          59,
          1,
          89,
          9,
          31,
          32,
          7,
          1,
          2,
          232,
          31,
          193,
          40,
          51,
          350,
          18,
          50,
          1,
          87,
          44,
          2,
          219,
          14,
          57,
          1,
          9,
          12,
          108,
          66,
          180,
          220,
          21,
          4,
          9,
          34,
          2,
          1,
          452,
          250,
          32,
          13,
          80,
          50,
          23,
          7,
          35,
          9,
          208,
          104,
          11,
          19,
          272,
          3,
          5,
          23,
          2,
          29,
          392,
          4,
          6,
          6,
          293,
          5,
          4,
          1,
          7,
          25,
          4,
          64,
          9,
          184,
          21,
          92,
          124,
          48,
          5,
          4,
          4,
          34,
          182,
          10,
          22,
          23,
          11,
          85,
          47,
          267,
          12,
          6,
          27,
          75,
          2,
          2,
          1,
          179,
          93,
          1,
          77,
          1,
          22,
          38,
          2,
          219,
          137,
          47,
          16,
          63,
          1,
          26,
          4,
          8,
          67,
          9,
          1,
          15,
          10,
          34,
          102,
          1,
          3,
          72,
          60,
          22,
          112,
          1,
          35,
          8,
          115,
          45,
          290,
          5,
          44,
          39,
          16,
          162,
          10,
          10,
          85,
          6,
          19,
          1,
          9,
          12,
          43,
          14,
          11,
          106,
          326,
          1,
          1,
          57,
          75,
          75,
          9,
          27,
          46,
          13,
          1,
          246,
          67,
          1,
          15,
          10,
          10,
          3,
          6,
          118,
          50,
          1,
          7,
          1,
          200,
          101,
          44,
          41,
          6,
          9,
          1
         ]
        }
       ],
       "layout": {
        "barmode": "overlay",
        "legend": {
         "bgcolor": "#F5F6F9",
         "font": {
          "color": "#4D5663"
         }
        },
        "paper_bgcolor": "#F5F6F9",
        "plot_bgcolor": "#F5F6F9",
        "template": {
         "data": {
          "bar": [
           {
            "error_x": {
             "color": "#2a3f5f"
            },
            "error_y": {
             "color": "#2a3f5f"
            },
            "marker": {
             "line": {
              "color": "#E5ECF6",
              "width": 0.5
             }
            },
            "type": "bar"
           }
          ],
          "barpolar": [
           {
            "marker": {
             "line": {
              "color": "#E5ECF6",
              "width": 0.5
             }
            },
            "type": "barpolar"
           }
          ],
          "carpet": [
           {
            "aaxis": {
             "endlinecolor": "#2a3f5f",
             "gridcolor": "white",
             "linecolor": "white",
             "minorgridcolor": "white",
             "startlinecolor": "#2a3f5f"
            },
            "baxis": {
             "endlinecolor": "#2a3f5f",
             "gridcolor": "white",
             "linecolor": "white",
             "minorgridcolor": "white",
             "startlinecolor": "#2a3f5f"
            },
            "type": "carpet"
           }
          ],
          "choropleth": [
           {
            "colorbar": {
             "outlinewidth": 0,
             "ticks": ""
            },
            "type": "choropleth"
           }
          ],
          "contour": [
           {
            "colorbar": {
             "outlinewidth": 0,
             "ticks": ""
            },
            "colorscale": [
             [
              0,
              "#0d0887"
             ],
             [
              0.1111111111111111,
              "#46039f"
             ],
             [
              0.2222222222222222,
              "#7201a8"
             ],
             [
              0.3333333333333333,
              "#9c179e"
             ],
             [
              0.4444444444444444,
              "#bd3786"
             ],
             [
              0.5555555555555556,
              "#d8576b"
             ],
             [
              0.6666666666666666,
              "#ed7953"
             ],
             [
              0.7777777777777778,
              "#fb9f3a"
             ],
             [
              0.8888888888888888,
              "#fdca26"
             ],
             [
              1,
              "#f0f921"
             ]
            ],
            "type": "contour"
           }
          ],
          "contourcarpet": [
           {
            "colorbar": {
             "outlinewidth": 0,
             "ticks": ""
            },
            "type": "contourcarpet"
           }
          ],
          "heatmap": [
           {
            "colorbar": {
             "outlinewidth": 0,
             "ticks": ""
            },
            "colorscale": [
             [
              0,
              "#0d0887"
             ],
             [
              0.1111111111111111,
              "#46039f"
             ],
             [
              0.2222222222222222,
              "#7201a8"
             ],
             [
              0.3333333333333333,
              "#9c179e"
             ],
             [
              0.4444444444444444,
              "#bd3786"
             ],
             [
              0.5555555555555556,
              "#d8576b"
             ],
             [
              0.6666666666666666,
              "#ed7953"
             ],
             [
              0.7777777777777778,
              "#fb9f3a"
             ],
             [
              0.8888888888888888,
              "#fdca26"
             ],
             [
              1,
              "#f0f921"
             ]
            ],
            "type": "heatmap"
           }
          ],
          "heatmapgl": [
           {
            "colorbar": {
             "outlinewidth": 0,
             "ticks": ""
            },
            "colorscale": [
             [
              0,
              "#0d0887"
             ],
             [
              0.1111111111111111,
              "#46039f"
             ],
             [
              0.2222222222222222,
              "#7201a8"
             ],
             [
              0.3333333333333333,
              "#9c179e"
             ],
             [
              0.4444444444444444,
              "#bd3786"
             ],
             [
              0.5555555555555556,
              "#d8576b"
             ],
             [
              0.6666666666666666,
              "#ed7953"
             ],
             [
              0.7777777777777778,
              "#fb9f3a"
             ],
             [
              0.8888888888888888,
              "#fdca26"
             ],
             [
              1,
              "#f0f921"
             ]
            ],
            "type": "heatmapgl"
           }
          ],
          "histogram": [
           {
            "marker": {
             "colorbar": {
              "outlinewidth": 0,
              "ticks": ""
             }
            },
            "type": "histogram"
           }
          ],
          "histogram2d": [
           {
            "colorbar": {
             "outlinewidth": 0,
             "ticks": ""
            },
            "colorscale": [
             [
              0,
              "#0d0887"
             ],
             [
              0.1111111111111111,
              "#46039f"
             ],
             [
              0.2222222222222222,
              "#7201a8"
             ],
             [
              0.3333333333333333,
              "#9c179e"
             ],
             [
              0.4444444444444444,
              "#bd3786"
             ],
             [
              0.5555555555555556,
              "#d8576b"
             ],
             [
              0.6666666666666666,
              "#ed7953"
             ],
             [
              0.7777777777777778,
              "#fb9f3a"
             ],
             [
              0.8888888888888888,
              "#fdca26"
             ],
             [
              1,
              "#f0f921"
             ]
            ],
            "type": "histogram2d"
           }
          ],
          "histogram2dcontour": [
           {
            "colorbar": {
             "outlinewidth": 0,
             "ticks": ""
            },
            "colorscale": [
             [
              0,
              "#0d0887"
             ],
             [
              0.1111111111111111,
              "#46039f"
             ],
             [
              0.2222222222222222,
              "#7201a8"
             ],
             [
              0.3333333333333333,
              "#9c179e"
             ],
             [
              0.4444444444444444,
              "#bd3786"
             ],
             [
              0.5555555555555556,
              "#d8576b"
             ],
             [
              0.6666666666666666,
              "#ed7953"
             ],
             [
              0.7777777777777778,
              "#fb9f3a"
             ],
             [
              0.8888888888888888,
              "#fdca26"
             ],
             [
              1,
              "#f0f921"
             ]
            ],
            "type": "histogram2dcontour"
           }
          ],
          "mesh3d": [
           {
            "colorbar": {
             "outlinewidth": 0,
             "ticks": ""
            },
            "type": "mesh3d"
           }
          ],
          "parcoords": [
           {
            "line": {
             "colorbar": {
              "outlinewidth": 0,
              "ticks": ""
             }
            },
            "type": "parcoords"
           }
          ],
          "pie": [
           {
            "automargin": true,
            "type": "pie"
           }
          ],
          "scatter": [
           {
            "marker": {
             "colorbar": {
              "outlinewidth": 0,
              "ticks": ""
             }
            },
            "type": "scatter"
           }
          ],
          "scatter3d": [
           {
            "line": {
             "colorbar": {
              "outlinewidth": 0,
              "ticks": ""
             }
            },
            "marker": {
             "colorbar": {
              "outlinewidth": 0,
              "ticks": ""
             }
            },
            "type": "scatter3d"
           }
          ],
          "scattercarpet": [
           {
            "marker": {
             "colorbar": {
              "outlinewidth": 0,
              "ticks": ""
             }
            },
            "type": "scattercarpet"
           }
          ],
          "scattergeo": [
           {
            "marker": {
             "colorbar": {
              "outlinewidth": 0,
              "ticks": ""
             }
            },
            "type": "scattergeo"
           }
          ],
          "scattergl": [
           {
            "marker": {
             "colorbar": {
              "outlinewidth": 0,
              "ticks": ""
             }
            },
            "type": "scattergl"
           }
          ],
          "scattermapbox": [
           {
            "marker": {
             "colorbar": {
              "outlinewidth": 0,
              "ticks": ""
             }
            },
            "type": "scattermapbox"
           }
          ],
          "scatterpolar": [
           {
            "marker": {
             "colorbar": {
              "outlinewidth": 0,
              "ticks": ""
             }
            },
            "type": "scatterpolar"
           }
          ],
          "scatterpolargl": [
           {
            "marker": {
             "colorbar": {
              "outlinewidth": 0,
              "ticks": ""
             }
            },
            "type": "scatterpolargl"
           }
          ],
          "scatterternary": [
           {
            "marker": {
             "colorbar": {
              "outlinewidth": 0,
              "ticks": ""
             }
            },
            "type": "scatterternary"
           }
          ],
          "surface": [
           {
            "colorbar": {
             "outlinewidth": 0,
             "ticks": ""
            },
            "colorscale": [
             [
              0,
              "#0d0887"
             ],
             [
              0.1111111111111111,
              "#46039f"
             ],
             [
              0.2222222222222222,
              "#7201a8"
             ],
             [
              0.3333333333333333,
              "#9c179e"
             ],
             [
              0.4444444444444444,
              "#bd3786"
             ],
             [
              0.5555555555555556,
              "#d8576b"
             ],
             [
              0.6666666666666666,
              "#ed7953"
             ],
             [
              0.7777777777777778,
              "#fb9f3a"
             ],
             [
              0.8888888888888888,
              "#fdca26"
             ],
             [
              1,
              "#f0f921"
             ]
            ],
            "type": "surface"
           }
          ],
          "table": [
           {
            "cells": {
             "fill": {
              "color": "#EBF0F8"
             },
             "line": {
              "color": "white"
             }
            },
            "header": {
             "fill": {
              "color": "#C8D4E3"
             },
             "line": {
              "color": "white"
             }
            },
            "type": "table"
           }
          ]
         },
         "layout": {
          "annotationdefaults": {
           "arrowcolor": "#2a3f5f",
           "arrowhead": 0,
           "arrowwidth": 1
          },
          "autotypenumbers": "strict",
          "coloraxis": {
           "colorbar": {
            "outlinewidth": 0,
            "ticks": ""
           }
          },
          "colorscale": {
           "diverging": [
            [
             0,
             "#8e0152"
            ],
            [
             0.1,
             "#c51b7d"
            ],
            [
             0.2,
             "#de77ae"
            ],
            [
             0.3,
             "#f1b6da"
            ],
            [
             0.4,
             "#fde0ef"
            ],
            [
             0.5,
             "#f7f7f7"
            ],
            [
             0.6,
             "#e6f5d0"
            ],
            [
             0.7,
             "#b8e186"
            ],
            [
             0.8,
             "#7fbc41"
            ],
            [
             0.9,
             "#4d9221"
            ],
            [
             1,
             "#276419"
            ]
           ],
           "sequential": [
            [
             0,
             "#0d0887"
            ],
            [
             0.1111111111111111,
             "#46039f"
            ],
            [
             0.2222222222222222,
             "#7201a8"
            ],
            [
             0.3333333333333333,
             "#9c179e"
            ],
            [
             0.4444444444444444,
             "#bd3786"
            ],
            [
             0.5555555555555556,
             "#d8576b"
            ],
            [
             0.6666666666666666,
             "#ed7953"
            ],
            [
             0.7777777777777778,
             "#fb9f3a"
            ],
            [
             0.8888888888888888,
             "#fdca26"
            ],
            [
             1,
             "#f0f921"
            ]
           ],
           "sequentialminus": [
            [
             0,
             "#0d0887"
            ],
            [
             0.1111111111111111,
             "#46039f"
            ],
            [
             0.2222222222222222,
             "#7201a8"
            ],
            [
             0.3333333333333333,
             "#9c179e"
            ],
            [
             0.4444444444444444,
             "#bd3786"
            ],
            [
             0.5555555555555556,
             "#d8576b"
            ],
            [
             0.6666666666666666,
             "#ed7953"
            ],
            [
             0.7777777777777778,
             "#fb9f3a"
            ],
            [
             0.8888888888888888,
             "#fdca26"
            ],
            [
             1,
             "#f0f921"
            ]
           ]
          },
          "colorway": [
           "#636efa",
           "#EF553B",
           "#00cc96",
           "#ab63fa",
           "#FFA15A",
           "#19d3f3",
           "#FF6692",
           "#B6E880",
           "#FF97FF",
           "#FECB52"
          ],
          "font": {
           "color": "#2a3f5f"
          },
          "geo": {
           "bgcolor": "white",
           "lakecolor": "white",
           "landcolor": "#E5ECF6",
           "showlakes": true,
           "showland": true,
           "subunitcolor": "white"
          },
          "hoverlabel": {
           "align": "left"
          },
          "hovermode": "closest",
          "mapbox": {
           "style": "light"
          },
          "paper_bgcolor": "white",
          "plot_bgcolor": "#E5ECF6",
          "polar": {
           "angularaxis": {
            "gridcolor": "white",
            "linecolor": "white",
            "ticks": ""
           },
           "bgcolor": "#E5ECF6",
           "radialaxis": {
            "gridcolor": "white",
            "linecolor": "white",
            "ticks": ""
           }
          },
          "scene": {
           "xaxis": {
            "backgroundcolor": "#E5ECF6",
            "gridcolor": "white",
            "gridwidth": 2,
            "linecolor": "white",
            "showbackground": true,
            "ticks": "",
            "zerolinecolor": "white"
           },
           "yaxis": {
            "backgroundcolor": "#E5ECF6",
            "gridcolor": "white",
            "gridwidth": 2,
            "linecolor": "white",
            "showbackground": true,
            "ticks": "",
            "zerolinecolor": "white"
           },
           "zaxis": {
            "backgroundcolor": "#E5ECF6",
            "gridcolor": "white",
            "gridwidth": 2,
            "linecolor": "white",
            "showbackground": true,
            "ticks": "",
            "zerolinecolor": "white"
           }
          },
          "shapedefaults": {
           "line": {
            "color": "#2a3f5f"
           }
          },
          "ternary": {
           "aaxis": {
            "gridcolor": "white",
            "linecolor": "white",
            "ticks": ""
           },
           "baxis": {
            "gridcolor": "white",
            "linecolor": "white",
            "ticks": ""
           },
           "bgcolor": "#E5ECF6",
           "caxis": {
            "gridcolor": "white",
            "linecolor": "white",
            "ticks": ""
           }
          },
          "title": {
           "x": 0.05
          },
          "xaxis": {
           "automargin": true,
           "gridcolor": "white",
           "linecolor": "white",
           "ticks": "",
           "title": {
            "standoff": 15
           },
           "zerolinecolor": "white",
           "zerolinewidth": 2
          },
          "yaxis": {
           "automargin": true,
           "gridcolor": "white",
           "linecolor": "white",
           "ticks": "",
           "title": {
            "standoff": 15
           },
           "zerolinecolor": "white",
           "zerolinewidth": 2
          }
         }
        },
        "title": {
         "font": {
          "color": "#4D5663"
         }
        },
        "xaxis": {
         "gridcolor": "#E1E5ED",
         "showgrid": true,
         "tickfont": {
          "color": "#4D5663"
         },
         "title": {
          "font": {
           "color": "#4D5663"
          },
          "text": "num of ratings"
         },
         "zerolinecolor": "#E1E5ED"
        },
        "yaxis": {
         "gridcolor": "#E1E5ED",
         "showgrid": true,
         "tickfont": {
          "color": "#4D5663"
         },
         "title": {
          "font": {
           "color": "#4D5663"
          },
          "text": ""
         },
         "zerolinecolor": "#E1E5ED"
        }
       }
      },
      "text/html": [
       "<div>                            <div id=\"6249e936-d978-4df8-b00b-efcd340ef80f\" class=\"plotly-graph-div\" style=\"height:525px; width:100%;\"></div>            <script type=\"text/javascript\">                require([\"plotly\"], function(Plotly) {                    window.PLOTLYENV=window.PLOTLYENV || {};\n",
       "                    window.PLOTLYENV.BASE_URL='https://plot.ly';                                    if (document.getElementById(\"6249e936-d978-4df8-b00b-efcd340ef80f\")) {                    Plotly.newPlot(                        \"6249e936-d978-4df8-b00b-efcd340ef80f\",                        [{\"histfunc\": \"count\", \"histnorm\": \"\", \"marker\": {\"color\": \"rgba(201, 143, 222, 1.0)\", \"line\": {\"color\": \"#4D5663\", \"width\": 1.3}}, \"name\": \"no. of ratings\", \"nbinsx\": 70, \"opacity\": 0.8, \"orientation\": \"v\", \"type\": \"histogram\", \"x\": [9, 5, 109, 125, 41, 93, 72, 259, 5, 59, 38, 4, 4, 8, 5, 127, 151, 103, 37, 4, 87, 54, 11, 39, 111, 67, 26, 152, 18, 65, 1, 43, 431, 16, 32, 50, 219, 26, 13, 6, 81, 291, 100, 124, 284, 66, 15, 3, 1, 12, 276, 18, 10, 11, 2, 164, 2, 99, 50, 124, 5, 6, 4, 53, 14, 5, 3, 19, 4, 38, 66, 18, 4, 6, 1, 1, 72, 39, 14, 2, 33, 21, 180, 28, 69, 7, 63, 221, 276, 55, 25, 15, 160, 54, 116, 59, 83, 115, 112, 39, 18, 41, 12, 1, 130, 8, 7, 3, 1, 219, 10, 2, 3, 350, 19, 57, 9, 6, 6, 16, 4, 16, 57, 9, 30, 28, 53, 101, 40, 44, 16, 62, 201, 114, 142, 1, 91, 2, 7, 86, 115, 29, 202, 156, 60, 57, 49, 26, 10, 4, 116, 16, 37, 124, 102, 6, 5, 6, 79, 20, 28, 48, 3, 2, 18, 8, 1, 17, 14, 14, 42, 171, 1, 73, 4, 37, 31, 1, 293, 162, 10, 3, 27, 55, 275, 19, 7, 46, 22, 6, 5, 10, 1, 29, 18, 9, 12, 45, 28, 251, 85, 13, 22, 69, 22, 4, 122, 189, 32, 201, 48, 44, 129, 15, 6, 6, 5, 2, 13, 34, 3, 76, 14, 120, 32, 297, 208, 12, 77, 95, 74, 46, 165, 67, 68, 254, 8, 48, 5, 1, 73, 1, 10, 4, 49, 86, 24, 9, 7, 216, 2, 1, 15, 4, 16, 106, 3, 29, 39, 65, 21, 86, 171, 3, 39, 1, 54, 2, 4, 5, 121, 11, 13, 243, 91, 52, 4, 48, 62, 32, 3, 8, 2, 56, 15, 10, 23, 1, 80, 9, 43, 40, 5, 379, 19, 5, 147, 69, 28, 4, 129, 121, 76, 198, 45, 79, 44, 8, 6, 96, 10, 4, 179, 148, 97, 93, 33, 221, 112, 170, 15, 125, 1, 2, 4, 15, 3, 137, 107, 2, 41, 42, 295, 509, 9, 2, 82, 164, 68, 175, 13, 86, 39, 4, 2, 221, 19, 104, 128, 154, 11, 10, 10, 4, 28, 134, 39, 2, 77, 1, 81, 24, 119, 8, 6, 18, 1, 66, 3, 19, 1, 1, 1, 256, 13, 8, 47, 2, 240, 16, 180, 11, 97, 2, 57, 53, 15, 64, 34, 299, 251, 18, 12, 28, 1, 1, 29, 65, 14, 120, 65, 2, 92, 7, 1, 7, 97, 72, 2, 57, 188, 240, 71, 68, 243, 166, 151, 31, 5, 98, 40, 66, 79, 76, 35, 147, 7, 46, 7, 13, 22, 101, 35, 194, 25, 158, 2, 7, 24, 31, 5, 93, 69, 123, 7, 6, 300, 59, 80, 6, 133, 3, 40, 113, 1, 177, 368, 70, 10, 4, 481, 32, 1, 206, 91, 91, 30, 1, 64, 5, 29, 127, 2, 1, 168, 89, 259, 52, 157, 16, 27, 64, 32, 1, 194, 4, 11, 30, 10, 3, 41, 2, 45, 64, 174, 7, 46, 12, 508, 17, 1, 32, 7, 19, 60, 128, 31, 5, 3, 1, 44, 10, 1, 25, 5, 32, 8, 212, 96, 197, 4, 44, 1, 18, 151, 40, 86, 160, 247, 34, 6, 31, 20, 5, 42, 6, 53, 14, 180, 23, 24, 3, 12, 14, 20, 3, 4, 67, 15, 2, 62, 321, 12, 90, 251, 61, 15, 4, 33, 11, 27, 42, 84, 39, 10, 26, 153, 115, 3, 92, 336, 170, 315, 8, 21, 21, 1, 175, 6, 251, 195, 16, 24, 35, 1, 136, 15, 162, 30, 4, 9, 209, 38, 18, 1, 5, 170, 43, 128, 26, 29, 51, 41, 3, 25, 1, 1, 2, 69, 48, 171, 15, 413, 209, 10, 2, 131, 11, 172, 2, 1, 198, 137, 226, 20, 3, 8, 239, 66, 9, 4, 170, 24, 1, 46, 124, 27, 31, 49, 19, 89, 4, 160, 280, 148, 4, 6, 5, 33, 20, 25, 90, 1, 149, 15, 31, 40, 4, 121, 40, 18, 15, 1, 4, 8, 5, 223, 171, 9, 27, 70, 5, 73, 13, 1, 13, 18, 124, 11, 66, 1, 9, 88, 29, 30, 153, 16, 56, 6, 1, 137, 19, 58, 32, 61, 73, 117, 7, 9, 1, 68, 4, 14, 25, 9, 18, 24, 24, 21, 71, 38, 110, 7, 127, 1, 227, 3, 9, 1, 3, 1, 100, 3, 10, 37, 10, 17, 1, 81, 108, 29, 3, 63, 230, 28, 18, 16, 66, 4, 169, 26, 102, 9, 10, 429, 20, 39, 331, 6, 3, 2, 4, 18, 137, 2, 23, 1, 57, 46, 81, 3, 21, 231, 1, 70, 7, 87, 126, 145, 17, 126, 63, 8, 280, 66, 16, 64, 5, 34, 3, 384, 8, 18, 45, 2, 41, 1, 4, 3, 23, 39, 25, 96, 85, 132, 45, 1, 261, 82, 14, 28, 59, 22, 23, 8, 10, 25, 7, 13, 22, 49, 65, 2, 4, 1, 121, 40, 7, 1, 4, 162, 31, 20, 143, 6, 117, 53, 69, 42, 297, 1, 4, 4, 6, 1, 9, 1, 7, 59, 9, 4, 53, 3, 58, 7, 3, 128, 5, 40, 21, 65, 173, 4, 4, 44, 298, 5, 81, 1, 3, 485, 1, 53, 7, 10, 148, 2, 220, 16, 22, 2, 12, 10, 41, 9, 18, 102, 23, 27, 5, 63, 4, 5, 187, 185, 55, 24, 8, 12, 125, 34, 158, 18, 1, 12, 12, 50, 1, 42, 4, 2, 7, 8, 10, 26, 3, 10, 1, 44, 206, 18, 1, 20, 2, 47, 1, 13, 7, 27, 91, 17, 5, 121, 19, 46, 54, 138, 1, 52, 80, 68, 1, 12, 7, 9, 9, 131, 91, 27, 13, 58, 6, 13, 22, 1, 217, 78, 178, 39, 59, 129, 1, 51, 95, 128, 20, 4, 8, 69, 34, 25, 31, 7, 2, 303, 2, 50, 7, 6, 36, 15, 119, 92, 24, 5, 80, 184, 11, 3, 37, 1, 89, 101, 6, 101, 1, 66, 344, 21, 15, 1, 42, 3, 92, 43, 9, 316, 174, 7, 49, 43, 1, 169, 22, 44, 293, 2, 12, 105, 4, 23, 96, 15, 192, 22, 22, 176, 82, 134, 84, 218, 60, 9, 100, 17, 172, 11, 125, 21, 3, 62, 86, 121, 2, 93, 27, 30, 130, 8, 25, 69, 2, 7, 128, 81, 3, 1, 4, 120, 12, 1, 2, 2, 4, 9, 1, 1, 44, 2, 32, 7, 64, 36, 143, 111, 3, 127, 4, 6, 58, 26, 90, 5, 1, 46, 1, 7, 179, 54, 3, 1, 7, 52, 24, 3, 163, 6, 1, 5, 6, 1, 5, 32, 64, 22, 85, 106, 50, 38, 28, 31, 112, 264, 15, 39, 2, 31, 7, 34, 21, 72, 1, 19, 104, 2, 12, 22, 14, 13, 5, 40, 20, 7, 73, 27, 1, 3, 46, 16, 28, 8, 33, 136, 136, 8, 215, 14, 4, 50, 44, 8, 43, 80, 13, 1, 5, 244, 137, 104, 168, 18, 10, 81, 4, 26, 114, 101, 127, 43, 51, 9, 13, 1, 27, 7, 10, 25, 183, 58, 48, 1, 68, 3, 164, 3, 40, 178, 13, 324, 15, 5, 67, 100, 149, 31, 6, 1, 20, 32, 239, 394, 79, 7, 2, 7, 1, 24, 27, 48, 67, 3, 175, 5, 12, 116, 420, 145, 58, 256, 70, 267, 1, 18, 119, 77, 209, 66, 90, 8, 57, 13, 52, 58, 3, 25, 1, 150, 43, 3, 8, 39, 148, 71, 44, 507, 92, 5, 15, 89, 21, 44, 157, 1, 43, 146, 17, 92, 18, 56, 75, 11, 378, 49, 68, 37, 5, 98, 134, 13, 5, 90, 114, 2, 23, 64, 16, 174, 4, 2, 64, 190, 13, 2, 2, 316, 2, 82, 2, 3, 2, 5, 298, 4, 12, 478, 106, 1, 46, 3, 138, 6, 5, 6, 79, 71, 162, 16, 268, 7, 54, 19, 236, 155, 72, 101, 2, 74, 44, 1, 45, 78, 1, 30, 17, 46, 66, 26, 283, 53, 73, 12, 129, 206, 3, 10, 1, 67, 2, 23, 390, 1, 10, 3, 137, 59, 74, 9, 82, 169, 213, 1, 5, 136, 2, 37, 1, 25, 48, 74, 150, 172, 4, 95, 12, 41, 59, 128, 2, 2, 1, 26, 82, 39, 58, 59, 222, 93, 1, 27, 143, 20, 45, 36, 230, 38, 30, 41, 26, 2, 97, 3, 43, 3, 9, 12, 11, 227, 3, 12, 19, 171, 199, 63, 161, 365, 116, 117, 244, 584, 127, 3, 211, 7, 64, 19, 1, 29, 241, 5, 5, 87, 7, 3, 11, 8, 98, 104, 12, 5, 67, 16, 17, 12, 4, 49, 47, 2, 11, 1, 65, 8, 26, 65, 19, 11, 4, 7, 44, 1, 7, 47, 157, 39, 17, 13, 82, 1, 1, 1, 43, 55, 27, 5, 13, 41, 1, 182, 13, 3, 34, 295, 301, 1, 6, 19, 41, 11, 176, 1, 2, 4, 5, 1, 7, 35, 12, 60, 71, 49, 72, 18, 191, 37, 22, 64, 83, 59, 1, 89, 9, 31, 32, 7, 1, 2, 232, 31, 193, 40, 51, 350, 18, 50, 1, 87, 44, 2, 219, 14, 57, 1, 9, 12, 108, 66, 180, 220, 21, 4, 9, 34, 2, 1, 452, 250, 32, 13, 80, 50, 23, 7, 35, 9, 208, 104, 11, 19, 272, 3, 5, 23, 2, 29, 392, 4, 6, 6, 293, 5, 4, 1, 7, 25, 4, 64, 9, 184, 21, 92, 124, 48, 5, 4, 4, 34, 182, 10, 22, 23, 11, 85, 47, 267, 12, 6, 27, 75, 2, 2, 1, 179, 93, 1, 77, 1, 22, 38, 2, 219, 137, 47, 16, 63, 1, 26, 4, 8, 67, 9, 1, 15, 10, 34, 102, 1, 3, 72, 60, 22, 112, 1, 35, 8, 115, 45, 290, 5, 44, 39, 16, 162, 10, 10, 85, 6, 19, 1, 9, 12, 43, 14, 11, 106, 326, 1, 1, 57, 75, 75, 9, 27, 46, 13, 1, 246, 67, 1, 15, 10, 10, 3, 6, 118, 50, 1, 7, 1, 200, 101, 44, 41, 6, 9, 1]}],                        {\"barmode\": \"overlay\", \"legend\": {\"bgcolor\": \"#F5F6F9\", \"font\": {\"color\": \"#4D5663\"}}, \"paper_bgcolor\": \"#F5F6F9\", \"plot_bgcolor\": \"#F5F6F9\", \"template\": {\"data\": {\"bar\": [{\"error_x\": {\"color\": \"#2a3f5f\"}, \"error_y\": {\"color\": \"#2a3f5f\"}, \"marker\": {\"line\": {\"color\": \"#E5ECF6\", \"width\": 0.5}}, \"type\": \"bar\"}], \"barpolar\": [{\"marker\": {\"line\": {\"color\": \"#E5ECF6\", \"width\": 0.5}}, \"type\": \"barpolar\"}], \"carpet\": [{\"aaxis\": {\"endlinecolor\": \"#2a3f5f\", \"gridcolor\": \"white\", \"linecolor\": \"white\", \"minorgridcolor\": \"white\", \"startlinecolor\": \"#2a3f5f\"}, \"baxis\": {\"endlinecolor\": \"#2a3f5f\", \"gridcolor\": \"white\", \"linecolor\": \"white\", \"minorgridcolor\": \"white\", \"startlinecolor\": \"#2a3f5f\"}, \"type\": \"carpet\"}], \"choropleth\": [{\"colorbar\": {\"outlinewidth\": 0, \"ticks\": \"\"}, \"type\": \"choropleth\"}], \"contour\": [{\"colorbar\": {\"outlinewidth\": 0, \"ticks\": \"\"}, \"colorscale\": [[0.0, \"#0d0887\"], [0.1111111111111111, \"#46039f\"], [0.2222222222222222, \"#7201a8\"], [0.3333333333333333, \"#9c179e\"], [0.4444444444444444, \"#bd3786\"], [0.5555555555555556, \"#d8576b\"], [0.6666666666666666, \"#ed7953\"], [0.7777777777777778, \"#fb9f3a\"], [0.8888888888888888, \"#fdca26\"], [1.0, \"#f0f921\"]], \"type\": \"contour\"}], \"contourcarpet\": [{\"colorbar\": {\"outlinewidth\": 0, \"ticks\": \"\"}, \"type\": \"contourcarpet\"}], \"heatmap\": [{\"colorbar\": {\"outlinewidth\": 0, \"ticks\": \"\"}, \"colorscale\": [[0.0, \"#0d0887\"], [0.1111111111111111, \"#46039f\"], [0.2222222222222222, \"#7201a8\"], [0.3333333333333333, \"#9c179e\"], [0.4444444444444444, \"#bd3786\"], [0.5555555555555556, \"#d8576b\"], [0.6666666666666666, \"#ed7953\"], [0.7777777777777778, \"#fb9f3a\"], [0.8888888888888888, \"#fdca26\"], [1.0, \"#f0f921\"]], \"type\": \"heatmap\"}], \"heatmapgl\": [{\"colorbar\": {\"outlinewidth\": 0, \"ticks\": \"\"}, \"colorscale\": [[0.0, \"#0d0887\"], [0.1111111111111111, \"#46039f\"], [0.2222222222222222, \"#7201a8\"], [0.3333333333333333, \"#9c179e\"], [0.4444444444444444, \"#bd3786\"], [0.5555555555555556, \"#d8576b\"], [0.6666666666666666, \"#ed7953\"], [0.7777777777777778, \"#fb9f3a\"], [0.8888888888888888, \"#fdca26\"], [1.0, \"#f0f921\"]], \"type\": \"heatmapgl\"}], \"histogram\": [{\"marker\": {\"colorbar\": {\"outlinewidth\": 0, \"ticks\": \"\"}}, \"type\": \"histogram\"}], \"histogram2d\": [{\"colorbar\": {\"outlinewidth\": 0, \"ticks\": \"\"}, \"colorscale\": [[0.0, \"#0d0887\"], [0.1111111111111111, \"#46039f\"], [0.2222222222222222, \"#7201a8\"], [0.3333333333333333, \"#9c179e\"], [0.4444444444444444, \"#bd3786\"], [0.5555555555555556, \"#d8576b\"], [0.6666666666666666, \"#ed7953\"], [0.7777777777777778, \"#fb9f3a\"], [0.8888888888888888, \"#fdca26\"], [1.0, \"#f0f921\"]], \"type\": \"histogram2d\"}], \"histogram2dcontour\": [{\"colorbar\": {\"outlinewidth\": 0, \"ticks\": \"\"}, \"colorscale\": [[0.0, \"#0d0887\"], [0.1111111111111111, \"#46039f\"], [0.2222222222222222, \"#7201a8\"], [0.3333333333333333, \"#9c179e\"], [0.4444444444444444, \"#bd3786\"], [0.5555555555555556, \"#d8576b\"], [0.6666666666666666, \"#ed7953\"], [0.7777777777777778, \"#fb9f3a\"], [0.8888888888888888, \"#fdca26\"], [1.0, \"#f0f921\"]], \"type\": \"histogram2dcontour\"}], \"mesh3d\": [{\"colorbar\": {\"outlinewidth\": 0, \"ticks\": \"\"}, \"type\": \"mesh3d\"}], \"parcoords\": [{\"line\": {\"colorbar\": {\"outlinewidth\": 0, \"ticks\": \"\"}}, \"type\": \"parcoords\"}], \"pie\": [{\"automargin\": true, \"type\": \"pie\"}], \"scatter\": [{\"marker\": {\"colorbar\": {\"outlinewidth\": 0, \"ticks\": \"\"}}, \"type\": \"scatter\"}], \"scatter3d\": [{\"line\": {\"colorbar\": {\"outlinewidth\": 0, \"ticks\": \"\"}}, \"marker\": {\"colorbar\": {\"outlinewidth\": 0, \"ticks\": \"\"}}, \"type\": \"scatter3d\"}], \"scattercarpet\": [{\"marker\": {\"colorbar\": {\"outlinewidth\": 0, \"ticks\": \"\"}}, \"type\": \"scattercarpet\"}], \"scattergeo\": [{\"marker\": {\"colorbar\": {\"outlinewidth\": 0, \"ticks\": \"\"}}, \"type\": \"scattergeo\"}], \"scattergl\": [{\"marker\": {\"colorbar\": {\"outlinewidth\": 0, \"ticks\": \"\"}}, \"type\": \"scattergl\"}], \"scattermapbox\": [{\"marker\": {\"colorbar\": {\"outlinewidth\": 0, \"ticks\": \"\"}}, \"type\": \"scattermapbox\"}], \"scatterpolar\": [{\"marker\": {\"colorbar\": {\"outlinewidth\": 0, \"ticks\": \"\"}}, \"type\": \"scatterpolar\"}], \"scatterpolargl\": [{\"marker\": {\"colorbar\": {\"outlinewidth\": 0, \"ticks\": \"\"}}, \"type\": \"scatterpolargl\"}], \"scatterternary\": [{\"marker\": {\"colorbar\": {\"outlinewidth\": 0, \"ticks\": \"\"}}, \"type\": \"scatterternary\"}], \"surface\": [{\"colorbar\": {\"outlinewidth\": 0, \"ticks\": \"\"}, \"colorscale\": [[0.0, \"#0d0887\"], [0.1111111111111111, \"#46039f\"], [0.2222222222222222, \"#7201a8\"], [0.3333333333333333, \"#9c179e\"], [0.4444444444444444, \"#bd3786\"], [0.5555555555555556, \"#d8576b\"], [0.6666666666666666, \"#ed7953\"], [0.7777777777777778, \"#fb9f3a\"], [0.8888888888888888, \"#fdca26\"], [1.0, \"#f0f921\"]], \"type\": \"surface\"}], \"table\": [{\"cells\": {\"fill\": {\"color\": \"#EBF0F8\"}, \"line\": {\"color\": \"white\"}}, \"header\": {\"fill\": {\"color\": \"#C8D4E3\"}, \"line\": {\"color\": \"white\"}}, \"type\": \"table\"}]}, \"layout\": {\"annotationdefaults\": {\"arrowcolor\": \"#2a3f5f\", \"arrowhead\": 0, \"arrowwidth\": 1}, \"autotypenumbers\": \"strict\", \"coloraxis\": {\"colorbar\": {\"outlinewidth\": 0, \"ticks\": \"\"}}, \"colorscale\": {\"diverging\": [[0, \"#8e0152\"], [0.1, \"#c51b7d\"], [0.2, \"#de77ae\"], [0.3, \"#f1b6da\"], [0.4, \"#fde0ef\"], [0.5, \"#f7f7f7\"], [0.6, \"#e6f5d0\"], [0.7, \"#b8e186\"], [0.8, \"#7fbc41\"], [0.9, \"#4d9221\"], [1, \"#276419\"]], \"sequential\": [[0.0, \"#0d0887\"], [0.1111111111111111, \"#46039f\"], [0.2222222222222222, \"#7201a8\"], [0.3333333333333333, \"#9c179e\"], [0.4444444444444444, \"#bd3786\"], [0.5555555555555556, \"#d8576b\"], [0.6666666666666666, \"#ed7953\"], [0.7777777777777778, \"#fb9f3a\"], [0.8888888888888888, \"#fdca26\"], [1.0, \"#f0f921\"]], \"sequentialminus\": [[0.0, \"#0d0887\"], [0.1111111111111111, \"#46039f\"], [0.2222222222222222, \"#7201a8\"], [0.3333333333333333, \"#9c179e\"], [0.4444444444444444, \"#bd3786\"], [0.5555555555555556, \"#d8576b\"], [0.6666666666666666, \"#ed7953\"], [0.7777777777777778, \"#fb9f3a\"], [0.8888888888888888, \"#fdca26\"], [1.0, \"#f0f921\"]]}, \"colorway\": [\"#636efa\", \"#EF553B\", \"#00cc96\", \"#ab63fa\", \"#FFA15A\", \"#19d3f3\", \"#FF6692\", \"#B6E880\", \"#FF97FF\", \"#FECB52\"], \"font\": {\"color\": \"#2a3f5f\"}, \"geo\": {\"bgcolor\": \"white\", \"lakecolor\": \"white\", \"landcolor\": \"#E5ECF6\", \"showlakes\": true, \"showland\": true, \"subunitcolor\": \"white\"}, \"hoverlabel\": {\"align\": \"left\"}, \"hovermode\": \"closest\", \"mapbox\": {\"style\": \"light\"}, \"paper_bgcolor\": \"white\", \"plot_bgcolor\": \"#E5ECF6\", \"polar\": {\"angularaxis\": {\"gridcolor\": \"white\", \"linecolor\": \"white\", \"ticks\": \"\"}, \"bgcolor\": \"#E5ECF6\", \"radialaxis\": {\"gridcolor\": \"white\", \"linecolor\": \"white\", \"ticks\": \"\"}}, \"scene\": {\"xaxis\": {\"backgroundcolor\": \"#E5ECF6\", \"gridcolor\": \"white\", \"gridwidth\": 2, \"linecolor\": \"white\", \"showbackground\": true, \"ticks\": \"\", \"zerolinecolor\": \"white\"}, \"yaxis\": {\"backgroundcolor\": \"#E5ECF6\", \"gridcolor\": \"white\", \"gridwidth\": 2, \"linecolor\": \"white\", \"showbackground\": true, \"ticks\": \"\", \"zerolinecolor\": \"white\"}, \"zaxis\": {\"backgroundcolor\": \"#E5ECF6\", \"gridcolor\": \"white\", \"gridwidth\": 2, \"linecolor\": \"white\", \"showbackground\": true, \"ticks\": \"\", \"zerolinecolor\": \"white\"}}, \"shapedefaults\": {\"line\": {\"color\": \"#2a3f5f\"}}, \"ternary\": {\"aaxis\": {\"gridcolor\": \"white\", \"linecolor\": \"white\", \"ticks\": \"\"}, \"baxis\": {\"gridcolor\": \"white\", \"linecolor\": \"white\", \"ticks\": \"\"}, \"bgcolor\": \"#E5ECF6\", \"caxis\": {\"gridcolor\": \"white\", \"linecolor\": \"white\", \"ticks\": \"\"}}, \"title\": {\"x\": 0.05}, \"xaxis\": {\"automargin\": true, \"gridcolor\": \"white\", \"linecolor\": \"white\", \"ticks\": \"\", \"title\": {\"standoff\": 15}, \"zerolinecolor\": \"white\", \"zerolinewidth\": 2}, \"yaxis\": {\"automargin\": true, \"gridcolor\": \"white\", \"linecolor\": \"white\", \"ticks\": \"\", \"title\": {\"standoff\": 15}, \"zerolinecolor\": \"white\", \"zerolinewidth\": 2}}}, \"title\": {\"font\": {\"color\": \"#4D5663\"}}, \"xaxis\": {\"gridcolor\": \"#E1E5ED\", \"showgrid\": true, \"tickfont\": {\"color\": \"#4D5663\"}, \"title\": {\"font\": {\"color\": \"#4D5663\"}, \"text\": \"num of ratings\"}, \"zerolinecolor\": \"#E1E5ED\"}, \"yaxis\": {\"gridcolor\": \"#E1E5ED\", \"showgrid\": true, \"tickfont\": {\"color\": \"#4D5663\"}, \"title\": {\"font\": {\"color\": \"#4D5663\"}, \"text\": \"\"}, \"zerolinecolor\": \"#E1E5ED\"}},                        {\"showLink\": true, \"linkText\": \"Export to plot.ly\", \"plotlyServerURL\": \"https://plot.ly\", \"responsive\": true}                    ).then(function(){\n",
       "                            \n",
       "var gd = document.getElementById('6249e936-d978-4df8-b00b-efcd340ef80f');\n",
       "var x = new MutationObserver(function (mutations, observer) {{\n",
       "        var display = window.getComputedStyle(gd).display;\n",
       "        if (!display || display === 'none') {{\n",
       "            console.log([gd, 'removed!']);\n",
       "            Plotly.purge(gd);\n",
       "            observer.disconnect();\n",
       "        }}\n",
       "}});\n",
       "\n",
       "// Listen for the removal of the full notebook cells\n",
       "var notebookContainer = gd.closest('#notebook-container');\n",
       "if (notebookContainer) {{\n",
       "    x.observe(notebookContainer, {childList: true});\n",
       "}}\n",
       "\n",
       "// Listen for the clearing of the current output cell\n",
       "var outputEl = gd.closest('.output');\n",
       "if (outputEl) {{\n",
       "    x.observe(outputEl, {childList: true});\n",
       "}}\n",
       "\n",
       "                        })                };                });            </script>        </div>"
      ]
     },
     "metadata": {},
     "output_type": "display_data"
    }
   ],
   "source": [
    "ratings['no. of ratings'].iplot(kind='hist',bins=70, colors='henanigans_purple1',\n",
    "                               xTitle='num of ratings')"
   ]
  },
  {
   "cell_type": "code",
   "execution_count": 22,
   "metadata": {},
   "outputs": [
    {
     "data": {
      "application/vnd.plotly.v1+json": {
       "config": {
        "linkText": "Export to plot.ly",
        "plotlyServerURL": "https://plot.ly",
        "showLink": true
       },
       "data": [
        {
         "histfunc": "count",
         "histnorm": "",
         "marker": {
          "color": "rgba(201, 143, 222, 1.0)",
          "line": {
           "color": "#4D5663",
           "width": 1.3
          }
         },
         "name": "rating",
         "nbinsx": 70,
         "opacity": 0.8,
         "orientation": "v",
         "type": "histogram",
         "x": [
          2.3333333333333335,
          2.6,
          2.908256880733945,
          4.344,
          3.024390243902439,
          3.225806451612903,
          3.5,
          3.969111969111969,
          1,
          4.0508474576271185,
          3.8157894736842106,
          3.25,
          3.75,
          4.125,
          3,
          3.37007874015748,
          3.589403973509934,
          3.0485436893203883,
          2.675675675675676,
          2.75,
          2.8160919540229883,
          3.1666666666666665,
          2.1818181818181817,
          3.051282051282051,
          3.5945945945945947,
          3.791044776119403,
          4.1923076923076925,
          4.184210526315789,
          3.111111111111111,
          3.3846153846153846,
          5,
          2.558139534883721,
          3.6310904872389793,
          2.8125,
          2.34375,
          3.38,
          3.8127853881278537,
          2.8461538461538463,
          2.6923076923076925,
          2.5,
          3.6666666666666665,
          4.034364261168385,
          2.83,
          3.096774193548387,
          3.9471830985915495,
          4.045454545454546,
          1.8666666666666667,
          3,
          3,
          3.3333333333333335,
          4.163043478260869,
          3.1666666666666665,
          2.8,
          2.6363636363636362,
          2.5,
          3.6280487804878048,
          2,
          3.5353535353535355,
          3.7,
          3.8548387096774195,
          1,
          1.1666666666666667,
          1.25,
          2.5660377358490565,
          1.6428571428571428,
          1,
          1,
          2.6842105263157894,
          2.5,
          2.289473684210526,
          3.4242424242424243,
          3.111111111111111,
          3.75,
          3,
          2,
          3,
          3.4166666666666665,
          2.923076923076923,
          2.642857142857143,
          4.5,
          3.090909090909091,
          3.857142857142857,
          3.911111111111111,
          2.5,
          3.9565217391304346,
          3.5714285714285716,
          3.9365079365079363,
          4.04524886877828,
          3.931159420289855,
          3.6545454545454548,
          2.84,
          2.6666666666666665,
          4.1,
          3.1296296296296298,
          3.4310344827586206,
          3.6610169491525424,
          3.036144578313253,
          4.078260869565217,
          4.196428571428571,
          2.871794871794872,
          3.5,
          3.2439024390243905,
          2.1666666666666665,
          1,
          3.246153846153846,
          2.375,
          3.142857142857143,
          1.6666666666666667,
          3,
          3.9954337899543377,
          2.5,
          1,
          2.3333333333333335,
          3.834285714285714,
          3.473684210526316,
          3.1052631578947367,
          2.2222222222222223,
          1.8333333333333333,
          2.6666666666666665,
          3.375,
          2.75,
          3,
          3.7017543859649122,
          3.6666666666666665,
          1.9333333333333333,
          2.5714285714285716,
          3.018867924528302,
          3.227722772277228,
          3.425,
          3.25,
          2.875,
          2.4516129032258065,
          3.427860696517413,
          2.6666666666666665,
          2.683098591549296,
          1,
          2.659340659340659,
          3.5,
          3.7142857142857144,
          2.313953488372093,
          3.391304347826087,
          3.9655172413793105,
          3.792079207920792,
          2.7884615384615383,
          3.2333333333333334,
          3.0701754385964914,
          3.4081632653061225,
          2.8461538461538463,
          3.8,
          1.75,
          3.9051724137931036,
          2.25,
          3.945945945945946,
          3.8306451612903225,
          3.4607843137254903,
          2.6666666666666665,
          3.4,
          1.5,
          3.569620253164557,
          2.25,
          2.392857142857143,
          2.3125,
          3.6666666666666665,
          1,
          3.0555555555555554,
          2.875,
          4,
          3.235294117647059,
          1.8571428571428572,
          2.5,
          3.8333333333333335,
          3.9005847953216373,
          3,
          4.027397260273973,
          2.25,
          3.081081081081081,
          1.903225806451613,
          1,
          3.4436860068259385,
          3.808641975308642,
          3.3,
          4.333333333333333,
          3.4444444444444446,
          2.6363636363636362,
          4.138181818181818,
          3,
          2.5714285714285716,
          2.717391304347826,
          2.8636363636363638,
          2.1666666666666665,
          2.4,
          1.7,
          1,
          2.7586206896551726,
          3.7777777777777777,
          2.6666666666666665,
          3.4166666666666665,
          3.1777777777777776,
          2.8214285714285716,
          3.8366533864541834,
          3.7411764705882353,
          1.6153846153846154,
          3.5,
          2.971014492753623,
          2.5454545454545454,
          2,
          3.819672131147541,
          3.5873015873015874,
          2.8125,
          4.203980099502488,
          2.1666666666666665,
          3.4545454545454546,
          3.8217054263565893,
          2.2,
          3.3333333333333335,
          3.3333333333333335,
          3.2,
          1,
          3.3846153846153846,
          3.1470588235294117,
          3.3333333333333335,
          2.8026315789473686,
          3.857142857142857,
          3.158333333333333,
          3.9375,
          4.151515151515151,
          3.8173076923076925,
          3.1666666666666665,
          3.4025974025974026,
          3.7263157894736842,
          3.72972972972973,
          3.608695652173913,
          4.175757575757576,
          3.1641791044776117,
          3.838235294117647,
          3.031496062992126,
          2.25,
          3.7916666666666665,
          3,
          2,
          3.452054794520548,
          4,
          3,
          2.25,
          3.204081632653061,
          3.7209302325581395,
          3.7083333333333335,
          2.4444444444444446,
          1.5714285714285714,
          3.949074074074074,
          4,
          1,
          3.1333333333333333,
          3,
          2.5625,
          2.339622641509434,
          2,
          2.413793103448276,
          3.641025641025641,
          2.723076923076923,
          2.4285714285714284,
          3.5232558139534884,
          3.456140350877193,
          2.3333333333333335,
          3.2564102564102564,
          1,
          3.4074074074074074,
          1.5,
          2.75,
          2.8,
          3.5041322314049586,
          3,
          3.230769230769231,
          4.45679012345679,
          3.6483516483516483,
          3.076923076923077,
          1.25,
          2.8958333333333335,
          3.9516129032258065,
          2.84375,
          1.3333333333333333,
          3.25,
          4,
          3.892857142857143,
          2.2,
          3.6,
          2.869565217391304,
          3,
          2.7,
          2.2222222222222223,
          3.0930232558139537,
          3.925,
          2.2,
          3.8390501319261214,
          1.3157894736842106,
          3.2,
          4.136054421768708,
          4.057971014492754,
          3.5714285714285716,
          2.75,
          3.5813953488372094,
          4.1735537190082646,
          3.486842105263158,
          4.292929292929293,
          3.6222222222222222,
          3.1392405063291138,
          2.5454545454545454,
          3,
          2.5,
          3.7916666666666665,
          2.8,
          2.75,
          3.569832402234637,
          3.804054054054054,
          3.381443298969072,
          3.021505376344086,
          3,
          3.909502262443439,
          4.491071428571429,
          3.458823529411765,
          2.8,
          3.824,
          2,
          2,
          3.5,
          2.7333333333333334,
          2.6666666666666665,
          3.45985401459854,
          3.046728971962617,
          2,
          2.2195121951219514,
          2.4523809523809526,
          3.4237288135593222,
          3.8035363457760316,
          3,
          2.5,
          3.024390243902439,
          3.9939024390243905,
          3.161764705882353,
          3.3771428571428572,
          2.3076923076923075,
          3.302325581395349,
          3.1538461538461537,
          4,
          1.5,
          3.6108597285067874,
          2.210526315789474,
          3.1153846153846154,
          2.546875,
          3.6298701298701297,
          3.090909090909091,
          3.2,
          3.5,
          4.25,
          3,
          3.417910447761194,
          1.9487179487179487,
          1.5,
          3.3376623376623376,
          1,
          3.7901234567901234,
          3.75,
          3.6218487394957983,
          2.75,
          3.3333333333333335,
          2.4444444444444446,
          3,
          3.8181818181818183,
          4,
          2.5789473684210527,
          3,
          1,
          4,
          3.79296875,
          3.769230769230769,
          1.75,
          3.3404255319148937,
          3,
          2.933333333333333,
          3.5,
          3.65,
          2.909090909090909,
          3.9381443298969074,
          2,
          2.7719298245614037,
          2.7169811320754715,
          3.6666666666666665,
          3.46875,
          3.823529411764706,
          3.8963210702341136,
          3.9163346613545817,
          2.7222222222222223,
          2.5,
          3.4285714285714284,
          4,
          1,
          2.8275862068965516,
          3.4,
          2.4285714285714284,
          3.8333333333333335,
          3.876923076923077,
          3,
          3.152173913043478,
          3,
          4,
          1.8571428571428572,
          3.4536082474226806,
          3.3194444444444446,
          3,
          3.3859649122807016,
          3.515957446808511,
          3.1083333333333334,
          2.887323943661972,
          4,
          3.8724279835390947,
          3.355421686746988,
          3.2847682119205297,
          3.967741935483871,
          2.4,
          3.1020408163265305,
          3,
          3.727272727272727,
          3.3417721518987342,
          3.5526315789473686,
          2.7714285714285714,
          3.802721088435374,
          2.7142857142857144,
          2.9782608695652173,
          3.4285714285714284,
          2.230769230769231,
          3.6818181818181817,
          2.702970297029703,
          3.7714285714285714,
          4.252577319587629,
          2.28,
          3.0822784810126582,
          1.5,
          3.142857142857143,
          2.75,
          2.5483870967741935,
          2.8,
          4,
          3,
          3.4959349593495936,
          1.8571428571428572,
          3.1666666666666665,
          3.8333333333333335,
          3.864406779661017,
          4.05,
          1.3333333333333333,
          3.601503759398496,
          2.6666666666666665,
          2.7,
          3.5398230088495577,
          3,
          3.7175141242937855,
          4.206521739130435,
          3.9285714285714284,
          2.5,
          3,
          3.656964656964657,
          3.375,
          5,
          3.150485436893204,
          2.4615384615384617,
          3.241758241758242,
          2.966666666666667,
          2,
          3.609375,
          2,
          2.9310344827586206,
          2.574803149606299,
          4.5,
          1,
          3.2738095238095237,
          3.5168539325842696,
          2.9806949806949805,
          2.5384615384615383,
          3.356687898089172,
          2.75,
          3.5555555555555554,
          3.171875,
          3.03125,
          1,
          3.768041237113402,
          3,
          2.1818181818181817,
          2.966666666666667,
          3.3,
          2,
          3.1463414634146343,
          1,
          3.5555555555555554,
          3.09375,
          3.7701149425287355,
          3.2857142857142856,
          3.9782608695652173,
          3.8333333333333335,
          4.155511811023622,
          3.1176470588235294,
          4,
          3.4375,
          3,
          2.6315789473684212,
          3.5833333333333335,
          2.8984375,
          2.5806451612903225,
          4.2,
          3,
          2,
          3.159090909090909,
          3.2,
          3,
          3.24,
          2.4,
          2.625,
          2.625,
          3.69811320754717,
          3.1145833333333335,
          3.4771573604060912,
          4,
          2.9318181818181817,
          3,
          2.8333333333333335,
          3.2781456953642385,
          2.925,
          3.0232558139534884,
          3.01875,
          3.785425101214575,
          2.6470588235294117,
          2.8333333333333335,
          2.064516129032258,
          2.45,
          3.6,
          3.6904761904761907,
          3.1666666666666665,
          2.7547169811320753,
          2.4285714285714284,
          3.6,
          2.739130434782609,
          3,
          2,
          2.8333333333333335,
          2.4285714285714284,
          4,
          2.6666666666666665,
          2.75,
          3.8358208955223883,
          3.8666666666666667,
          2,
          3.193548387096774,
          3.853582554517134,
          3.75,
          3.033333333333333,
          3.6613545816733066,
          3.1475409836065573,
          2.933333333333333,
          2.5,
          2.4545454545454546,
          2.1818181818181817,
          1.7407407407407407,
          3.357142857142857,
          3.3333333333333335,
          3.2051282051282053,
          4.1,
          3.4615384615384617,
          3.764705882352941,
          3.234782608695652,
          2.6666666666666665,
          3.119565217391304,
          4.044642857142857,
          3.6823529411764704,
          3.926984126984127,
          3.125,
          2.4285714285714284,
          3.6666666666666665,
          1,
          3.36,
          3.3333333333333335,
          3.593625498007968,
          4.02051282051282,
          2.6875,
          3.9166666666666665,
          3.8857142857142857,
          4,
          3.5955882352941178,
          3.8666666666666667,
          2.685185185185185,
          2.9,
          3,
          3.111111111111111,
          3.550239234449761,
          3.3157894736842106,
          2.3333333333333335,
          1,
          1.6,
          3.4647058823529413,
          3.6511627906976742,
          3.203125,
          3.6538461538461537,
          3.4827586206896552,
          3.7450980392156863,
          3.658536585365854,
          1.3333333333333333,
          2.76,
          1,
          3,
          2,
          3.463768115942029,
          2.75,
          4.076023391812866,
          3.2,
          4.283292978208232,
          4.186602870813397,
          3.1,
          4,
          3.2061068702290076,
          1.8181818181818181,
          3.854651162790698,
          3,
          1,
          4.262626262626263,
          3.8613138686131387,
          3.9513274336283186,
          2.9,
          1,
          3.25,
          4.104602510460251,
          4.106060606060606,
          3.2222222222222223,
          3.5,
          3.347058823529412,
          2,
          5,
          4.021739130434782,
          4.104838709677419,
          3.2222222222222223,
          3.2903225806451615,
          2.7551020408163267,
          3.210526315789474,
          3.4831460674157304,
          3.25,
          3.675,
          3.7642857142857142,
          3.0405405405405403,
          3.75,
          2.1666666666666665,
          2.6,
          2.606060606060606,
          2.5,
          2.2,
          4.011111111111111,
          3,
          3.389261744966443,
          4,
          2.903225806451613,
          2.7,
          2.75,
          3.8181818181818183,
          2.7,
          3.5,
          3.7333333333333334,
          4,
          3,
          3.25,
          3.8,
          3.569506726457399,
          3.690058479532164,
          2.5555555555555554,
          2.5185185185185186,
          3.6714285714285713,
          2.4,
          3.26027397260274,
          2.1538461538461537,
          1,
          2.6923076923076925,
          2,
          4.137096774193548,
          2.272727272727273,
          3.515151515151515,
          2,
          2.4444444444444446,
          4.1022727272727275,
          2.6206896551724137,
          3.3333333333333335,
          3.5359477124183005,
          2.125,
          4,
          2.3333333333333335,
          1,
          3.0875912408759123,
          1.894736842105263,
          3.1551724137931036,
          2.78125,
          3.2131147540983607,
          2.9315068493150687,
          4.094017094017094,
          2.7142857142857144,
          4.111111111111111,
          1,
          2.764705882352941,
          3.25,
          3.5714285714285716,
          2.52,
          2,
          3,
          3.0416666666666665,
          2.8333333333333335,
          2.761904761904762,
          3.3380281690140845,
          3.026315789473684,
          3.5545454545454547,
          3.2857142857142856,
          3.377952755905512,
          1,
          3.8634361233480177,
          2,
          2.6666666666666665,
          2,
          2.6666666666666665,
          4,
          3.06,
          2.3333333333333335,
          2.5,
          3.3783783783783785,
          2.6,
          3,
          1,
          3.3209876543209877,
          3.611111111111111,
          2.7586206896551726,
          2.3333333333333335,
          3.4603174603174605,
          3.3043478260869565,
          3.4285714285714284,
          2.2777777777777777,
          3.6875,
          3.712121212121212,
          2.75,
          3.7928994082840237,
          2.8846153846153846,
          3.911764705882353,
          2,
          3.5,
          3.438228438228438,
          3.25,
          2.8205128205128207,
          3.930513595166163,
          2.6666666666666665,
          3.3333333333333335,
          2,
          4.25,
          3.7222222222222223,
          3.1824817518248176,
          3,
          3.130434782608696,
          1,
          2.1578947368421053,
          3.652173913043478,
          4.012345679012346,
          2.6666666666666665,
          3.2857142857142856,
          4.121212121212121,
          1,
          3.142857142857143,
          2.142857142857143,
          3.1494252873563218,
          3.642857142857143,
          3.2551724137931033,
          2.2941176470588234,
          3.126984126984127,
          3.4761904761904763,
          3,
          3.775,
          2.6666666666666665,
          1.9375,
          4.109375,
          2,
          3.5294117647058822,
          2.6666666666666665,
          3.7109375,
          2.875,
          2.111111111111111,
          2.2444444444444445,
          1.5,
          2.6341463414634148,
          3,
          2,
          3.6666666666666665,
          3,
          2.8974358974358974,
          2.68,
          3.3125,
          3.5647058823529414,
          2.4393939393939394,
          3.022222222222222,
          4,
          3.7203065134099615,
          2.817073170731707,
          2,
          3.142857142857143,
          3.2203389830508473,
          3.3181818181818183,
          2.260869565217391,
          4.25,
          1.8,
          2.24,
          2.5714285714285716,
          2.923076923076923,
          2.727272727272727,
          3.061224489795918,
          3.076923076923077,
          2,
          2.5,
          4,
          4.132231404958677,
          3.475,
          3.2857142857142856,
          1,
          3.5,
          3.1296296296296298,
          3.161290322580645,
          2.85,
          3.4615384615384617,
          3,
          3.9914529914529915,
          3.490566037735849,
          2.63768115942029,
          3.6904761904761907,
          4.161616161616162,
          4,
          2.75,
          3.75,
          1.6666666666666667,
          3,
          2.3333333333333335,
          1,
          2.2857142857142856,
          2.7457627118644066,
          3.111111111111111,
          3,
          2.660377358490566,
          2.3333333333333335,
          3.4482758620689653,
          2.2857142857142856,
          3.6666666666666665,
          3.546875,
          3.4,
          4.1,
          1.7142857142857142,
          2.4461538461538463,
          4.23121387283237,
          2.5,
          3.75,
          1.8409090909090908,
          3.697986577181208,
          3.4,
          3.45679012345679,
          1,
          4.333333333333333,
          3.156701030927835,
          1,
          3.0754716981132075,
          2.2857142857142856,
          3,
          3.804054054054054,
          3,
          3.7818181818181817,
          2.875,
          3.3181818181818183,
          3.5,
          3.1666666666666665,
          2.6,
          3.658536585365854,
          3.5555555555555554,
          2.7222222222222223,
          3.676470588235294,
          3.0869565217391304,
          3.740740740740741,
          2.4,
          3.9682539682539684,
          2.5,
          2,
          4.053475935828877,
          3.4702702702702704,
          3.727272727272727,
          2.4166666666666665,
          3.25,
          3,
          3.136,
          3.9411764705882355,
          2.9430379746835444,
          3.1666666666666665,
          1,
          3.1666666666666665,
          2.8333333333333335,
          2.78,
          3,
          3.0952380952380953,
          3,
          2.5,
          2.857142857142857,
          3.125,
          3.9,
          3.6153846153846154,
          2,
          2.5,
          1,
          4,
          3.912621359223301,
          3.2222222222222223,
          2,
          3.45,
          1.5,
          3.25531914893617,
          3,
          2.1538461538461537,
          3.5714285714285716,
          2.5185185185185186,
          3.769230769230769,
          2.4705882352941178,
          3.6,
          3.9421487603305785,
          2.473684210526316,
          3.1739130434782608,
          3.4444444444444446,
          4.2101449275362315,
          4,
          2.923076923076923,
          4.025,
          3.5441176470588234,
          1,
          3.4166666666666665,
          3.4285714285714284,
          2.111111111111111,
          3.111111111111111,
          4.259541984732825,
          3.769230769230769,
          3.6296296296296298,
          3.1538461538461537,
          4.120689655172414,
          4,
          3.6153846153846154,
          2.5,
          5,
          2.847926267281106,
          3.58974358974359,
          3.7247191011235956,
          2.8205128205128207,
          3.0677966101694913,
          3.193798449612403,
          1,
          3.176470588235294,
          3.210526315789474,
          3.46875,
          2.8,
          4.5,
          3.5,
          2.1884057971014492,
          3.676470588235294,
          3.92,
          3.3548387096774195,
          2.142857142857143,
          3.5,
          3.745874587458746,
          2,
          3.46,
          3.4285714285714284,
          2.3333333333333335,
          2.9166666666666665,
          2.6,
          3.319327731092437,
          3.4565217391304346,
          3.75,
          2.8,
          3.1625,
          3.4184782608695654,
          2.272727272727273,
          1,
          2.72972972972973,
          1,
          3.651685393258427,
          2.742574257425743,
          3.6666666666666665,
          3.722772277227723,
          3,
          3.3636363636363638,
          3.313953488372093,
          3.619047619047619,
          2.533333333333333,
          1,
          3.5,
          3,
          2.8152173913043477,
          2.511627906976744,
          3.3333333333333335,
          4.0664556962025316,
          3.7471264367816093,
          2.5714285714285716,
          2.877551020408163,
          1.9534883720930232,
          1,
          3.1301775147928996,
          3.1818181818181817,
          2.477272727272727,
          3.7781569965870307,
          2.5,
          1.9166666666666667,
          4.123809523809523,
          3,
          2.3043478260869565,
          3.9479166666666665,
          3.6,
          3.4114583333333335,
          3.272727272727273,
          3.0454545454545454,
          4.0625,
          2.8780487804878048,
          2.8358208955223883,
          2.761904761904762,
          3.0871559633027523,
          3.6,
          3.5555555555555554,
          3.55,
          2.9411764705882355,
          3.36046511627907,
          3.1818181818181817,
          3.816,
          3.6666666666666665,
          3.6666666666666665,
          3.532258064516129,
          3.1627906976744184,
          3.8512396694214877,
          2,
          3.978494623655914,
          4.037037037037037,
          3.6333333333333333,
          3.4307692307692306,
          2.25,
          3.24,
          2.782608695652174,
          1.5,
          2.4285714285714284,
          2.953125,
          3.4814814814814814,
          3.6666666666666665,
          2,
          1.75,
          3.0083333333333333,
          2.1666666666666665,
          1,
          3,
          2.5,
          3,
          2.4444444444444446,
          3,
          2,
          3.0454545454545454,
          4,
          3.375,
          3.7142857142857144,
          3.421875,
          3.8333333333333335,
          3.5874125874125875,
          3.171171171171171,
          3,
          4.0078740157480315,
          2,
          2.8333333333333335,
          2.9310344827586206,
          3.769230769230769,
          3.1222222222222222,
          2.4,
          1,
          3.608695652173913,
          3,
          2.7142857142857144,
          4.284916201117318,
          3.5555555555555554,
          2.3333333333333335,
          2,
          3.2857142857142856,
          4.115384615384615,
          3.4583333333333335,
          2.3333333333333335,
          2.914110429447853,
          3.5,
          4,
          3.2,
          3.1666666666666665,
          1,
          2.6,
          3.34375,
          3.484375,
          2.772727272727273,
          3.388235294117647,
          3.556603773584906,
          3.4,
          3.8684210526315788,
          3.2857142857142856,
          4.064516129032258,
          3.232142857142857,
          4.291666666666667,
          3.466666666666667,
          3.1538461538461537,
          2.5,
          2.5161290322580645,
          2.142857142857143,
          3.6176470588235294,
          3.1904761904761907,
          3.611111111111111,
          3,
          2.6842105263157894,
          3.2403846153846154,
          2.5,
          2.25,
          2.3181818181818183,
          3.142857142857143,
          2.923076923076923,
          2.4,
          3.225,
          4.05,
          3.2857142857142856,
          3.095890410958904,
          3.814814814814815,
          3,
          2.3333333333333335,
          3.5434782608695654,
          2.875,
          3.1785714285714284,
          4.625,
          4.212121212121212,
          3.9926470588235294,
          3.2720588235294117,
          3,
          3.5953488372093023,
          2.642857142857143,
          4,
          3.68,
          4.045454545454546,
          1.875,
          2.7209302325581395,
          2.575,
          2.230769230769231,
          1,
          1.6,
          3.557377049180328,
          3.854014598540146,
          4.115384615384615,
          3.6011904761904763,
          3.611111111111111,
          3.1,
          2.962962962962963,
          2,
          3.6923076923076925,
          3.3508771929824563,
          3.6732673267326734,
          3.6929133858267718,
          2.627906976744186,
          2.5294117647058822,
          2.7777777777777777,
          2.1538461538461537,
          1,
          3.1481481481481484,
          3,
          3.3,
          2.68,
          3.9672131147540983,
          3.2241379310344827,
          3.2083333333333335,
          1,
          2.926470588235294,
          5,
          3.323170731707317,
          3.3333333333333335,
          4,
          3.601123595505618,
          3.923076923076923,
          4.172839506172839,
          3.1333333333333333,
          3,
          2.955223880597015,
          3.53,
          3.704697986577181,
          2.838709677419355,
          3.3333333333333335,
          1,
          2.7,
          2.9375,
          4.100418410041841,
          4.060913705583756,
          3.4177215189873418,
          3.142857142857143,
          2,
          2.4285714285714284,
          1,
          3.5,
          2.5185185185185186,
          3.2083333333333335,
          4.029850746268656,
          3.6666666666666665,
          3.645714285714286,
          2.8,
          3.3333333333333335,
          4.120689655172414,
          4.252380952380952,
          3.6,
          4.155172413793103,
          3.875,
          4.1,
          3.644194756554307,
          2,
          1.8333333333333333,
          3.6638655462184873,
          2.961038961038961,
          4.3875598086124405,
          3.9696969696969697,
          3.8555555555555556,
          2.75,
          3.3859649122807016,
          3.4615384615384617,
          3.5961538461538463,
          3.0344827586206895,
          1.6666666666666667,
          2.88,
          3,
          3.94,
          3,
          3.3333333333333335,
          3,
          3.3076923076923075,
          3.9864864864864864,
          3.464788732394366,
          3.772727272727273,
          4.007889546351085,
          3.5543478260869565,
          2.2,
          2.4,
          3.831460674157303,
          2.4285714285714284,
          3.7045454545454546,
          3.917197452229299,
          2,
          2.9069767441860463,
          3.143835616438356,
          2.2941176470588234,
          3.5652173913043477,
          3,
          2.5892857142857144,
          3.2266666666666666,
          1.7272727272727273,
          3.693121693121693,
          2.4081632653061225,
          4.102941176470588,
          3,
          3,
          3.061224489795918,
          3.985074626865672,
          3.230769230769231,
          2.8,
          3.888888888888889,
          3.6666666666666665,
          2.5,
          3.130434782608696,
          3.3125,
          3.875,
          3.4482758620689653,
          3.25,
          3,
          3.796875,
          3.5,
          4,
          3,
          5,
          3.1234177215189876,
          2,
          3.097560975609756,
          5,
          3,
          3,
          2.4,
          4.466442953020135,
          3,
          2.6666666666666665,
          3.4414225941422596,
          3.2169811320754715,
          3,
          2.652173913043478,
          2.6666666666666665,
          3.9057971014492754,
          2,
          2.6,
          3,
          3.5443037974683542,
          3.859154929577465,
          4.265432098765432,
          3.625,
          4.0111940298507465,
          2.4285714285714284,
          2.814814814814815,
          3.4210526315789473,
          3.847457627118644,
          3.458064516129032,
          3.5416666666666665,
          3.4752475247524752,
          1.5,
          2.5675675675675675,
          2.8636363636363638,
          1,
          2.888888888888889,
          3.9358974358974357,
          1,
          3,
          3.7058823529411766,
          4.260869565217392,
          3.8181818181818183,
          3.576923076923077,
          4.445229681978798,
          2.7358490566037736,
          3.0136986301369864,
          2.8333333333333335,
          3.9224806201550386,
          3.825242718446602,
          2.6666666666666665,
          2.5,
          2,
          3.7761194029850746,
          3,
          1.9565217391304348,
          4.28974358974359,
          3,
          3.2,
          1.6666666666666667,
          3.9927007299270074,
          2.983050847457627,
          3.77027027027027,
          3.2222222222222223,
          3.6341463414634148,
          3.514792899408284,
          3.539906103286385,
          3,
          2.6,
          4.198529411764706,
          3.5,
          2.4054054054054053,
          2,
          2.88,
          3.1666666666666665,
          3.6216216216216215,
          3.513333333333333,
          3.7093023255813953,
          3.25,
          3.0526315789473686,
          1.8333333333333333,
          4.2926829268292686,
          3.6610169491525424,
          3.984375,
          4.5,
          1,
          5,
          2.769230769230769,
          3.426829268292683,
          2.4871794871794872,
          3.896551724137931,
          3.169491525423729,
          3.765765765765766,
          2.774193548387097,
          4,
          3.074074074074074,
          2.6153846153846154,
          2.25,
          2.8666666666666667,
          3.0833333333333335,
          3.6478260869565218,
          2.1315789473684212,
          3.933333333333333,
          2.926829268292683,
          2.1153846153846154,
          2.5,
          3.804123711340206,
          2,
          2.511627906976744,
          1.6666666666666667,
          2.111111111111111,
          3.1666666666666665,
          3.5454545454545454,
          3.881057268722467,
          5,
          3.1666666666666665,
          3.0526315789473686,
          3.111111111111111,
          3.4472361809045227,
          2.3968253968253967,
          3.279503105590062,
          3.66027397260274,
          3.336206896551724,
          3.034188034188034,
          3.8155737704918034,
          4.359589041095891,
          3.141732283464567,
          2.3333333333333335,
          3.2322274881516586,
          2.5714285714285716,
          3.375,
          2.1578947368421053,
          1,
          2.413793103448276,
          4.058091286307054,
          4.2,
          3.2,
          3.264367816091954,
          2.4285714285714284,
          3,
          3.272727272727273,
          2.75,
          3.816326530612245,
          4.028846153846154,
          2.5833333333333335,
          3.8,
          2.2388059701492535,
          2.125,
          2,
          3.6666666666666665,
          3.25,
          2.693877551020408,
          2.723404255319149,
          1.5,
          3.5454545454545454,
          3,
          4.2,
          2.5,
          2.076923076923077,
          3.5384615384615383,
          3.1052631578947367,
          2.4545454545454546,
          2.25,
          2.857142857142857,
          3.772727272727273,
          3,
          2.4285714285714284,
          3.574468085106383,
          3.828025477707006,
          3.358974358974359,
          2.823529411764706,
          3.230769230769231,
          3.3292682926829267,
          1,
          1,
          3,
          2.9767441860465116,
          2.6363636363636362,
          2.037037037037037,
          1.8,
          3.3846153846153846,
          2.8536585365853657,
          3,
          4.1208791208791204,
          3.230769230769231,
          1.6666666666666667,
          2.676470588235294,
          4.0067796610169495,
          3.9335548172757475,
          1,
          2.6666666666666665,
          2.473684210526316,
          2.4634146341463414,
          3.3636363636363638,
          3.465909090909091,
          1,
          3,
          3,
          1.4,
          5,
          3.7142857142857144,
          3.7714285714285714,
          2.4166666666666665,
          4.15,
          3.1549295774647885,
          2.4489795918367347,
          4.333333333333333,
          3.9444444444444446,
          3.905759162303665,
          3.4054054054054053,
          3.272727272727273,
          4.015625,
          4.0602409638554215,
          3.864406779661017,
          3,
          3.303370786516854,
          3.2222222222222223,
          2.838709677419355,
          3.1875,
          2.4285714285714284,
          1,
          1.5,
          3.685344827586207,
          3.096774193548387,
          3.160621761658031,
          3.7,
          3.0784313725490198,
          4.2457142857142856,
          3.611111111111111,
          4.02,
          1,
          3.2758620689655173,
          3.0681818181818183,
          2,
          4.292237442922374,
          3.7857142857142856,
          2.8947368421052633,
          4,
          3.3333333333333335,
          3.1666666666666665,
          3.6666666666666665,
          2.909090909090909,
          3.4277777777777776,
          3.481818181818182,
          4.0476190476190474,
          2.75,
          2.7777777777777777,
          3.911764705882353,
          3,
          1,
          3.8783185840707963,
          3.884,
          2.84375,
          3.3076923076923075,
          4.1,
          3.24,
          2.5217391304347827,
          2.4285714285714284,
          3.2,
          3.3333333333333335,
          3.5625,
          3.6153846153846154,
          2.909090909090909,
          3.789473684210526,
          3.485294117647059,
          2,
          1.8,
          2.5652173913043477,
          2.5,
          3.413793103448276,
          3.798469387755102,
          2.5,
          2.1666666666666665,
          3.5,
          3.2150170648464163,
          2.2,
          2.25,
          3,
          2.4285714285714284,
          2.6,
          3.75,
          3.359375,
          3,
          3.760869565217391,
          3.761904761904762,
          3.4565217391304346,
          3.2903225806451615,
          2.4583333333333335,
          2.8,
          2.75,
          2.5,
          3.323529411764706,
          3.868131868131868,
          2.5,
          3.3181818181818183,
          2.8260869565217392,
          3.5454545454545454,
          3.1882352941176473,
          3.25531914893617,
          4.385767790262173,
          1.8333333333333333,
          2.6666666666666665,
          3.5925925925925926,
          2.4,
          1,
          2,
          1,
          4.251396648044692,
          2.3978494623655915,
          1,
          3.3376623376623376,
          1,
          2.6818181818181817,
          2.736842105263158,
          3.5,
          2.808219178082192,
          3.510948905109489,
          4.127659574468085,
          2.5,
          3.2857142857142856,
          3,
          3.8461538461538463,
          2.25,
          3.625,
          4.447761194029851,
          3.3333333333333335,
          2,
          3.2666666666666666,
          3,
          3.2941176470588234,
          2.803921568627451,
          3,
          4,
          3.486111111111111,
          2.6166666666666667,
          3.3636363636363638,
          3.7232142857142856,
          1,
          2.8,
          2.625,
          3.5391304347826087,
          3.488888888888889,
          3.910344827586207,
          3.4,
          4.045454545454546,
          3.4871794871794872,
          3.5625,
          3.549382716049383,
          2.8,
          2,
          3.4,
          4,
          3.5789473684210527,
          3,
          2.888888888888889,
          2.5,
          4.023255813953488,
          3.142857142857143,
          2.727272727272727,
          3.5943396226415096,
          3.6319018404907975,
          4,
          4,
          4,
          3.68,
          3.8,
          3.4444444444444446,
          2.4444444444444446,
          3.0652173913043477,
          3.230769230769231,
          4,
          4.0772357723577235,
          2.701492537313433,
          1,
          3.6666666666666665,
          4,
          3.2,
          2.6666666666666665,
          4,
          4.466101694915254,
          3.1,
          1,
          3.2857142857142856,
          3,
          3.945,
          3.207920792079208,
          2.772727272727273,
          3.341463414634146,
          2.1666666666666665,
          3.4444444444444446,
          3
         ]
        }
       ],
       "layout": {
        "barmode": "overlay",
        "legend": {
         "bgcolor": "#F5F6F9",
         "font": {
          "color": "#4D5663"
         }
        },
        "paper_bgcolor": "#F5F6F9",
        "plot_bgcolor": "#F5F6F9",
        "template": {
         "data": {
          "bar": [
           {
            "error_x": {
             "color": "#2a3f5f"
            },
            "error_y": {
             "color": "#2a3f5f"
            },
            "marker": {
             "line": {
              "color": "#E5ECF6",
              "width": 0.5
             }
            },
            "type": "bar"
           }
          ],
          "barpolar": [
           {
            "marker": {
             "line": {
              "color": "#E5ECF6",
              "width": 0.5
             }
            },
            "type": "barpolar"
           }
          ],
          "carpet": [
           {
            "aaxis": {
             "endlinecolor": "#2a3f5f",
             "gridcolor": "white",
             "linecolor": "white",
             "minorgridcolor": "white",
             "startlinecolor": "#2a3f5f"
            },
            "baxis": {
             "endlinecolor": "#2a3f5f",
             "gridcolor": "white",
             "linecolor": "white",
             "minorgridcolor": "white",
             "startlinecolor": "#2a3f5f"
            },
            "type": "carpet"
           }
          ],
          "choropleth": [
           {
            "colorbar": {
             "outlinewidth": 0,
             "ticks": ""
            },
            "type": "choropleth"
           }
          ],
          "contour": [
           {
            "colorbar": {
             "outlinewidth": 0,
             "ticks": ""
            },
            "colorscale": [
             [
              0,
              "#0d0887"
             ],
             [
              0.1111111111111111,
              "#46039f"
             ],
             [
              0.2222222222222222,
              "#7201a8"
             ],
             [
              0.3333333333333333,
              "#9c179e"
             ],
             [
              0.4444444444444444,
              "#bd3786"
             ],
             [
              0.5555555555555556,
              "#d8576b"
             ],
             [
              0.6666666666666666,
              "#ed7953"
             ],
             [
              0.7777777777777778,
              "#fb9f3a"
             ],
             [
              0.8888888888888888,
              "#fdca26"
             ],
             [
              1,
              "#f0f921"
             ]
            ],
            "type": "contour"
           }
          ],
          "contourcarpet": [
           {
            "colorbar": {
             "outlinewidth": 0,
             "ticks": ""
            },
            "type": "contourcarpet"
           }
          ],
          "heatmap": [
           {
            "colorbar": {
             "outlinewidth": 0,
             "ticks": ""
            },
            "colorscale": [
             [
              0,
              "#0d0887"
             ],
             [
              0.1111111111111111,
              "#46039f"
             ],
             [
              0.2222222222222222,
              "#7201a8"
             ],
             [
              0.3333333333333333,
              "#9c179e"
             ],
             [
              0.4444444444444444,
              "#bd3786"
             ],
             [
              0.5555555555555556,
              "#d8576b"
             ],
             [
              0.6666666666666666,
              "#ed7953"
             ],
             [
              0.7777777777777778,
              "#fb9f3a"
             ],
             [
              0.8888888888888888,
              "#fdca26"
             ],
             [
              1,
              "#f0f921"
             ]
            ],
            "type": "heatmap"
           }
          ],
          "heatmapgl": [
           {
            "colorbar": {
             "outlinewidth": 0,
             "ticks": ""
            },
            "colorscale": [
             [
              0,
              "#0d0887"
             ],
             [
              0.1111111111111111,
              "#46039f"
             ],
             [
              0.2222222222222222,
              "#7201a8"
             ],
             [
              0.3333333333333333,
              "#9c179e"
             ],
             [
              0.4444444444444444,
              "#bd3786"
             ],
             [
              0.5555555555555556,
              "#d8576b"
             ],
             [
              0.6666666666666666,
              "#ed7953"
             ],
             [
              0.7777777777777778,
              "#fb9f3a"
             ],
             [
              0.8888888888888888,
              "#fdca26"
             ],
             [
              1,
              "#f0f921"
             ]
            ],
            "type": "heatmapgl"
           }
          ],
          "histogram": [
           {
            "marker": {
             "colorbar": {
              "outlinewidth": 0,
              "ticks": ""
             }
            },
            "type": "histogram"
           }
          ],
          "histogram2d": [
           {
            "colorbar": {
             "outlinewidth": 0,
             "ticks": ""
            },
            "colorscale": [
             [
              0,
              "#0d0887"
             ],
             [
              0.1111111111111111,
              "#46039f"
             ],
             [
              0.2222222222222222,
              "#7201a8"
             ],
             [
              0.3333333333333333,
              "#9c179e"
             ],
             [
              0.4444444444444444,
              "#bd3786"
             ],
             [
              0.5555555555555556,
              "#d8576b"
             ],
             [
              0.6666666666666666,
              "#ed7953"
             ],
             [
              0.7777777777777778,
              "#fb9f3a"
             ],
             [
              0.8888888888888888,
              "#fdca26"
             ],
             [
              1,
              "#f0f921"
             ]
            ],
            "type": "histogram2d"
           }
          ],
          "histogram2dcontour": [
           {
            "colorbar": {
             "outlinewidth": 0,
             "ticks": ""
            },
            "colorscale": [
             [
              0,
              "#0d0887"
             ],
             [
              0.1111111111111111,
              "#46039f"
             ],
             [
              0.2222222222222222,
              "#7201a8"
             ],
             [
              0.3333333333333333,
              "#9c179e"
             ],
             [
              0.4444444444444444,
              "#bd3786"
             ],
             [
              0.5555555555555556,
              "#d8576b"
             ],
             [
              0.6666666666666666,
              "#ed7953"
             ],
             [
              0.7777777777777778,
              "#fb9f3a"
             ],
             [
              0.8888888888888888,
              "#fdca26"
             ],
             [
              1,
              "#f0f921"
             ]
            ],
            "type": "histogram2dcontour"
           }
          ],
          "mesh3d": [
           {
            "colorbar": {
             "outlinewidth": 0,
             "ticks": ""
            },
            "type": "mesh3d"
           }
          ],
          "parcoords": [
           {
            "line": {
             "colorbar": {
              "outlinewidth": 0,
              "ticks": ""
             }
            },
            "type": "parcoords"
           }
          ],
          "pie": [
           {
            "automargin": true,
            "type": "pie"
           }
          ],
          "scatter": [
           {
            "marker": {
             "colorbar": {
              "outlinewidth": 0,
              "ticks": ""
             }
            },
            "type": "scatter"
           }
          ],
          "scatter3d": [
           {
            "line": {
             "colorbar": {
              "outlinewidth": 0,
              "ticks": ""
             }
            },
            "marker": {
             "colorbar": {
              "outlinewidth": 0,
              "ticks": ""
             }
            },
            "type": "scatter3d"
           }
          ],
          "scattercarpet": [
           {
            "marker": {
             "colorbar": {
              "outlinewidth": 0,
              "ticks": ""
             }
            },
            "type": "scattercarpet"
           }
          ],
          "scattergeo": [
           {
            "marker": {
             "colorbar": {
              "outlinewidth": 0,
              "ticks": ""
             }
            },
            "type": "scattergeo"
           }
          ],
          "scattergl": [
           {
            "marker": {
             "colorbar": {
              "outlinewidth": 0,
              "ticks": ""
             }
            },
            "type": "scattergl"
           }
          ],
          "scattermapbox": [
           {
            "marker": {
             "colorbar": {
              "outlinewidth": 0,
              "ticks": ""
             }
            },
            "type": "scattermapbox"
           }
          ],
          "scatterpolar": [
           {
            "marker": {
             "colorbar": {
              "outlinewidth": 0,
              "ticks": ""
             }
            },
            "type": "scatterpolar"
           }
          ],
          "scatterpolargl": [
           {
            "marker": {
             "colorbar": {
              "outlinewidth": 0,
              "ticks": ""
             }
            },
            "type": "scatterpolargl"
           }
          ],
          "scatterternary": [
           {
            "marker": {
             "colorbar": {
              "outlinewidth": 0,
              "ticks": ""
             }
            },
            "type": "scatterternary"
           }
          ],
          "surface": [
           {
            "colorbar": {
             "outlinewidth": 0,
             "ticks": ""
            },
            "colorscale": [
             [
              0,
              "#0d0887"
             ],
             [
              0.1111111111111111,
              "#46039f"
             ],
             [
              0.2222222222222222,
              "#7201a8"
             ],
             [
              0.3333333333333333,
              "#9c179e"
             ],
             [
              0.4444444444444444,
              "#bd3786"
             ],
             [
              0.5555555555555556,
              "#d8576b"
             ],
             [
              0.6666666666666666,
              "#ed7953"
             ],
             [
              0.7777777777777778,
              "#fb9f3a"
             ],
             [
              0.8888888888888888,
              "#fdca26"
             ],
             [
              1,
              "#f0f921"
             ]
            ],
            "type": "surface"
           }
          ],
          "table": [
           {
            "cells": {
             "fill": {
              "color": "#EBF0F8"
             },
             "line": {
              "color": "white"
             }
            },
            "header": {
             "fill": {
              "color": "#C8D4E3"
             },
             "line": {
              "color": "white"
             }
            },
            "type": "table"
           }
          ]
         },
         "layout": {
          "annotationdefaults": {
           "arrowcolor": "#2a3f5f",
           "arrowhead": 0,
           "arrowwidth": 1
          },
          "autotypenumbers": "strict",
          "coloraxis": {
           "colorbar": {
            "outlinewidth": 0,
            "ticks": ""
           }
          },
          "colorscale": {
           "diverging": [
            [
             0,
             "#8e0152"
            ],
            [
             0.1,
             "#c51b7d"
            ],
            [
             0.2,
             "#de77ae"
            ],
            [
             0.3,
             "#f1b6da"
            ],
            [
             0.4,
             "#fde0ef"
            ],
            [
             0.5,
             "#f7f7f7"
            ],
            [
             0.6,
             "#e6f5d0"
            ],
            [
             0.7,
             "#b8e186"
            ],
            [
             0.8,
             "#7fbc41"
            ],
            [
             0.9,
             "#4d9221"
            ],
            [
             1,
             "#276419"
            ]
           ],
           "sequential": [
            [
             0,
             "#0d0887"
            ],
            [
             0.1111111111111111,
             "#46039f"
            ],
            [
             0.2222222222222222,
             "#7201a8"
            ],
            [
             0.3333333333333333,
             "#9c179e"
            ],
            [
             0.4444444444444444,
             "#bd3786"
            ],
            [
             0.5555555555555556,
             "#d8576b"
            ],
            [
             0.6666666666666666,
             "#ed7953"
            ],
            [
             0.7777777777777778,
             "#fb9f3a"
            ],
            [
             0.8888888888888888,
             "#fdca26"
            ],
            [
             1,
             "#f0f921"
            ]
           ],
           "sequentialminus": [
            [
             0,
             "#0d0887"
            ],
            [
             0.1111111111111111,
             "#46039f"
            ],
            [
             0.2222222222222222,
             "#7201a8"
            ],
            [
             0.3333333333333333,
             "#9c179e"
            ],
            [
             0.4444444444444444,
             "#bd3786"
            ],
            [
             0.5555555555555556,
             "#d8576b"
            ],
            [
             0.6666666666666666,
             "#ed7953"
            ],
            [
             0.7777777777777778,
             "#fb9f3a"
            ],
            [
             0.8888888888888888,
             "#fdca26"
            ],
            [
             1,
             "#f0f921"
            ]
           ]
          },
          "colorway": [
           "#636efa",
           "#EF553B",
           "#00cc96",
           "#ab63fa",
           "#FFA15A",
           "#19d3f3",
           "#FF6692",
           "#B6E880",
           "#FF97FF",
           "#FECB52"
          ],
          "font": {
           "color": "#2a3f5f"
          },
          "geo": {
           "bgcolor": "white",
           "lakecolor": "white",
           "landcolor": "#E5ECF6",
           "showlakes": true,
           "showland": true,
           "subunitcolor": "white"
          },
          "hoverlabel": {
           "align": "left"
          },
          "hovermode": "closest",
          "mapbox": {
           "style": "light"
          },
          "paper_bgcolor": "white",
          "plot_bgcolor": "#E5ECF6",
          "polar": {
           "angularaxis": {
            "gridcolor": "white",
            "linecolor": "white",
            "ticks": ""
           },
           "bgcolor": "#E5ECF6",
           "radialaxis": {
            "gridcolor": "white",
            "linecolor": "white",
            "ticks": ""
           }
          },
          "scene": {
           "xaxis": {
            "backgroundcolor": "#E5ECF6",
            "gridcolor": "white",
            "gridwidth": 2,
            "linecolor": "white",
            "showbackground": true,
            "ticks": "",
            "zerolinecolor": "white"
           },
           "yaxis": {
            "backgroundcolor": "#E5ECF6",
            "gridcolor": "white",
            "gridwidth": 2,
            "linecolor": "white",
            "showbackground": true,
            "ticks": "",
            "zerolinecolor": "white"
           },
           "zaxis": {
            "backgroundcolor": "#E5ECF6",
            "gridcolor": "white",
            "gridwidth": 2,
            "linecolor": "white",
            "showbackground": true,
            "ticks": "",
            "zerolinecolor": "white"
           }
          },
          "shapedefaults": {
           "line": {
            "color": "#2a3f5f"
           }
          },
          "ternary": {
           "aaxis": {
            "gridcolor": "white",
            "linecolor": "white",
            "ticks": ""
           },
           "baxis": {
            "gridcolor": "white",
            "linecolor": "white",
            "ticks": ""
           },
           "bgcolor": "#E5ECF6",
           "caxis": {
            "gridcolor": "white",
            "linecolor": "white",
            "ticks": ""
           }
          },
          "title": {
           "x": 0.05
          },
          "xaxis": {
           "automargin": true,
           "gridcolor": "white",
           "linecolor": "white",
           "ticks": "",
           "title": {
            "standoff": 15
           },
           "zerolinecolor": "white",
           "zerolinewidth": 2
          },
          "yaxis": {
           "automargin": true,
           "gridcolor": "white",
           "linecolor": "white",
           "ticks": "",
           "title": {
            "standoff": 15
           },
           "zerolinecolor": "white",
           "zerolinewidth": 2
          }
         }
        },
        "title": {
         "font": {
          "color": "#4D5663"
         }
        },
        "xaxis": {
         "gridcolor": "#E1E5ED",
         "showgrid": true,
         "tickfont": {
          "color": "#4D5663"
         },
         "title": {
          "font": {
           "color": "#4D5663"
          },
          "text": ""
         },
         "zerolinecolor": "#E1E5ED"
        },
        "yaxis": {
         "gridcolor": "#E1E5ED",
         "showgrid": true,
         "tickfont": {
          "color": "#4D5663"
         },
         "title": {
          "font": {
           "color": "#4D5663"
          },
          "text": ""
         },
         "zerolinecolor": "#E1E5ED"
        }
       }
      },
      "text/html": [
       "<div>                            <div id=\"194a9963-c5c5-4cc7-bcb5-60e995158ae5\" class=\"plotly-graph-div\" style=\"height:525px; width:100%;\"></div>            <script type=\"text/javascript\">                require([\"plotly\"], function(Plotly) {                    window.PLOTLYENV=window.PLOTLYENV || {};\n",
       "                    window.PLOTLYENV.BASE_URL='https://plot.ly';                                    if (document.getElementById(\"194a9963-c5c5-4cc7-bcb5-60e995158ae5\")) {                    Plotly.newPlot(                        \"194a9963-c5c5-4cc7-bcb5-60e995158ae5\",                        [{\"histfunc\": \"count\", \"histnorm\": \"\", \"marker\": {\"color\": \"rgba(201, 143, 222, 1.0)\", \"line\": {\"color\": \"#4D5663\", \"width\": 1.3}}, \"name\": \"rating\", \"nbinsx\": 70, \"opacity\": 0.8, \"orientation\": \"v\", \"type\": \"histogram\", \"x\": [2.3333333333333335, 2.6, 2.908256880733945, 4.344, 3.024390243902439, 3.225806451612903, 3.5, 3.969111969111969, 1.0, 4.0508474576271185, 3.8157894736842106, 3.25, 3.75, 4.125, 3.0, 3.37007874015748, 3.589403973509934, 3.0485436893203883, 2.675675675675676, 2.75, 2.8160919540229883, 3.1666666666666665, 2.1818181818181817, 3.051282051282051, 3.5945945945945947, 3.791044776119403, 4.1923076923076925, 4.184210526315789, 3.111111111111111, 3.3846153846153846, 5.0, 2.558139534883721, 3.6310904872389793, 2.8125, 2.34375, 3.38, 3.8127853881278537, 2.8461538461538463, 2.6923076923076925, 2.5, 3.6666666666666665, 4.034364261168385, 2.83, 3.096774193548387, 3.9471830985915495, 4.045454545454546, 1.8666666666666667, 3.0, 3.0, 3.3333333333333335, 4.163043478260869, 3.1666666666666665, 2.8, 2.6363636363636362, 2.5, 3.6280487804878048, 2.0, 3.5353535353535355, 3.7, 3.8548387096774195, 1.0, 1.1666666666666667, 1.25, 2.5660377358490565, 1.6428571428571428, 1.0, 1.0, 2.6842105263157894, 2.5, 2.289473684210526, 3.4242424242424243, 3.111111111111111, 3.75, 3.0, 2.0, 3.0, 3.4166666666666665, 2.923076923076923, 2.642857142857143, 4.5, 3.090909090909091, 3.857142857142857, 3.911111111111111, 2.5, 3.9565217391304346, 3.5714285714285716, 3.9365079365079363, 4.04524886877828, 3.931159420289855, 3.6545454545454548, 2.84, 2.6666666666666665, 4.1, 3.1296296296296298, 3.4310344827586206, 3.6610169491525424, 3.036144578313253, 4.078260869565217, 4.196428571428571, 2.871794871794872, 3.5, 3.2439024390243905, 2.1666666666666665, 1.0, 3.246153846153846, 2.375, 3.142857142857143, 1.6666666666666667, 3.0, 3.9954337899543377, 2.5, 1.0, 2.3333333333333335, 3.834285714285714, 3.473684210526316, 3.1052631578947367, 2.2222222222222223, 1.8333333333333333, 2.6666666666666665, 3.375, 2.75, 3.0, 3.7017543859649122, 3.6666666666666665, 1.9333333333333333, 2.5714285714285716, 3.018867924528302, 3.227722772277228, 3.425, 3.25, 2.875, 2.4516129032258065, 3.427860696517413, 2.6666666666666665, 2.683098591549296, 1.0, 2.659340659340659, 3.5, 3.7142857142857144, 2.313953488372093, 3.391304347826087, 3.9655172413793105, 3.792079207920792, 2.7884615384615383, 3.2333333333333334, 3.0701754385964914, 3.4081632653061225, 2.8461538461538463, 3.8, 1.75, 3.9051724137931036, 2.25, 3.945945945945946, 3.8306451612903225, 3.4607843137254903, 2.6666666666666665, 3.4, 1.5, 3.569620253164557, 2.25, 2.392857142857143, 2.3125, 3.6666666666666665, 1.0, 3.0555555555555554, 2.875, 4.0, 3.235294117647059, 1.8571428571428572, 2.5, 3.8333333333333335, 3.9005847953216373, 3.0, 4.027397260273973, 2.25, 3.081081081081081, 1.903225806451613, 1.0, 3.4436860068259385, 3.808641975308642, 3.3, 4.333333333333333, 3.4444444444444446, 2.6363636363636362, 4.138181818181818, 3.0, 2.5714285714285716, 2.717391304347826, 2.8636363636363638, 2.1666666666666665, 2.4, 1.7, 1.0, 2.7586206896551726, 3.7777777777777777, 2.6666666666666665, 3.4166666666666665, 3.1777777777777776, 2.8214285714285716, 3.8366533864541834, 3.7411764705882353, 1.6153846153846154, 3.5, 2.971014492753623, 2.5454545454545454, 2.0, 3.819672131147541, 3.5873015873015874, 2.8125, 4.203980099502488, 2.1666666666666665, 3.4545454545454546, 3.8217054263565893, 2.2, 3.3333333333333335, 3.3333333333333335, 3.2, 1.0, 3.3846153846153846, 3.1470588235294117, 3.3333333333333335, 2.8026315789473686, 3.857142857142857, 3.158333333333333, 3.9375, 4.151515151515151, 3.8173076923076925, 3.1666666666666665, 3.4025974025974026, 3.7263157894736842, 3.72972972972973, 3.608695652173913, 4.175757575757576, 3.1641791044776117, 3.838235294117647, 3.031496062992126, 2.25, 3.7916666666666665, 3.0, 2.0, 3.452054794520548, 4.0, 3.0, 2.25, 3.204081632653061, 3.7209302325581395, 3.7083333333333335, 2.4444444444444446, 1.5714285714285714, 3.949074074074074, 4.0, 1.0, 3.1333333333333333, 3.0, 2.5625, 2.339622641509434, 2.0, 2.413793103448276, 3.641025641025641, 2.723076923076923, 2.4285714285714284, 3.5232558139534884, 3.456140350877193, 2.3333333333333335, 3.2564102564102564, 1.0, 3.4074074074074074, 1.5, 2.75, 2.8, 3.5041322314049586, 3.0, 3.230769230769231, 4.45679012345679, 3.6483516483516483, 3.076923076923077, 1.25, 2.8958333333333335, 3.9516129032258065, 2.84375, 1.3333333333333333, 3.25, 4.0, 3.892857142857143, 2.2, 3.6, 2.869565217391304, 3.0, 2.7, 2.2222222222222223, 3.0930232558139537, 3.925, 2.2, 3.8390501319261214, 1.3157894736842106, 3.2, 4.136054421768708, 4.057971014492754, 3.5714285714285716, 2.75, 3.5813953488372094, 4.1735537190082646, 3.486842105263158, 4.292929292929293, 3.6222222222222222, 3.1392405063291138, 2.5454545454545454, 3.0, 2.5, 3.7916666666666665, 2.8, 2.75, 3.569832402234637, 3.804054054054054, 3.381443298969072, 3.021505376344086, 3.0, 3.909502262443439, 4.491071428571429, 3.458823529411765, 2.8, 3.824, 2.0, 2.0, 3.5, 2.7333333333333334, 2.6666666666666665, 3.45985401459854, 3.046728971962617, 2.0, 2.2195121951219514, 2.4523809523809526, 3.4237288135593222, 3.8035363457760316, 3.0, 2.5, 3.024390243902439, 3.9939024390243905, 3.161764705882353, 3.3771428571428572, 2.3076923076923075, 3.302325581395349, 3.1538461538461537, 4.0, 1.5, 3.6108597285067874, 2.210526315789474, 3.1153846153846154, 2.546875, 3.6298701298701297, 3.090909090909091, 3.2, 3.5, 4.25, 3.0, 3.417910447761194, 1.9487179487179487, 1.5, 3.3376623376623376, 1.0, 3.7901234567901234, 3.75, 3.6218487394957983, 2.75, 3.3333333333333335, 2.4444444444444446, 3.0, 3.8181818181818183, 4.0, 2.5789473684210527, 3.0, 1.0, 4.0, 3.79296875, 3.769230769230769, 1.75, 3.3404255319148937, 3.0, 2.933333333333333, 3.5, 3.65, 2.909090909090909, 3.9381443298969074, 2.0, 2.7719298245614037, 2.7169811320754715, 3.6666666666666665, 3.46875, 3.823529411764706, 3.8963210702341136, 3.9163346613545817, 2.7222222222222223, 2.5, 3.4285714285714284, 4.0, 1.0, 2.8275862068965516, 3.4, 2.4285714285714284, 3.8333333333333335, 3.876923076923077, 3.0, 3.152173913043478, 3.0, 4.0, 1.8571428571428572, 3.4536082474226806, 3.3194444444444446, 3.0, 3.3859649122807016, 3.515957446808511, 3.1083333333333334, 2.887323943661972, 4.0, 3.8724279835390947, 3.355421686746988, 3.2847682119205297, 3.967741935483871, 2.4, 3.1020408163265305, 3.0, 3.727272727272727, 3.3417721518987342, 3.5526315789473686, 2.7714285714285714, 3.802721088435374, 2.7142857142857144, 2.9782608695652173, 3.4285714285714284, 2.230769230769231, 3.6818181818181817, 2.702970297029703, 3.7714285714285714, 4.252577319587629, 2.28, 3.0822784810126582, 1.5, 3.142857142857143, 2.75, 2.5483870967741935, 2.8, 4.0, 3.0, 3.4959349593495936, 1.8571428571428572, 3.1666666666666665, 3.8333333333333335, 3.864406779661017, 4.05, 1.3333333333333333, 3.601503759398496, 2.6666666666666665, 2.7, 3.5398230088495577, 3.0, 3.7175141242937855, 4.206521739130435, 3.9285714285714284, 2.5, 3.0, 3.656964656964657, 3.375, 5.0, 3.150485436893204, 2.4615384615384617, 3.241758241758242, 2.966666666666667, 2.0, 3.609375, 2.0, 2.9310344827586206, 2.574803149606299, 4.5, 1.0, 3.2738095238095237, 3.5168539325842696, 2.9806949806949805, 2.5384615384615383, 3.356687898089172, 2.75, 3.5555555555555554, 3.171875, 3.03125, 1.0, 3.768041237113402, 3.0, 2.1818181818181817, 2.966666666666667, 3.3, 2.0, 3.1463414634146343, 1.0, 3.5555555555555554, 3.09375, 3.7701149425287355, 3.2857142857142856, 3.9782608695652173, 3.8333333333333335, 4.155511811023622, 3.1176470588235294, 4.0, 3.4375, 3.0, 2.6315789473684212, 3.5833333333333335, 2.8984375, 2.5806451612903225, 4.2, 3.0, 2.0, 3.159090909090909, 3.2, 3.0, 3.24, 2.4, 2.625, 2.625, 3.69811320754717, 3.1145833333333335, 3.4771573604060912, 4.0, 2.9318181818181817, 3.0, 2.8333333333333335, 3.2781456953642385, 2.925, 3.0232558139534884, 3.01875, 3.785425101214575, 2.6470588235294117, 2.8333333333333335, 2.064516129032258, 2.45, 3.6, 3.6904761904761907, 3.1666666666666665, 2.7547169811320753, 2.4285714285714284, 3.6, 2.739130434782609, 3.0, 2.0, 2.8333333333333335, 2.4285714285714284, 4.0, 2.6666666666666665, 2.75, 3.8358208955223883, 3.8666666666666667, 2.0, 3.193548387096774, 3.853582554517134, 3.75, 3.033333333333333, 3.6613545816733066, 3.1475409836065573, 2.933333333333333, 2.5, 2.4545454545454546, 2.1818181818181817, 1.7407407407407407, 3.357142857142857, 3.3333333333333335, 3.2051282051282053, 4.1, 3.4615384615384617, 3.764705882352941, 3.234782608695652, 2.6666666666666665, 3.119565217391304, 4.044642857142857, 3.6823529411764704, 3.926984126984127, 3.125, 2.4285714285714284, 3.6666666666666665, 1.0, 3.36, 3.3333333333333335, 3.593625498007968, 4.02051282051282, 2.6875, 3.9166666666666665, 3.8857142857142857, 4.0, 3.5955882352941178, 3.8666666666666667, 2.685185185185185, 2.9, 3.0, 3.111111111111111, 3.550239234449761, 3.3157894736842106, 2.3333333333333335, 1.0, 1.6, 3.4647058823529413, 3.6511627906976742, 3.203125, 3.6538461538461537, 3.4827586206896552, 3.7450980392156863, 3.658536585365854, 1.3333333333333333, 2.76, 1.0, 3.0, 2.0, 3.463768115942029, 2.75, 4.076023391812866, 3.2, 4.283292978208232, 4.186602870813397, 3.1, 4.0, 3.2061068702290076, 1.8181818181818181, 3.854651162790698, 3.0, 1.0, 4.262626262626263, 3.8613138686131387, 3.9513274336283186, 2.9, 1.0, 3.25, 4.104602510460251, 4.106060606060606, 3.2222222222222223, 3.5, 3.347058823529412, 2.0, 5.0, 4.021739130434782, 4.104838709677419, 3.2222222222222223, 3.2903225806451615, 2.7551020408163267, 3.210526315789474, 3.4831460674157304, 3.25, 3.675, 3.7642857142857142, 3.0405405405405403, 3.75, 2.1666666666666665, 2.6, 2.606060606060606, 2.5, 2.2, 4.011111111111111, 3.0, 3.389261744966443, 4.0, 2.903225806451613, 2.7, 2.75, 3.8181818181818183, 2.7, 3.5, 3.7333333333333334, 4.0, 3.0, 3.25, 3.8, 3.569506726457399, 3.690058479532164, 2.5555555555555554, 2.5185185185185186, 3.6714285714285713, 2.4, 3.26027397260274, 2.1538461538461537, 1.0, 2.6923076923076925, 2.0, 4.137096774193548, 2.272727272727273, 3.515151515151515, 2.0, 2.4444444444444446, 4.1022727272727275, 2.6206896551724137, 3.3333333333333335, 3.5359477124183005, 2.125, 4.0, 2.3333333333333335, 1.0, 3.0875912408759123, 1.894736842105263, 3.1551724137931036, 2.78125, 3.2131147540983607, 2.9315068493150687, 4.094017094017094, 2.7142857142857144, 4.111111111111111, 1.0, 2.764705882352941, 3.25, 3.5714285714285716, 2.52, 2.0, 3.0, 3.0416666666666665, 2.8333333333333335, 2.761904761904762, 3.3380281690140845, 3.026315789473684, 3.5545454545454547, 3.2857142857142856, 3.377952755905512, 1.0, 3.8634361233480177, 2.0, 2.6666666666666665, 2.0, 2.6666666666666665, 4.0, 3.06, 2.3333333333333335, 2.5, 3.3783783783783785, 2.6, 3.0, 1.0, 3.3209876543209877, 3.611111111111111, 2.7586206896551726, 2.3333333333333335, 3.4603174603174605, 3.3043478260869565, 3.4285714285714284, 2.2777777777777777, 3.6875, 3.712121212121212, 2.75, 3.7928994082840237, 2.8846153846153846, 3.911764705882353, 2.0, 3.5, 3.438228438228438, 3.25, 2.8205128205128207, 3.930513595166163, 2.6666666666666665, 3.3333333333333335, 2.0, 4.25, 3.7222222222222223, 3.1824817518248176, 3.0, 3.130434782608696, 1.0, 2.1578947368421053, 3.652173913043478, 4.012345679012346, 2.6666666666666665, 3.2857142857142856, 4.121212121212121, 1.0, 3.142857142857143, 2.142857142857143, 3.1494252873563218, 3.642857142857143, 3.2551724137931033, 2.2941176470588234, 3.126984126984127, 3.4761904761904763, 3.0, 3.775, 2.6666666666666665, 1.9375, 4.109375, 2.0, 3.5294117647058822, 2.6666666666666665, 3.7109375, 2.875, 2.111111111111111, 2.2444444444444445, 1.5, 2.6341463414634148, 3.0, 2.0, 3.6666666666666665, 3.0, 2.8974358974358974, 2.68, 3.3125, 3.5647058823529414, 2.4393939393939394, 3.022222222222222, 4.0, 3.7203065134099615, 2.817073170731707, 2.0, 3.142857142857143, 3.2203389830508473, 3.3181818181818183, 2.260869565217391, 4.25, 1.8, 2.24, 2.5714285714285716, 2.923076923076923, 2.727272727272727, 3.061224489795918, 3.076923076923077, 2.0, 2.5, 4.0, 4.132231404958677, 3.475, 3.2857142857142856, 1.0, 3.5, 3.1296296296296298, 3.161290322580645, 2.85, 3.4615384615384617, 3.0, 3.9914529914529915, 3.490566037735849, 2.63768115942029, 3.6904761904761907, 4.161616161616162, 4.0, 2.75, 3.75, 1.6666666666666667, 3.0, 2.3333333333333335, 1.0, 2.2857142857142856, 2.7457627118644066, 3.111111111111111, 3.0, 2.660377358490566, 2.3333333333333335, 3.4482758620689653, 2.2857142857142856, 3.6666666666666665, 3.546875, 3.4, 4.1, 1.7142857142857142, 2.4461538461538463, 4.23121387283237, 2.5, 3.75, 1.8409090909090908, 3.697986577181208, 3.4, 3.45679012345679, 1.0, 4.333333333333333, 3.156701030927835, 1.0, 3.0754716981132075, 2.2857142857142856, 3.0, 3.804054054054054, 3.0, 3.7818181818181817, 2.875, 3.3181818181818183, 3.5, 3.1666666666666665, 2.6, 3.658536585365854, 3.5555555555555554, 2.7222222222222223, 3.676470588235294, 3.0869565217391304, 3.740740740740741, 2.4, 3.9682539682539684, 2.5, 2.0, 4.053475935828877, 3.4702702702702704, 3.727272727272727, 2.4166666666666665, 3.25, 3.0, 3.136, 3.9411764705882355, 2.9430379746835444, 3.1666666666666665, 1.0, 3.1666666666666665, 2.8333333333333335, 2.78, 3.0, 3.0952380952380953, 3.0, 2.5, 2.857142857142857, 3.125, 3.9, 3.6153846153846154, 2.0, 2.5, 1.0, 4.0, 3.912621359223301, 3.2222222222222223, 2.0, 3.45, 1.5, 3.25531914893617, 3.0, 2.1538461538461537, 3.5714285714285716, 2.5185185185185186, 3.769230769230769, 2.4705882352941178, 3.6, 3.9421487603305785, 2.473684210526316, 3.1739130434782608, 3.4444444444444446, 4.2101449275362315, 4.0, 2.923076923076923, 4.025, 3.5441176470588234, 1.0, 3.4166666666666665, 3.4285714285714284, 2.111111111111111, 3.111111111111111, 4.259541984732825, 3.769230769230769, 3.6296296296296298, 3.1538461538461537, 4.120689655172414, 4.0, 3.6153846153846154, 2.5, 5.0, 2.847926267281106, 3.58974358974359, 3.7247191011235956, 2.8205128205128207, 3.0677966101694913, 3.193798449612403, 1.0, 3.176470588235294, 3.210526315789474, 3.46875, 2.8, 4.5, 3.5, 2.1884057971014492, 3.676470588235294, 3.92, 3.3548387096774195, 2.142857142857143, 3.5, 3.745874587458746, 2.0, 3.46, 3.4285714285714284, 2.3333333333333335, 2.9166666666666665, 2.6, 3.319327731092437, 3.4565217391304346, 3.75, 2.8, 3.1625, 3.4184782608695654, 2.272727272727273, 1.0, 2.72972972972973, 1.0, 3.651685393258427, 2.742574257425743, 3.6666666666666665, 3.722772277227723, 3.0, 3.3636363636363638, 3.313953488372093, 3.619047619047619, 2.533333333333333, 1.0, 3.5, 3.0, 2.8152173913043477, 2.511627906976744, 3.3333333333333335, 4.0664556962025316, 3.7471264367816093, 2.5714285714285716, 2.877551020408163, 1.9534883720930232, 1.0, 3.1301775147928996, 3.1818181818181817, 2.477272727272727, 3.7781569965870307, 2.5, 1.9166666666666667, 4.123809523809523, 3.0, 2.3043478260869565, 3.9479166666666665, 3.6, 3.4114583333333335, 3.272727272727273, 3.0454545454545454, 4.0625, 2.8780487804878048, 2.8358208955223883, 2.761904761904762, 3.0871559633027523, 3.6, 3.5555555555555554, 3.55, 2.9411764705882355, 3.36046511627907, 3.1818181818181817, 3.816, 3.6666666666666665, 3.6666666666666665, 3.532258064516129, 3.1627906976744184, 3.8512396694214877, 2.0, 3.978494623655914, 4.037037037037037, 3.6333333333333333, 3.4307692307692306, 2.25, 3.24, 2.782608695652174, 1.5, 2.4285714285714284, 2.953125, 3.4814814814814814, 3.6666666666666665, 2.0, 1.75, 3.0083333333333333, 2.1666666666666665, 1.0, 3.0, 2.5, 3.0, 2.4444444444444446, 3.0, 2.0, 3.0454545454545454, 4.0, 3.375, 3.7142857142857144, 3.421875, 3.8333333333333335, 3.5874125874125875, 3.171171171171171, 3.0, 4.0078740157480315, 2.0, 2.8333333333333335, 2.9310344827586206, 3.769230769230769, 3.1222222222222222, 2.4, 1.0, 3.608695652173913, 3.0, 2.7142857142857144, 4.284916201117318, 3.5555555555555554, 2.3333333333333335, 2.0, 3.2857142857142856, 4.115384615384615, 3.4583333333333335, 2.3333333333333335, 2.914110429447853, 3.5, 4.0, 3.2, 3.1666666666666665, 1.0, 2.6, 3.34375, 3.484375, 2.772727272727273, 3.388235294117647, 3.556603773584906, 3.4, 3.8684210526315788, 3.2857142857142856, 4.064516129032258, 3.232142857142857, 4.291666666666667, 3.466666666666667, 3.1538461538461537, 2.5, 2.5161290322580645, 2.142857142857143, 3.6176470588235294, 3.1904761904761907, 3.611111111111111, 3.0, 2.6842105263157894, 3.2403846153846154, 2.5, 2.25, 2.3181818181818183, 3.142857142857143, 2.923076923076923, 2.4, 3.225, 4.05, 3.2857142857142856, 3.095890410958904, 3.814814814814815, 3.0, 2.3333333333333335, 3.5434782608695654, 2.875, 3.1785714285714284, 4.625, 4.212121212121212, 3.9926470588235294, 3.2720588235294117, 3.0, 3.5953488372093023, 2.642857142857143, 4.0, 3.68, 4.045454545454546, 1.875, 2.7209302325581395, 2.575, 2.230769230769231, 1.0, 1.6, 3.557377049180328, 3.854014598540146, 4.115384615384615, 3.6011904761904763, 3.611111111111111, 3.1, 2.962962962962963, 2.0, 3.6923076923076925, 3.3508771929824563, 3.6732673267326734, 3.6929133858267718, 2.627906976744186, 2.5294117647058822, 2.7777777777777777, 2.1538461538461537, 1.0, 3.1481481481481484, 3.0, 3.3, 2.68, 3.9672131147540983, 3.2241379310344827, 3.2083333333333335, 1.0, 2.926470588235294, 5.0, 3.323170731707317, 3.3333333333333335, 4.0, 3.601123595505618, 3.923076923076923, 4.172839506172839, 3.1333333333333333, 3.0, 2.955223880597015, 3.53, 3.704697986577181, 2.838709677419355, 3.3333333333333335, 1.0, 2.7, 2.9375, 4.100418410041841, 4.060913705583756, 3.4177215189873418, 3.142857142857143, 2.0, 2.4285714285714284, 1.0, 3.5, 2.5185185185185186, 3.2083333333333335, 4.029850746268656, 3.6666666666666665, 3.645714285714286, 2.8, 3.3333333333333335, 4.120689655172414, 4.252380952380952, 3.6, 4.155172413793103, 3.875, 4.1, 3.644194756554307, 2.0, 1.8333333333333333, 3.6638655462184873, 2.961038961038961, 4.3875598086124405, 3.9696969696969697, 3.8555555555555556, 2.75, 3.3859649122807016, 3.4615384615384617, 3.5961538461538463, 3.0344827586206895, 1.6666666666666667, 2.88, 3.0, 3.94, 3.0, 3.3333333333333335, 3.0, 3.3076923076923075, 3.9864864864864864, 3.464788732394366, 3.772727272727273, 4.007889546351085, 3.5543478260869565, 2.2, 2.4, 3.831460674157303, 2.4285714285714284, 3.7045454545454546, 3.917197452229299, 2.0, 2.9069767441860463, 3.143835616438356, 2.2941176470588234, 3.5652173913043477, 3.0, 2.5892857142857144, 3.2266666666666666, 1.7272727272727273, 3.693121693121693, 2.4081632653061225, 4.102941176470588, 3.0, 3.0, 3.061224489795918, 3.985074626865672, 3.230769230769231, 2.8, 3.888888888888889, 3.6666666666666665, 2.5, 3.130434782608696, 3.3125, 3.875, 3.4482758620689653, 3.25, 3.0, 3.796875, 3.5, 4.0, 3.0, 5.0, 3.1234177215189876, 2.0, 3.097560975609756, 5.0, 3.0, 3.0, 2.4, 4.466442953020135, 3.0, 2.6666666666666665, 3.4414225941422596, 3.2169811320754715, 3.0, 2.652173913043478, 2.6666666666666665, 3.9057971014492754, 2.0, 2.6, 3.0, 3.5443037974683542, 3.859154929577465, 4.265432098765432, 3.625, 4.0111940298507465, 2.4285714285714284, 2.814814814814815, 3.4210526315789473, 3.847457627118644, 3.458064516129032, 3.5416666666666665, 3.4752475247524752, 1.5, 2.5675675675675675, 2.8636363636363638, 1.0, 2.888888888888889, 3.9358974358974357, 1.0, 3.0, 3.7058823529411766, 4.260869565217392, 3.8181818181818183, 3.576923076923077, 4.445229681978798, 2.7358490566037736, 3.0136986301369864, 2.8333333333333335, 3.9224806201550386, 3.825242718446602, 2.6666666666666665, 2.5, 2.0, 3.7761194029850746, 3.0, 1.9565217391304348, 4.28974358974359, 3.0, 3.2, 1.6666666666666667, 3.9927007299270074, 2.983050847457627, 3.77027027027027, 3.2222222222222223, 3.6341463414634148, 3.514792899408284, 3.539906103286385, 3.0, 2.6, 4.198529411764706, 3.5, 2.4054054054054053, 2.0, 2.88, 3.1666666666666665, 3.6216216216216215, 3.513333333333333, 3.7093023255813953, 3.25, 3.0526315789473686, 1.8333333333333333, 4.2926829268292686, 3.6610169491525424, 3.984375, 4.5, 1.0, 5.0, 2.769230769230769, 3.426829268292683, 2.4871794871794872, 3.896551724137931, 3.169491525423729, 3.765765765765766, 2.774193548387097, 4.0, 3.074074074074074, 2.6153846153846154, 2.25, 2.8666666666666667, 3.0833333333333335, 3.6478260869565218, 2.1315789473684212, 3.933333333333333, 2.926829268292683, 2.1153846153846154, 2.5, 3.804123711340206, 2.0, 2.511627906976744, 1.6666666666666667, 2.111111111111111, 3.1666666666666665, 3.5454545454545454, 3.881057268722467, 5.0, 3.1666666666666665, 3.0526315789473686, 3.111111111111111, 3.4472361809045227, 2.3968253968253967, 3.279503105590062, 3.66027397260274, 3.336206896551724, 3.034188034188034, 3.8155737704918034, 4.359589041095891, 3.141732283464567, 2.3333333333333335, 3.2322274881516586, 2.5714285714285716, 3.375, 2.1578947368421053, 1.0, 2.413793103448276, 4.058091286307054, 4.2, 3.2, 3.264367816091954, 2.4285714285714284, 3.0, 3.272727272727273, 2.75, 3.816326530612245, 4.028846153846154, 2.5833333333333335, 3.8, 2.2388059701492535, 2.125, 2.0, 3.6666666666666665, 3.25, 2.693877551020408, 2.723404255319149, 1.5, 3.5454545454545454, 3.0, 4.2, 2.5, 2.076923076923077, 3.5384615384615383, 3.1052631578947367, 2.4545454545454546, 2.25, 2.857142857142857, 3.772727272727273, 3.0, 2.4285714285714284, 3.574468085106383, 3.828025477707006, 3.358974358974359, 2.823529411764706, 3.230769230769231, 3.3292682926829267, 1.0, 1.0, 3.0, 2.9767441860465116, 2.6363636363636362, 2.037037037037037, 1.8, 3.3846153846153846, 2.8536585365853657, 3.0, 4.1208791208791204, 3.230769230769231, 1.6666666666666667, 2.676470588235294, 4.0067796610169495, 3.9335548172757475, 1.0, 2.6666666666666665, 2.473684210526316, 2.4634146341463414, 3.3636363636363638, 3.465909090909091, 1.0, 3.0, 3.0, 1.4, 5.0, 3.7142857142857144, 3.7714285714285714, 2.4166666666666665, 4.15, 3.1549295774647885, 2.4489795918367347, 4.333333333333333, 3.9444444444444446, 3.905759162303665, 3.4054054054054053, 3.272727272727273, 4.015625, 4.0602409638554215, 3.864406779661017, 3.0, 3.303370786516854, 3.2222222222222223, 2.838709677419355, 3.1875, 2.4285714285714284, 1.0, 1.5, 3.685344827586207, 3.096774193548387, 3.160621761658031, 3.7, 3.0784313725490198, 4.2457142857142856, 3.611111111111111, 4.02, 1.0, 3.2758620689655173, 3.0681818181818183, 2.0, 4.292237442922374, 3.7857142857142856, 2.8947368421052633, 4.0, 3.3333333333333335, 3.1666666666666665, 3.6666666666666665, 2.909090909090909, 3.4277777777777776, 3.481818181818182, 4.0476190476190474, 2.75, 2.7777777777777777, 3.911764705882353, 3.0, 1.0, 3.8783185840707963, 3.884, 2.84375, 3.3076923076923075, 4.1, 3.24, 2.5217391304347827, 2.4285714285714284, 3.2, 3.3333333333333335, 3.5625, 3.6153846153846154, 2.909090909090909, 3.789473684210526, 3.485294117647059, 2.0, 1.8, 2.5652173913043477, 2.5, 3.413793103448276, 3.798469387755102, 2.5, 2.1666666666666665, 3.5, 3.2150170648464163, 2.2, 2.25, 3.0, 2.4285714285714284, 2.6, 3.75, 3.359375, 3.0, 3.760869565217391, 3.761904761904762, 3.4565217391304346, 3.2903225806451615, 2.4583333333333335, 2.8, 2.75, 2.5, 3.323529411764706, 3.868131868131868, 2.5, 3.3181818181818183, 2.8260869565217392, 3.5454545454545454, 3.1882352941176473, 3.25531914893617, 4.385767790262173, 1.8333333333333333, 2.6666666666666665, 3.5925925925925926, 2.4, 1.0, 2.0, 1.0, 4.251396648044692, 2.3978494623655915, 1.0, 3.3376623376623376, 1.0, 2.6818181818181817, 2.736842105263158, 3.5, 2.808219178082192, 3.510948905109489, 4.127659574468085, 2.5, 3.2857142857142856, 3.0, 3.8461538461538463, 2.25, 3.625, 4.447761194029851, 3.3333333333333335, 2.0, 3.2666666666666666, 3.0, 3.2941176470588234, 2.803921568627451, 3.0, 4.0, 3.486111111111111, 2.6166666666666667, 3.3636363636363638, 3.7232142857142856, 1.0, 2.8, 2.625, 3.5391304347826087, 3.488888888888889, 3.910344827586207, 3.4, 4.045454545454546, 3.4871794871794872, 3.5625, 3.549382716049383, 2.8, 2.0, 3.4, 4.0, 3.5789473684210527, 3.0, 2.888888888888889, 2.5, 4.023255813953488, 3.142857142857143, 2.727272727272727, 3.5943396226415096, 3.6319018404907975, 4.0, 4.0, 4.0, 3.68, 3.8, 3.4444444444444446, 2.4444444444444446, 3.0652173913043477, 3.230769230769231, 4.0, 4.0772357723577235, 2.701492537313433, 1.0, 3.6666666666666665, 4.0, 3.2, 2.6666666666666665, 4.0, 4.466101694915254, 3.1, 1.0, 3.2857142857142856, 3.0, 3.945, 3.207920792079208, 2.772727272727273, 3.341463414634146, 2.1666666666666665, 3.4444444444444446, 3.0]}],                        {\"barmode\": \"overlay\", \"legend\": {\"bgcolor\": \"#F5F6F9\", \"font\": {\"color\": \"#4D5663\"}}, \"paper_bgcolor\": \"#F5F6F9\", \"plot_bgcolor\": \"#F5F6F9\", \"template\": {\"data\": {\"bar\": [{\"error_x\": {\"color\": \"#2a3f5f\"}, \"error_y\": {\"color\": \"#2a3f5f\"}, \"marker\": {\"line\": {\"color\": \"#E5ECF6\", \"width\": 0.5}}, \"type\": \"bar\"}], \"barpolar\": [{\"marker\": {\"line\": {\"color\": \"#E5ECF6\", \"width\": 0.5}}, \"type\": \"barpolar\"}], \"carpet\": [{\"aaxis\": {\"endlinecolor\": \"#2a3f5f\", \"gridcolor\": \"white\", \"linecolor\": \"white\", \"minorgridcolor\": \"white\", \"startlinecolor\": \"#2a3f5f\"}, \"baxis\": {\"endlinecolor\": \"#2a3f5f\", \"gridcolor\": \"white\", \"linecolor\": \"white\", \"minorgridcolor\": \"white\", \"startlinecolor\": \"#2a3f5f\"}, \"type\": \"carpet\"}], \"choropleth\": [{\"colorbar\": {\"outlinewidth\": 0, \"ticks\": \"\"}, \"type\": \"choropleth\"}], \"contour\": [{\"colorbar\": {\"outlinewidth\": 0, \"ticks\": \"\"}, \"colorscale\": [[0.0, \"#0d0887\"], [0.1111111111111111, \"#46039f\"], [0.2222222222222222, \"#7201a8\"], [0.3333333333333333, \"#9c179e\"], [0.4444444444444444, \"#bd3786\"], [0.5555555555555556, \"#d8576b\"], [0.6666666666666666, \"#ed7953\"], [0.7777777777777778, \"#fb9f3a\"], [0.8888888888888888, \"#fdca26\"], [1.0, \"#f0f921\"]], \"type\": \"contour\"}], \"contourcarpet\": [{\"colorbar\": {\"outlinewidth\": 0, \"ticks\": \"\"}, \"type\": \"contourcarpet\"}], \"heatmap\": [{\"colorbar\": {\"outlinewidth\": 0, \"ticks\": \"\"}, \"colorscale\": [[0.0, \"#0d0887\"], [0.1111111111111111, \"#46039f\"], [0.2222222222222222, \"#7201a8\"], [0.3333333333333333, \"#9c179e\"], [0.4444444444444444, \"#bd3786\"], [0.5555555555555556, \"#d8576b\"], [0.6666666666666666, \"#ed7953\"], [0.7777777777777778, \"#fb9f3a\"], [0.8888888888888888, \"#fdca26\"], [1.0, \"#f0f921\"]], \"type\": \"heatmap\"}], \"heatmapgl\": [{\"colorbar\": {\"outlinewidth\": 0, \"ticks\": \"\"}, \"colorscale\": [[0.0, \"#0d0887\"], [0.1111111111111111, \"#46039f\"], [0.2222222222222222, \"#7201a8\"], [0.3333333333333333, \"#9c179e\"], [0.4444444444444444, \"#bd3786\"], [0.5555555555555556, \"#d8576b\"], [0.6666666666666666, \"#ed7953\"], [0.7777777777777778, \"#fb9f3a\"], [0.8888888888888888, \"#fdca26\"], [1.0, \"#f0f921\"]], \"type\": \"heatmapgl\"}], \"histogram\": [{\"marker\": {\"colorbar\": {\"outlinewidth\": 0, \"ticks\": \"\"}}, \"type\": \"histogram\"}], \"histogram2d\": [{\"colorbar\": {\"outlinewidth\": 0, \"ticks\": \"\"}, \"colorscale\": [[0.0, \"#0d0887\"], [0.1111111111111111, \"#46039f\"], [0.2222222222222222, \"#7201a8\"], [0.3333333333333333, \"#9c179e\"], [0.4444444444444444, \"#bd3786\"], [0.5555555555555556, \"#d8576b\"], [0.6666666666666666, \"#ed7953\"], [0.7777777777777778, \"#fb9f3a\"], [0.8888888888888888, \"#fdca26\"], [1.0, \"#f0f921\"]], \"type\": \"histogram2d\"}], \"histogram2dcontour\": [{\"colorbar\": {\"outlinewidth\": 0, \"ticks\": \"\"}, \"colorscale\": [[0.0, \"#0d0887\"], [0.1111111111111111, \"#46039f\"], [0.2222222222222222, \"#7201a8\"], [0.3333333333333333, \"#9c179e\"], [0.4444444444444444, \"#bd3786\"], [0.5555555555555556, \"#d8576b\"], [0.6666666666666666, \"#ed7953\"], [0.7777777777777778, \"#fb9f3a\"], [0.8888888888888888, \"#fdca26\"], [1.0, \"#f0f921\"]], \"type\": \"histogram2dcontour\"}], \"mesh3d\": [{\"colorbar\": {\"outlinewidth\": 0, \"ticks\": \"\"}, \"type\": \"mesh3d\"}], \"parcoords\": [{\"line\": {\"colorbar\": {\"outlinewidth\": 0, \"ticks\": \"\"}}, \"type\": \"parcoords\"}], \"pie\": [{\"automargin\": true, \"type\": \"pie\"}], \"scatter\": [{\"marker\": {\"colorbar\": {\"outlinewidth\": 0, \"ticks\": \"\"}}, \"type\": \"scatter\"}], \"scatter3d\": [{\"line\": {\"colorbar\": {\"outlinewidth\": 0, \"ticks\": \"\"}}, \"marker\": {\"colorbar\": {\"outlinewidth\": 0, \"ticks\": \"\"}}, \"type\": \"scatter3d\"}], \"scattercarpet\": [{\"marker\": {\"colorbar\": {\"outlinewidth\": 0, \"ticks\": \"\"}}, \"type\": \"scattercarpet\"}], \"scattergeo\": [{\"marker\": {\"colorbar\": {\"outlinewidth\": 0, \"ticks\": \"\"}}, \"type\": \"scattergeo\"}], \"scattergl\": [{\"marker\": {\"colorbar\": {\"outlinewidth\": 0, \"ticks\": \"\"}}, \"type\": \"scattergl\"}], \"scattermapbox\": [{\"marker\": {\"colorbar\": {\"outlinewidth\": 0, \"ticks\": \"\"}}, \"type\": \"scattermapbox\"}], \"scatterpolar\": [{\"marker\": {\"colorbar\": {\"outlinewidth\": 0, \"ticks\": \"\"}}, \"type\": \"scatterpolar\"}], \"scatterpolargl\": [{\"marker\": {\"colorbar\": {\"outlinewidth\": 0, \"ticks\": \"\"}}, \"type\": \"scatterpolargl\"}], \"scatterternary\": [{\"marker\": {\"colorbar\": {\"outlinewidth\": 0, \"ticks\": \"\"}}, \"type\": \"scatterternary\"}], \"surface\": [{\"colorbar\": {\"outlinewidth\": 0, \"ticks\": \"\"}, \"colorscale\": [[0.0, \"#0d0887\"], [0.1111111111111111, \"#46039f\"], [0.2222222222222222, \"#7201a8\"], [0.3333333333333333, \"#9c179e\"], [0.4444444444444444, \"#bd3786\"], [0.5555555555555556, \"#d8576b\"], [0.6666666666666666, \"#ed7953\"], [0.7777777777777778, \"#fb9f3a\"], [0.8888888888888888, \"#fdca26\"], [1.0, \"#f0f921\"]], \"type\": \"surface\"}], \"table\": [{\"cells\": {\"fill\": {\"color\": \"#EBF0F8\"}, \"line\": {\"color\": \"white\"}}, \"header\": {\"fill\": {\"color\": \"#C8D4E3\"}, \"line\": {\"color\": \"white\"}}, \"type\": \"table\"}]}, \"layout\": {\"annotationdefaults\": {\"arrowcolor\": \"#2a3f5f\", \"arrowhead\": 0, \"arrowwidth\": 1}, \"autotypenumbers\": \"strict\", \"coloraxis\": {\"colorbar\": {\"outlinewidth\": 0, \"ticks\": \"\"}}, \"colorscale\": {\"diverging\": [[0, \"#8e0152\"], [0.1, \"#c51b7d\"], [0.2, \"#de77ae\"], [0.3, \"#f1b6da\"], [0.4, \"#fde0ef\"], [0.5, \"#f7f7f7\"], [0.6, \"#e6f5d0\"], [0.7, \"#b8e186\"], [0.8, \"#7fbc41\"], [0.9, \"#4d9221\"], [1, \"#276419\"]], \"sequential\": [[0.0, \"#0d0887\"], [0.1111111111111111, \"#46039f\"], [0.2222222222222222, \"#7201a8\"], [0.3333333333333333, \"#9c179e\"], [0.4444444444444444, \"#bd3786\"], [0.5555555555555556, \"#d8576b\"], [0.6666666666666666, \"#ed7953\"], [0.7777777777777778, \"#fb9f3a\"], [0.8888888888888888, \"#fdca26\"], [1.0, \"#f0f921\"]], \"sequentialminus\": [[0.0, \"#0d0887\"], [0.1111111111111111, \"#46039f\"], [0.2222222222222222, \"#7201a8\"], [0.3333333333333333, \"#9c179e\"], [0.4444444444444444, \"#bd3786\"], [0.5555555555555556, \"#d8576b\"], [0.6666666666666666, \"#ed7953\"], [0.7777777777777778, \"#fb9f3a\"], [0.8888888888888888, \"#fdca26\"], [1.0, \"#f0f921\"]]}, \"colorway\": [\"#636efa\", \"#EF553B\", \"#00cc96\", \"#ab63fa\", \"#FFA15A\", \"#19d3f3\", \"#FF6692\", \"#B6E880\", \"#FF97FF\", \"#FECB52\"], \"font\": {\"color\": \"#2a3f5f\"}, \"geo\": {\"bgcolor\": \"white\", \"lakecolor\": \"white\", \"landcolor\": \"#E5ECF6\", \"showlakes\": true, \"showland\": true, \"subunitcolor\": \"white\"}, \"hoverlabel\": {\"align\": \"left\"}, \"hovermode\": \"closest\", \"mapbox\": {\"style\": \"light\"}, \"paper_bgcolor\": \"white\", \"plot_bgcolor\": \"#E5ECF6\", \"polar\": {\"angularaxis\": {\"gridcolor\": \"white\", \"linecolor\": \"white\", \"ticks\": \"\"}, \"bgcolor\": \"#E5ECF6\", \"radialaxis\": {\"gridcolor\": \"white\", \"linecolor\": \"white\", \"ticks\": \"\"}}, \"scene\": {\"xaxis\": {\"backgroundcolor\": \"#E5ECF6\", \"gridcolor\": \"white\", \"gridwidth\": 2, \"linecolor\": \"white\", \"showbackground\": true, \"ticks\": \"\", \"zerolinecolor\": \"white\"}, \"yaxis\": {\"backgroundcolor\": \"#E5ECF6\", \"gridcolor\": \"white\", \"gridwidth\": 2, \"linecolor\": \"white\", \"showbackground\": true, \"ticks\": \"\", \"zerolinecolor\": \"white\"}, \"zaxis\": {\"backgroundcolor\": \"#E5ECF6\", \"gridcolor\": \"white\", \"gridwidth\": 2, \"linecolor\": \"white\", \"showbackground\": true, \"ticks\": \"\", \"zerolinecolor\": \"white\"}}, \"shapedefaults\": {\"line\": {\"color\": \"#2a3f5f\"}}, \"ternary\": {\"aaxis\": {\"gridcolor\": \"white\", \"linecolor\": \"white\", \"ticks\": \"\"}, \"baxis\": {\"gridcolor\": \"white\", \"linecolor\": \"white\", \"ticks\": \"\"}, \"bgcolor\": \"#E5ECF6\", \"caxis\": {\"gridcolor\": \"white\", \"linecolor\": \"white\", \"ticks\": \"\"}}, \"title\": {\"x\": 0.05}, \"xaxis\": {\"automargin\": true, \"gridcolor\": \"white\", \"linecolor\": \"white\", \"ticks\": \"\", \"title\": {\"standoff\": 15}, \"zerolinecolor\": \"white\", \"zerolinewidth\": 2}, \"yaxis\": {\"automargin\": true, \"gridcolor\": \"white\", \"linecolor\": \"white\", \"ticks\": \"\", \"title\": {\"standoff\": 15}, \"zerolinecolor\": \"white\", \"zerolinewidth\": 2}}}, \"title\": {\"font\": {\"color\": \"#4D5663\"}}, \"xaxis\": {\"gridcolor\": \"#E1E5ED\", \"showgrid\": true, \"tickfont\": {\"color\": \"#4D5663\"}, \"title\": {\"font\": {\"color\": \"#4D5663\"}, \"text\": \"\"}, \"zerolinecolor\": \"#E1E5ED\"}, \"yaxis\": {\"gridcolor\": \"#E1E5ED\", \"showgrid\": true, \"tickfont\": {\"color\": \"#4D5663\"}, \"title\": {\"font\": {\"color\": \"#4D5663\"}, \"text\": \"\"}, \"zerolinecolor\": \"#E1E5ED\"}},                        {\"showLink\": true, \"linkText\": \"Export to plot.ly\", \"plotlyServerURL\": \"https://plot.ly\", \"responsive\": true}                    ).then(function(){\n",
       "                            \n",
       "var gd = document.getElementById('194a9963-c5c5-4cc7-bcb5-60e995158ae5');\n",
       "var x = new MutationObserver(function (mutations, observer) {{\n",
       "        var display = window.getComputedStyle(gd).display;\n",
       "        if (!display || display === 'none') {{\n",
       "            console.log([gd, 'removed!']);\n",
       "            Plotly.purge(gd);\n",
       "            observer.disconnect();\n",
       "        }}\n",
       "}});\n",
       "\n",
       "// Listen for the removal of the full notebook cells\n",
       "var notebookContainer = gd.closest('#notebook-container');\n",
       "if (notebookContainer) {{\n",
       "    x.observe(notebookContainer, {childList: true});\n",
       "}}\n",
       "\n",
       "// Listen for the clearing of the current output cell\n",
       "var outputEl = gd.closest('.output');\n",
       "if (outputEl) {{\n",
       "    x.observe(outputEl, {childList: true});\n",
       "}}\n",
       "\n",
       "                        })                };                });            </script>        </div>"
      ]
     },
     "metadata": {},
     "output_type": "display_data"
    }
   ],
   "source": [
    "ratings['rating'].iplot(kind='hist',bins=70,colors='henanigans_purple1')"
   ]
  },
  {
   "cell_type": "code",
   "execution_count": 23,
   "metadata": {},
   "outputs": [
    {
     "data": {
      "text/plain": [
       "<seaborn.axisgrid.JointGrid at 0x1ba5cb35af0>"
      ]
     },
     "execution_count": 23,
     "metadata": {},
     "output_type": "execute_result"
    },
    {
     "data": {
      "image/png": "[encoded data removed]",
      "text/plain": [
       "<Figure size 432x432 with 3 Axes>"
      ]
     },
     "metadata": {
      "needs_background": "light"
     },
     "output_type": "display_data"
    }
   ],
   "source": [
    "sns.jointplot(x=ratings['rating'],y=ratings['no. of ratings'],data=ratings\n",
    "             ,alpha=0.5,color='purple')"
   ]
  },
  {
   "cell_type": "code",
   "execution_count": 24,
   "metadata": {},
   "outputs": [],
   "source": [
    "moviemat = df.pivot_table(index='user_id',columns='title',values='rating')"
   ]
  },
  {
   "cell_type": "code",
   "execution_count": 25,
   "metadata": {},
   "outputs": [
    {
     "data": {
      "text/html": [
       "<div>\n",
       "<style scoped>\n",
       "    .dataframe tbody tr th:only-of-type {\n",
       "        vertical-align: middle;\n",
       "    }\n",
       "\n",
       "    .dataframe tbody tr th {\n",
       "        vertical-align: top;\n",
       "    }\n",
       "\n",
       "    .dataframe thead th {\n",
       "        text-align: right;\n",
       "    }\n",
       "</style>\n",
       "<table border=\"1\" class=\"dataframe\">\n",
       "  <thead>\n",
       "    <tr style=\"text-align: right;\">\n",
       "      <th>title</th>\n",
       "      <th>'Til There Was You (1997)</th>\n",
       "      <th>1-900 (1994)</th>\n",
       "      <th>101 Dalmatians (1996)</th>\n",
       "      <th>12 Angry Men (1957)</th>\n",
       "      <th>187 (1997)</th>\n",
       "      <th>2 Days in the Valley (1996)</th>\n",
       "      <th>20,000 Leagues Under the Sea (1954)</th>\n",
       "      <th>2001: A Space Odyssey (1968)</th>\n",
       "      <th>3 Ninjas: High Noon At Mega Mountain (1998)</th>\n",
       "      <th>39 Steps, The (1935)</th>\n",
       "      <th>...</th>\n",
       "      <th>Yankee Zulu (1994)</th>\n",
       "      <th>Year of the Horse (1997)</th>\n",
       "      <th>You So Crazy (1994)</th>\n",
       "      <th>Young Frankenstein (1974)</th>\n",
       "      <th>Young Guns (1988)</th>\n",
       "      <th>Young Guns II (1990)</th>\n",
       "      <th>Young Poisoner's Handbook, The (1995)</th>\n",
       "      <th>Zeus and Roxanne (1997)</th>\n",
       "      <th>unknown</th>\n",
       "      <th>Á köldum klaka (Cold Fever) (1994)</th>\n",
       "    </tr>\n",
       "    <tr>\n",
       "      <th>user_id</th>\n",
       "      <th></th>\n",
       "      <th></th>\n",
       "      <th></th>\n",
       "      <th></th>\n",
       "      <th></th>\n",
       "      <th></th>\n",
       "      <th></th>\n",
       "      <th></th>\n",
       "      <th></th>\n",
       "      <th></th>\n",
       "      <th></th>\n",
       "      <th></th>\n",
       "      <th></th>\n",
       "      <th></th>\n",
       "      <th></th>\n",
       "      <th></th>\n",
       "      <th></th>\n",
       "      <th></th>\n",
       "      <th></th>\n",
       "      <th></th>\n",
       "      <th></th>\n",
       "    </tr>\n",
       "  </thead>\n",
       "  <tbody>\n",
       "    <tr>\n",
       "      <th>0</th>\n",
       "      <td>NaN</td>\n",
       "      <td>NaN</td>\n",
       "      <td>NaN</td>\n",
       "      <td>NaN</td>\n",
       "      <td>NaN</td>\n",
       "      <td>NaN</td>\n",
       "      <td>NaN</td>\n",
       "      <td>NaN</td>\n",
       "      <td>NaN</td>\n",
       "      <td>NaN</td>\n",
       "      <td>...</td>\n",
       "      <td>NaN</td>\n",
       "      <td>NaN</td>\n",
       "      <td>NaN</td>\n",
       "      <td>NaN</td>\n",
       "      <td>NaN</td>\n",
       "      <td>NaN</td>\n",
       "      <td>NaN</td>\n",
       "      <td>NaN</td>\n",
       "      <td>NaN</td>\n",
       "      <td>NaN</td>\n",
       "    </tr>\n",
       "    <tr>\n",
       "      <th>1</th>\n",
       "      <td>NaN</td>\n",
       "      <td>NaN</td>\n",
       "      <td>2.0</td>\n",
       "      <td>5.0</td>\n",
       "      <td>NaN</td>\n",
       "      <td>NaN</td>\n",
       "      <td>3.0</td>\n",
       "      <td>4.0</td>\n",
       "      <td>NaN</td>\n",
       "      <td>NaN</td>\n",
       "      <td>...</td>\n",
       "      <td>NaN</td>\n",
       "      <td>NaN</td>\n",
       "      <td>NaN</td>\n",
       "      <td>5.0</td>\n",
       "      <td>3.0</td>\n",
       "      <td>NaN</td>\n",
       "      <td>NaN</td>\n",
       "      <td>NaN</td>\n",
       "      <td>4.0</td>\n",
       "      <td>NaN</td>\n",
       "    </tr>\n",
       "    <tr>\n",
       "      <th>2</th>\n",
       "      <td>NaN</td>\n",
       "      <td>NaN</td>\n",
       "      <td>NaN</td>\n",
       "      <td>NaN</td>\n",
       "      <td>NaN</td>\n",
       "      <td>NaN</td>\n",
       "      <td>NaN</td>\n",
       "      <td>NaN</td>\n",
       "      <td>1.0</td>\n",
       "      <td>NaN</td>\n",
       "      <td>...</td>\n",
       "      <td>NaN</td>\n",
       "      <td>NaN</td>\n",
       "      <td>NaN</td>\n",
       "      <td>NaN</td>\n",
       "      <td>NaN</td>\n",
       "      <td>NaN</td>\n",
       "      <td>NaN</td>\n",
       "      <td>NaN</td>\n",
       "      <td>NaN</td>\n",
       "      <td>NaN</td>\n",
       "    </tr>\n",
       "    <tr>\n",
       "      <th>3</th>\n",
       "      <td>NaN</td>\n",
       "      <td>NaN</td>\n",
       "      <td>NaN</td>\n",
       "      <td>NaN</td>\n",
       "      <td>2.0</td>\n",
       "      <td>NaN</td>\n",
       "      <td>NaN</td>\n",
       "      <td>NaN</td>\n",
       "      <td>NaN</td>\n",
       "      <td>NaN</td>\n",
       "      <td>...</td>\n",
       "      <td>NaN</td>\n",
       "      <td>NaN</td>\n",
       "      <td>NaN</td>\n",
       "      <td>NaN</td>\n",
       "      <td>NaN</td>\n",
       "      <td>NaN</td>\n",
       "      <td>NaN</td>\n",
       "      <td>NaN</td>\n",
       "      <td>NaN</td>\n",
       "      <td>NaN</td>\n",
       "    </tr>\n",
       "    <tr>\n",
       "      <th>4</th>\n",
       "      <td>NaN</td>\n",
       "      <td>NaN</td>\n",
       "      <td>NaN</td>\n",
       "      <td>NaN</td>\n",
       "      <td>NaN</td>\n",
       "      <td>NaN</td>\n",
       "      <td>NaN</td>\n",
       "      <td>NaN</td>\n",
       "      <td>NaN</td>\n",
       "      <td>NaN</td>\n",
       "      <td>...</td>\n",
       "      <td>NaN</td>\n",
       "      <td>NaN</td>\n",
       "      <td>NaN</td>\n",
       "      <td>NaN</td>\n",
       "      <td>NaN</td>\n",
       "      <td>NaN</td>\n",
       "      <td>NaN</td>\n",
       "      <td>NaN</td>\n",
       "      <td>NaN</td>\n",
       "      <td>NaN</td>\n",
       "    </tr>\n",
       "  </tbody>\n",
       "</table>\n",
       "<p>5 rows × 1664 columns</p>\n",
       "</div>"
      ],
      "text/plain": [
       "title    'Til There Was You (1997)  1-900 (1994)  101 Dalmatians (1996)  \\\n",
       "user_id                                                                   \n",
       "0                              NaN           NaN                    NaN   \n",
       "1                              NaN           NaN                    2.0   \n",
       "2                              NaN           NaN                    NaN   \n",
       "3                              NaN           NaN                    NaN   \n",
       "4                              NaN           NaN                    NaN   \n",
       "\n",
       "title    12 Angry Men (1957)  187 (1997)  2 Days in the Valley (1996)  \\\n",
       "user_id                                                                 \n",
       "0                        NaN         NaN                          NaN   \n",
       "1                        5.0         NaN                          NaN   \n",
       "2                        NaN         NaN                          NaN   \n",
       "3                        NaN         2.0                          NaN   \n",
       "4                        NaN         NaN                          NaN   \n",
       "\n",
       "title    20,000 Leagues Under the Sea (1954)  2001: A Space Odyssey (1968)  \\\n",
       "user_id                                                                      \n",
       "0                                        NaN                           NaN   \n",
       "1                                        3.0                           4.0   \n",
       "2                                        NaN                           NaN   \n",
       "3                                        NaN                           NaN   \n",
       "4                                        NaN                           NaN   \n",
       "\n",
       "title    3 Ninjas: High Noon At Mega Mountain (1998)  39 Steps, The (1935)  \\\n",
       "user_id                                                                      \n",
       "0                                                NaN                   NaN   \n",
       "1                                                NaN                   NaN   \n",
       "2                                                1.0                   NaN   \n",
       "3                                                NaN                   NaN   \n",
       "4                                                NaN                   NaN   \n",
       "\n",
       "title    ...  Yankee Zulu (1994)  Year of the Horse (1997)  \\\n",
       "user_id  ...                                                 \n",
       "0        ...                 NaN                       NaN   \n",
       "1        ...                 NaN                       NaN   \n",
       "2        ...                 NaN                       NaN   \n",
       "3        ...                 NaN                       NaN   \n",
       "4        ...                 NaN                       NaN   \n",
       "\n",
       "title    You So Crazy (1994)  Young Frankenstein (1974)  Young Guns (1988)  \\\n",
       "user_id                                                                      \n",
       "0                        NaN                        NaN                NaN   \n",
       "1                        NaN                        5.0                3.0   \n",
       "2                        NaN                        NaN                NaN   \n",
       "3                        NaN                        NaN                NaN   \n",
       "4                        NaN                        NaN                NaN   \n",
       "\n",
       "title    Young Guns II (1990)  Young Poisoner's Handbook, The (1995)  \\\n",
       "user_id                                                                \n",
       "0                         NaN                                    NaN   \n",
       "1                         NaN                                    NaN   \n",
       "2                         NaN                                    NaN   \n",
       "3                         NaN                                    NaN   \n",
       "4                         NaN                                    NaN   \n",
       "\n",
       "title    Zeus and Roxanne (1997)  unknown  Á köldum klaka (Cold Fever) (1994)  \n",
       "user_id                                                                        \n",
       "0                            NaN      NaN                                 NaN  \n",
       "1                            NaN      4.0                                 NaN  \n",
       "2                            NaN      NaN                                 NaN  \n",
       "3                            NaN      NaN                                 NaN  \n",
       "4                            NaN      NaN                                 NaN  \n",
       "\n",
       "[5 rows x 1664 columns]"
      ]
     },
     "execution_count": 25,
     "metadata": {},
     "output_type": "execute_result"
    }
   ],
   "source": [
    "moviemat.head()"
   ]
  },
  {
   "cell_type": "code",
   "execution_count": 26,
   "metadata": {},
   "outputs": [
    {
     "data": {
      "text/html": [
       "<div>\n",
       "<style scoped>\n",
       "    .dataframe tbody tr th:only-of-type {\n",
       "        vertical-align: middle;\n",
       "    }\n",
       "\n",
       "    .dataframe tbody tr th {\n",
       "        vertical-align: top;\n",
       "    }\n",
       "\n",
       "    .dataframe thead th {\n",
       "        text-align: right;\n",
       "    }\n",
       "</style>\n",
       "<table border=\"1\" class=\"dataframe\">\n",
       "  <thead>\n",
       "    <tr style=\"text-align: right;\">\n",
       "      <th></th>\n",
       "      <th>rating</th>\n",
       "      <th>no. of ratings</th>\n",
       "    </tr>\n",
       "    <tr>\n",
       "      <th>title</th>\n",
       "      <th></th>\n",
       "      <th></th>\n",
       "    </tr>\n",
       "  </thead>\n",
       "  <tbody>\n",
       "    <tr>\n",
       "      <th>Star Wars (1977)</th>\n",
       "      <td>4.359589</td>\n",
       "      <td>584</td>\n",
       "    </tr>\n",
       "    <tr>\n",
       "      <th>Contact (1997)</th>\n",
       "      <td>3.803536</td>\n",
       "      <td>509</td>\n",
       "    </tr>\n",
       "    <tr>\n",
       "      <th>Fargo (1996)</th>\n",
       "      <td>4.155512</td>\n",
       "      <td>508</td>\n",
       "    </tr>\n",
       "    <tr>\n",
       "      <th>Return of the Jedi (1983)</th>\n",
       "      <td>4.007890</td>\n",
       "      <td>507</td>\n",
       "    </tr>\n",
       "    <tr>\n",
       "      <th>Liar Liar (1997)</th>\n",
       "      <td>3.156701</td>\n",
       "      <td>485</td>\n",
       "    </tr>\n",
       "    <tr>\n",
       "      <th>English Patient, The (1996)</th>\n",
       "      <td>3.656965</td>\n",
       "      <td>481</td>\n",
       "    </tr>\n",
       "    <tr>\n",
       "      <th>Scream (1996)</th>\n",
       "      <td>3.441423</td>\n",
       "      <td>478</td>\n",
       "    </tr>\n",
       "    <tr>\n",
       "      <th>Toy Story (1995)</th>\n",
       "      <td>3.878319</td>\n",
       "      <td>452</td>\n",
       "    </tr>\n",
       "    <tr>\n",
       "      <th>Air Force One (1997)</th>\n",
       "      <td>3.631090</td>\n",
       "      <td>431</td>\n",
       "    </tr>\n",
       "    <tr>\n",
       "      <th>Independence Day (ID4) (1996)</th>\n",
       "      <td>3.438228</td>\n",
       "      <td>429</td>\n",
       "    </tr>\n",
       "  </tbody>\n",
       "</table>\n",
       "</div>"
      ],
      "text/plain": [
       "                                 rating  no. of ratings\n",
       "title                                                  \n",
       "Star Wars (1977)               4.359589             584\n",
       "Contact (1997)                 3.803536             509\n",
       "Fargo (1996)                   4.155512             508\n",
       "Return of the Jedi (1983)      4.007890             507\n",
       "Liar Liar (1997)               3.156701             485\n",
       "English Patient, The (1996)    3.656965             481\n",
       "Scream (1996)                  3.441423             478\n",
       "Toy Story (1995)               3.878319             452\n",
       "Air Force One (1997)           3.631090             431\n",
       "Independence Day (ID4) (1996)  3.438228             429"
      ]
     },
     "execution_count": 26,
     "metadata": {},
     "output_type": "execute_result"
    }
   ],
   "source": [
    "ratings.sort_values('no. of ratings', ascending=False).head(10)"
   ]
  },
  {
   "cell_type": "code",
   "execution_count": 27,
   "metadata": {},
   "outputs": [],
   "source": [
    "starwars_user_ratings = moviemat['Star Wars (1977)']\n",
    "liarliar_user_ratings = moviemat['Liar Liar (1997)']"
   ]
  },
  {
   "cell_type": "code",
   "execution_count": 28,
   "metadata": {},
   "outputs": [
    {
     "data": {
      "text/plain": [
       "user_id\n",
       "0    5.0\n",
       "1    5.0\n",
       "2    5.0\n",
       "3    NaN\n",
       "4    5.0\n",
       "Name: Star Wars (1977), dtype: float64"
      ]
     },
     "execution_count": 28,
     "metadata": {},
     "output_type": "execute_result"
    }
   ],
   "source": [
    "starwars_user_ratings.head()"
   ]
  },
  {
   "cell_type": "code",
   "execution_count": 29,
   "metadata": {},
   "outputs": [
    {
     "name": "stderr",
     "output_type": "stream",
     "text": [
      "C:\\ProgramData\\Anaconda3\\lib\\site-packages\\numpy\\lib\\function_base.py:2551: RuntimeWarning:\n",
      "\n",
      "Degrees of freedom <= 0 for slice\n",
      "\n",
      "C:\\ProgramData\\Anaconda3\\lib\\site-packages\\numpy\\lib\\function_base.py:2480: RuntimeWarning:\n",
      "\n",
      "divide by zero encountered in true_divide\n",
      "\n"
     ]
    }
   ],
   "source": [
    "similar_to_starwars = moviemat.corrwith(starwars_user_ratings)"
   ]
  },
  {
   "cell_type": "code",
   "execution_count": 30,
   "metadata": {},
   "outputs": [],
   "source": [
    "similar_to_liarliar = moviemat.corrwith(liarliar_user_ratings)"
   ]
  },
  {
   "cell_type": "code",
   "execution_count": 31,
   "metadata": {},
   "outputs": [
    {
     "data": {
      "text/plain": [
       "title\n",
       "'Til There Was You (1997)                0.872872\n",
       "1-900 (1994)                            -0.645497\n",
       "101 Dalmatians (1996)                    0.211132\n",
       "12 Angry Men (1957)                      0.184289\n",
       "187 (1997)                               0.027398\n",
       "                                           ...   \n",
       "Young Guns II (1990)                     0.228615\n",
       "Young Poisoner's Handbook, The (1995)   -0.007374\n",
       "Zeus and Roxanne (1997)                  0.818182\n",
       "unknown                                  0.723123\n",
       "Á köldum klaka (Cold Fever) (1994)            NaN\n",
       "Length: 1664, dtype: float64"
      ]
     },
     "execution_count": 31,
     "metadata": {},
     "output_type": "execute_result"
    }
   ],
   "source": [
    "moviemat.corrwith(starwars_user_ratings)"
   ]
  },
  {
   "cell_type": "code",
   "execution_count": 32,
   "metadata": {},
   "outputs": [],
   "source": [
    "corr_starwars = pd.DataFrame(similar_to_starwars,columns=['Correlation'])\n",
    "corr_starwars.dropna(inplace=True)"
   ]
  },
  {
   "cell_type": "code",
   "execution_count": 33,
   "metadata": {},
   "outputs": [
    {
     "data": {
      "text/html": [
       "<div>\n",
       "<style scoped>\n",
       "    .dataframe tbody tr th:only-of-type {\n",
       "        vertical-align: middle;\n",
       "    }\n",
       "\n",
       "    .dataframe tbody tr th {\n",
       "        vertical-align: top;\n",
       "    }\n",
       "\n",
       "    .dataframe thead th {\n",
       "        text-align: right;\n",
       "    }\n",
       "</style>\n",
       "<table border=\"1\" class=\"dataframe\">\n",
       "  <thead>\n",
       "    <tr style=\"text-align: right;\">\n",
       "      <th></th>\n",
       "      <th>Correlation</th>\n",
       "    </tr>\n",
       "    <tr>\n",
       "      <th>title</th>\n",
       "      <th></th>\n",
       "    </tr>\n",
       "  </thead>\n",
       "  <tbody>\n",
       "    <tr>\n",
       "      <th>Commandments (1997)</th>\n",
       "      <td>1.0</td>\n",
       "    </tr>\n",
       "    <tr>\n",
       "      <th>Cosi (1996)</th>\n",
       "      <td>1.0</td>\n",
       "    </tr>\n",
       "    <tr>\n",
       "      <th>No Escape (1994)</th>\n",
       "      <td>1.0</td>\n",
       "    </tr>\n",
       "    <tr>\n",
       "      <th>Stripes (1981)</th>\n",
       "      <td>1.0</td>\n",
       "    </tr>\n",
       "    <tr>\n",
       "      <th>Man of the Year (1995)</th>\n",
       "      <td>1.0</td>\n",
       "    </tr>\n",
       "    <tr>\n",
       "      <th>Hollow Reed (1996)</th>\n",
       "      <td>1.0</td>\n",
       "    </tr>\n",
       "    <tr>\n",
       "      <th>Beans of Egypt, Maine, The (1994)</th>\n",
       "      <td>1.0</td>\n",
       "    </tr>\n",
       "    <tr>\n",
       "      <th>Good Man in Africa, A (1994)</th>\n",
       "      <td>1.0</td>\n",
       "    </tr>\n",
       "    <tr>\n",
       "      <th>Old Lady Who Walked in the Sea, The (Vieille qui marchait dans la mer, La) (1991)</th>\n",
       "      <td>1.0</td>\n",
       "    </tr>\n",
       "    <tr>\n",
       "      <th>Outlaw, The (1943)</th>\n",
       "      <td>1.0</td>\n",
       "    </tr>\n",
       "  </tbody>\n",
       "</table>\n",
       "</div>"
      ],
      "text/plain": [
       "                                                    Correlation\n",
       "title                                                          \n",
       "Commandments (1997)                                         1.0\n",
       "Cosi (1996)                                                 1.0\n",
       "No Escape (1994)                                            1.0\n",
       "Stripes (1981)                                              1.0\n",
       "Man of the Year (1995)                                      1.0\n",
       "Hollow Reed (1996)                                          1.0\n",
       "Beans of Egypt, Maine, The (1994)                           1.0\n",
       "Good Man in Africa, A (1994)                                1.0\n",
       "Old Lady Who Walked in the Sea, The (Vieille qu...          1.0\n",
       "Outlaw, The (1943)                                          1.0"
      ]
     },
     "execution_count": 33,
     "metadata": {},
     "output_type": "execute_result"
    }
   ],
   "source": [
    "corr_starwars.sort_values('Correlation',ascending=False).head(10)"
   ]
  },
  {
   "cell_type": "code",
   "execution_count": 34,
   "metadata": {},
   "outputs": [],
   "source": [
    "corr_starwars = corr_starwars.join(ratings['no. of ratings'])"
   ]
  },
  {
   "cell_type": "code",
   "execution_count": 35,
   "metadata": {},
   "outputs": [
    {
     "data": {
      "text/html": [
       "<div>\n",
       "<style scoped>\n",
       "    .dataframe tbody tr th:only-of-type {\n",
       "        vertical-align: middle;\n",
       "    }\n",
       "\n",
       "    .dataframe tbody tr th {\n",
       "        vertical-align: top;\n",
       "    }\n",
       "\n",
       "    .dataframe thead th {\n",
       "        text-align: right;\n",
       "    }\n",
       "</style>\n",
       "<table border=\"1\" class=\"dataframe\">\n",
       "  <thead>\n",
       "    <tr style=\"text-align: right;\">\n",
       "      <th></th>\n",
       "      <th>Correlation</th>\n",
       "      <th>no. of ratings</th>\n",
       "    </tr>\n",
       "    <tr>\n",
       "      <th>title</th>\n",
       "      <th></th>\n",
       "      <th></th>\n",
       "    </tr>\n",
       "  </thead>\n",
       "  <tbody>\n",
       "    <tr>\n",
       "      <th>'Til There Was You (1997)</th>\n",
       "      <td>0.872872</td>\n",
       "      <td>9</td>\n",
       "    </tr>\n",
       "    <tr>\n",
       "      <th>1-900 (1994)</th>\n",
       "      <td>-0.645497</td>\n",
       "      <td>5</td>\n",
       "    </tr>\n",
       "    <tr>\n",
       "      <th>101 Dalmatians (1996)</th>\n",
       "      <td>0.211132</td>\n",
       "      <td>109</td>\n",
       "    </tr>\n",
       "    <tr>\n",
       "      <th>12 Angry Men (1957)</th>\n",
       "      <td>0.184289</td>\n",
       "      <td>125</td>\n",
       "    </tr>\n",
       "    <tr>\n",
       "      <th>187 (1997)</th>\n",
       "      <td>0.027398</td>\n",
       "      <td>41</td>\n",
       "    </tr>\n",
       "  </tbody>\n",
       "</table>\n",
       "</div>"
      ],
      "text/plain": [
       "                           Correlation  no. of ratings\n",
       "title                                                 \n",
       "'Til There Was You (1997)     0.872872               9\n",
       "1-900 (1994)                 -0.645497               5\n",
       "101 Dalmatians (1996)         0.211132             109\n",
       "12 Angry Men (1957)           0.184289             125\n",
       "187 (1997)                    0.027398              41"
      ]
     },
     "execution_count": 35,
     "metadata": {},
     "output_type": "execute_result"
    }
   ],
   "source": [
    "corr_starwars.head()"
   ]
  },
  {
   "cell_type": "code",
   "execution_count": 36,
   "metadata": {},
   "outputs": [
    {
     "data": {
      "text/html": [
       "<div>\n",
       "<style scoped>\n",
       "    .dataframe tbody tr th:only-of-type {\n",
       "        vertical-align: middle;\n",
       "    }\n",
       "\n",
       "    .dataframe tbody tr th {\n",
       "        vertical-align: top;\n",
       "    }\n",
       "\n",
       "    .dataframe thead th {\n",
       "        text-align: right;\n",
       "    }\n",
       "</style>\n",
       "<table border=\"1\" class=\"dataframe\">\n",
       "  <thead>\n",
       "    <tr style=\"text-align: right;\">\n",
       "      <th></th>\n",
       "      <th>Correlation</th>\n",
       "      <th>no. of ratings</th>\n",
       "    </tr>\n",
       "    <tr>\n",
       "      <th>title</th>\n",
       "      <th></th>\n",
       "      <th></th>\n",
       "    </tr>\n",
       "  </thead>\n",
       "  <tbody>\n",
       "    <tr>\n",
       "      <th>Star Wars (1977)</th>\n",
       "      <td>1.000000</td>\n",
       "      <td>584</td>\n",
       "    </tr>\n",
       "    <tr>\n",
       "      <th>Empire Strikes Back, The (1980)</th>\n",
       "      <td>0.748353</td>\n",
       "      <td>368</td>\n",
       "    </tr>\n",
       "    <tr>\n",
       "      <th>Return of the Jedi (1983)</th>\n",
       "      <td>0.672556</td>\n",
       "      <td>507</td>\n",
       "    </tr>\n",
       "    <tr>\n",
       "      <th>Raiders of the Lost Ark (1981)</th>\n",
       "      <td>0.536117</td>\n",
       "      <td>420</td>\n",
       "    </tr>\n",
       "    <tr>\n",
       "      <th>Austin Powers: International Man of Mystery (1997)</th>\n",
       "      <td>0.377433</td>\n",
       "      <td>130</td>\n",
       "    </tr>\n",
       "  </tbody>\n",
       "</table>\n",
       "</div>"
      ],
      "text/plain": [
       "                                                    Correlation  \\\n",
       "title                                                             \n",
       "Star Wars (1977)                                       1.000000   \n",
       "Empire Strikes Back, The (1980)                        0.748353   \n",
       "Return of the Jedi (1983)                              0.672556   \n",
       "Raiders of the Lost Ark (1981)                         0.536117   \n",
       "Austin Powers: International Man of Mystery (1997)     0.377433   \n",
       "\n",
       "                                                    no. of ratings  \n",
       "title                                                               \n",
       "Star Wars (1977)                                               584  \n",
       "Empire Strikes Back, The (1980)                                368  \n",
       "Return of the Jedi (1983)                                      507  \n",
       "Raiders of the Lost Ark (1981)                                 420  \n",
       "Austin Powers: International Man of Mystery (1997)             130  "
      ]
     },
     "execution_count": 36,
     "metadata": {},
     "output_type": "execute_result"
    }
   ],
   "source": [
    "corr_starwars[corr_starwars['no. of ratings'] > 100].sort_values(\n",
    "    'Correlation',ascending=False,).head(5)"
   ]
  },
  {
   "cell_type": "code",
   "execution_count": null,
   "metadata": {},
   "outputs": [],
   "source": []
  },
  {
   "cell_type": "code",
   "execution_count": 37,
   "metadata": {},
   "outputs": [
    {
     "data": {
      "text/plain": [
       "user_id\n",
       "0    NaN\n",
       "1    NaN\n",
       "2    1.0\n",
       "3    2.0\n",
       "4    5.0\n",
       "Name: Liar Liar (1997), dtype: float64"
      ]
     },
     "execution_count": 37,
     "metadata": {},
     "output_type": "execute_result"
    }
   ],
   "source": [
    "liarliar_user_ratings.head()"
   ]
  },
  {
   "cell_type": "code",
   "execution_count": 38,
   "metadata": {},
   "outputs": [
    {
     "name": "stderr",
     "output_type": "stream",
     "text": [
      "C:\\ProgramData\\Anaconda3\\lib\\site-packages\\numpy\\lib\\function_base.py:2551: RuntimeWarning:\n",
      "\n",
      "Degrees of freedom <= 0 for slice\n",
      "\n",
      "C:\\ProgramData\\Anaconda3\\lib\\site-packages\\numpy\\lib\\function_base.py:2480: RuntimeWarning:\n",
      "\n",
      "divide by zero encountered in true_divide\n",
      "\n"
     ]
    }
   ],
   "source": [
    "similar_to_liarliar = moviemat.corrwith(liarliar_user_ratings)"
   ]
  },
  {
   "cell_type": "code",
   "execution_count": 39,
   "metadata": {},
   "outputs": [
    {
     "data": {
      "text/plain": [
       "title\n",
       "'Til There Was You (1997)                0.118913\n",
       "1-900 (1994)                                  NaN\n",
       "101 Dalmatians (1996)                    0.469765\n",
       "12 Angry Men (1957)                      0.066272\n",
       "187 (1997)                               0.175145\n",
       "                                           ...   \n",
       "Young Guns II (1990)                     0.352174\n",
       "Young Poisoner's Handbook, The (1995)    0.445016\n",
       "Zeus and Roxanne (1997)                 -0.500000\n",
       "unknown                                  0.870388\n",
       "Á köldum klaka (Cold Fever) (1994)            NaN\n",
       "Length: 1664, dtype: float64"
      ]
     },
     "execution_count": 39,
     "metadata": {},
     "output_type": "execute_result"
    }
   ],
   "source": [
    "similar_to_liarliar"
   ]
  },
  {
   "cell_type": "code",
   "execution_count": 40,
   "metadata": {},
   "outputs": [],
   "source": [
    "corr_liarliar = pd.DataFrame(similar_to_liarliar,columns=['Correlation'])"
   ]
  },
  {
   "cell_type": "code",
   "execution_count": 41,
   "metadata": {},
   "outputs": [],
   "source": [
    "corr_liarliar.dropna(inplace=True)"
   ]
  },
  {
   "cell_type": "code",
   "execution_count": 42,
   "metadata": {},
   "outputs": [],
   "source": [
    "corr_liarliar = corr_liarliar.join(ratings['no. of ratings'])"
   ]
  },
  {
   "cell_type": "code",
   "execution_count": 43,
   "metadata": {},
   "outputs": [
    {
     "data": {
      "text/html": [
       "<div>\n",
       "<style scoped>\n",
       "    .dataframe tbody tr th:only-of-type {\n",
       "        vertical-align: middle;\n",
       "    }\n",
       "\n",
       "    .dataframe tbody tr th {\n",
       "        vertical-align: top;\n",
       "    }\n",
       "\n",
       "    .dataframe thead th {\n",
       "        text-align: right;\n",
       "    }\n",
       "</style>\n",
       "<table border=\"1\" class=\"dataframe\">\n",
       "  <thead>\n",
       "    <tr style=\"text-align: right;\">\n",
       "      <th></th>\n",
       "      <th>Correlation</th>\n",
       "      <th>no. of ratings</th>\n",
       "    </tr>\n",
       "    <tr>\n",
       "      <th>title</th>\n",
       "      <th></th>\n",
       "      <th></th>\n",
       "    </tr>\n",
       "  </thead>\n",
       "  <tbody>\n",
       "    <tr>\n",
       "      <th>Liar Liar (1997)</th>\n",
       "      <td>1.000000</td>\n",
       "      <td>485</td>\n",
       "    </tr>\n",
       "    <tr>\n",
       "      <th>Batman Forever (1995)</th>\n",
       "      <td>0.516968</td>\n",
       "      <td>114</td>\n",
       "    </tr>\n",
       "    <tr>\n",
       "      <th>Mask, The (1994)</th>\n",
       "      <td>0.484650</td>\n",
       "      <td>129</td>\n",
       "    </tr>\n",
       "    <tr>\n",
       "      <th>Down Periscope (1996)</th>\n",
       "      <td>0.472681</td>\n",
       "      <td>101</td>\n",
       "    </tr>\n",
       "    <tr>\n",
       "      <th>Con Air (1997)</th>\n",
       "      <td>0.469828</td>\n",
       "      <td>137</td>\n",
       "    </tr>\n",
       "  </tbody>\n",
       "</table>\n",
       "</div>"
      ],
      "text/plain": [
       "                       Correlation  no. of ratings\n",
       "title                                             \n",
       "Liar Liar (1997)          1.000000             485\n",
       "Batman Forever (1995)     0.516968             114\n",
       "Mask, The (1994)          0.484650             129\n",
       "Down Periscope (1996)     0.472681             101\n",
       "Con Air (1997)            0.469828             137"
      ]
     },
     "execution_count": 43,
     "metadata": {},
     "output_type": "execute_result"
    }
   ],
   "source": [
    "corr_liarliar[corr_liarliar['no. of ratings'] > 100].sort_values('Correlation',\n",
    "                            ascending=False).head()"
   ]
  },
  {
   "cell_type": "code",
   "execution_count": null,
   "metadata": {},
   "outputs": [],
   "source": []
  }
 ],
 "metadata": {
  "kernelspec": {
   "display_name": "Python 3",
   "language": "python",
   "name": "python3"
  },
  "language_info": {
   "codemirror_mode": {
    "name": "ipython",
    "version": 3
   },
   "file_extension": ".py",
   "mimetype": "text/x-python",
   "name": "python",
   "nbconvert_exporter": "python",
   "pygments_lexer": "ipython3",
   "version": "3.8.5"
  }
 },
 "nbformat": 4,
 "nbformat_minor": 4
}
